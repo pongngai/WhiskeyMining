{
 "cells": [
  {
   "cell_type": "code",
   "execution_count": 65,
   "metadata": {},
   "outputs": [],
   "source": [
    "import pandas as pd\n",
    "import numpy as np\n",
    "import requests\n",
    "from io import StringIO\n",
    "import math\n",
    "import csv\n",
    "from sklearn.preprocessing import MinMaxScaler, LabelEncoder\n",
    "from sklearn.decomposition import PCA\n",
    "import matplotlib.pyplot as plt\n",
    "%matplotlib inline"
   ]
  },
  {
   "cell_type": "code",
   "execution_count": 66,
   "metadata": {},
   "outputs": [],
   "source": [
    "#Read CSV file from the url to DataFrame\n",
    "url = \"https://github.com/Brunel-Visualization/Brunel/raw/master/python/examples/data/whiskey.csv\"\n",
    "s = requests.get(url).text\n",
    "whiskey = pd.read_csv(StringIO(s))"
   ]
  },
  {
   "cell_type": "code",
   "execution_count": 67,
   "metadata": {},
   "outputs": [
    {
     "data": {
      "text/html": [
       "<div>\n",
       "<style scoped>\n",
       "    .dataframe tbody tr th:only-of-type {\n",
       "        vertical-align: middle;\n",
       "    }\n",
       "\n",
       "    .dataframe tbody tr th {\n",
       "        vertical-align: top;\n",
       "    }\n",
       "\n",
       "    .dataframe thead th {\n",
       "        text-align: right;\n",
       "    }\n",
       "</style>\n",
       "<table border=\"1\" class=\"dataframe\">\n",
       "  <thead>\n",
       "    <tr style=\"text-align: right;\">\n",
       "      <th></th>\n",
       "      <th>Name</th>\n",
       "      <th>Rating</th>\n",
       "      <th>Country</th>\n",
       "      <th>Category</th>\n",
       "      <th>Price</th>\n",
       "      <th>ABV</th>\n",
       "      <th>Age</th>\n",
       "      <th>Brand</th>\n",
       "    </tr>\n",
       "  </thead>\n",
       "  <tbody>\n",
       "    <tr>\n",
       "      <th>0</th>\n",
       "      <td>Canadian Hunter Canadian Whisky</td>\n",
       "      <td>40.0</td>\n",
       "      <td>Canada</td>\n",
       "      <td>Blended</td>\n",
       "      <td>9.0</td>\n",
       "      <td>40.0</td>\n",
       "      <td>NaN</td>\n",
       "      <td>Canadian Hunter</td>\n",
       "    </tr>\n",
       "    <tr>\n",
       "      <th>1</th>\n",
       "      <td>Canadian LTD Blended Canadian Whiskey</td>\n",
       "      <td>43.0</td>\n",
       "      <td>Canada</td>\n",
       "      <td>Blended</td>\n",
       "      <td>10.0</td>\n",
       "      <td>NaN</td>\n",
       "      <td>NaN</td>\n",
       "      <td>Canadian LTD</td>\n",
       "    </tr>\n",
       "    <tr>\n",
       "      <th>2</th>\n",
       "      <td>Kellan Irish Whiskey</td>\n",
       "      <td>47.0</td>\n",
       "      <td>Ireland</td>\n",
       "      <td>Blended</td>\n",
       "      <td>20.0</td>\n",
       "      <td>40.0</td>\n",
       "      <td>NaN</td>\n",
       "      <td>Kellan</td>\n",
       "    </tr>\n",
       "    <tr>\n",
       "      <th>3</th>\n",
       "      <td>Rich &amp; Rare Canadian Whisky</td>\n",
       "      <td>47.0</td>\n",
       "      <td>Canada</td>\n",
       "      <td>Blended</td>\n",
       "      <td>10.0</td>\n",
       "      <td>NaN</td>\n",
       "      <td>NaN</td>\n",
       "      <td>Rich &amp; Rare</td>\n",
       "    </tr>\n",
       "    <tr>\n",
       "      <th>4</th>\n",
       "      <td>Canadian Mist Blended Canadian Whisky</td>\n",
       "      <td>48.0</td>\n",
       "      <td>Canada</td>\n",
       "      <td>Blended</td>\n",
       "      <td>12.0</td>\n",
       "      <td>40.0</td>\n",
       "      <td>NaN</td>\n",
       "      <td>Canadian Mist</td>\n",
       "    </tr>\n",
       "  </tbody>\n",
       "</table>\n",
       "</div>"
      ],
      "text/plain": [
       "                                    Name  Rating  Country Category  Price  \\\n",
       "0        Canadian Hunter Canadian Whisky    40.0   Canada  Blended    9.0   \n",
       "1  Canadian LTD Blended Canadian Whiskey    43.0   Canada  Blended   10.0   \n",
       "2                   Kellan Irish Whiskey    47.0  Ireland  Blended   20.0   \n",
       "3            Rich & Rare Canadian Whisky    47.0   Canada  Blended   10.0   \n",
       "4  Canadian Mist Blended Canadian Whisky    48.0   Canada  Blended   12.0   \n",
       "\n",
       "    ABV  Age            Brand  \n",
       "0  40.0  NaN  Canadian Hunter  \n",
       "1   NaN  NaN     Canadian LTD  \n",
       "2  40.0  NaN           Kellan  \n",
       "3   NaN  NaN      Rich & Rare  \n",
       "4  40.0  NaN    Canadian Mist  "
      ]
     },
     "execution_count": 67,
     "metadata": {},
     "output_type": "execute_result"
    }
   ],
   "source": [
    "whiskey.head()"
   ]
  },
  {
   "cell_type": "code",
   "execution_count": 68,
   "metadata": {},
   "outputs": [
    {
     "data": {
      "text/plain": [
       "(283, 8)"
      ]
     },
     "execution_count": 68,
     "metadata": {},
     "output_type": "execute_result"
    }
   ],
   "source": [
    "#Show number of record (rows,columns)\n",
    "whiskey.shape"
   ]
  },
  {
   "cell_type": "code",
   "execution_count": 69,
   "metadata": {},
   "outputs": [
    {
     "data": {
      "text/plain": [
       "Name         object\n",
       "Rating      float64\n",
       "Country      object\n",
       "Category     object\n",
       "Price       float64\n",
       "ABV         float64\n",
       "Age         float64\n",
       "Brand        object\n",
       "dtype: object"
      ]
     },
     "execution_count": 69,
     "metadata": {},
     "output_type": "execute_result"
    }
   ],
   "source": [
    "#Show data type of each arttibute\n",
    "whiskey.dtypes"
   ]
  },
  {
   "cell_type": "code",
   "execution_count": 70,
   "metadata": {},
   "outputs": [
    {
     "name": "stdout",
     "output_type": "stream",
     "text": [
      "count    272.000000\n",
      "mean      84.474265\n",
      "std       11.877887\n",
      "min       40.000000\n",
      "25%       80.000000\n",
      "50%       88.000000\n",
      "75%       94.000000\n",
      "max      100.000000\n",
      "Name: Rating, dtype: float64\n",
      "\n",
      "\n",
      "count    279.000000\n",
      "mean      72.483871\n",
      "std       83.992242\n",
      "min        2.000000\n",
      "25%       30.000000\n",
      "50%       50.000000\n",
      "75%       80.000000\n",
      "max      850.000000\n",
      "Name: Price, dtype: float64\n",
      "\n",
      "\n",
      "count    270.000000\n",
      "mean      44.610444\n",
      "std        5.883056\n",
      "min       35.500000\n",
      "25%       40.000000\n",
      "50%       43.000000\n",
      "75%       46.000000\n",
      "max       68.200000\n",
      "Name: ABV, dtype: float64\n",
      "\n",
      "\n",
      "count    174.000000\n",
      "mean      14.339080\n",
      "std        6.322267\n",
      "min        0.000000\n",
      "25%       10.000000\n",
      "50%       14.500000\n",
      "75%       18.000000\n",
      "max       40.000000\n",
      "Name: Age, dtype: float64\n",
      "\n",
      "\n"
     ]
    }
   ],
   "source": [
    "#Describe basic statistic for each numeric attribute\n",
    "for x in ('Rating','Price','ABV','Age'):\n",
    "    print(whiskey[x].describe())\n",
    "    print('\\n')"
   ]
  },
  {
   "cell_type": "code",
   "execution_count": 71,
   "metadata": {},
   "outputs": [
    {
     "name": "stdout",
     "output_type": "stream",
     "text": [
      "count                                             283\n",
      "unique                                            283\n",
      "top       Macallan 21 Year Old Fine Oak Scotch Whisky\n",
      "freq                                                1\n",
      "Name: Name, dtype: object\n",
      "\n",
      "\n",
      "count          283\n",
      "unique           9\n",
      "top       Scotland\n",
      "freq           108\n",
      "Name: Country, dtype: object\n",
      "\n",
      "\n",
      "count         283\n",
      "unique         15\n",
      "top       Blended\n",
      "freq           73\n",
      "Name: Category, dtype: object\n",
      "\n",
      "\n",
      "count          283\n",
      "unique         153\n",
      "top       Balvenie\n",
      "freq             7\n",
      "Name: Brand, dtype: object\n",
      "\n",
      "\n"
     ]
    }
   ],
   "source": [
    "#Describe basic statistic for each norminal attribute\n",
    "for x in ['Name','Country','Category','Brand']:\n",
    "    print(whiskey[x].describe())\n",
    "    print('\\n')"
   ]
  },
  {
   "cell_type": "code",
   "execution_count": 72,
   "metadata": {},
   "outputs": [
    {
     "data": {
      "text/plain": [
       "Name          0\n",
       "Rating       11\n",
       "Country       0\n",
       "Category      0\n",
       "Price         4\n",
       "ABV          13\n",
       "Age         109\n",
       "Brand         0\n",
       "dtype: int64"
      ]
     },
     "execution_count": 72,
     "metadata": {},
     "output_type": "execute_result"
    }
   ],
   "source": [
    "#Show missing values of each attribute\n",
    "whiskey.isnull().sum()"
   ]
  },
  {
   "cell_type": "code",
   "execution_count": 73,
   "metadata": {},
   "outputs": [],
   "source": [
    "#convert nominal data to numeric data\n",
    "lb_encoder = LabelEncoder()\n",
    "whiskey['Country'] = lb_encoder.fit_transform(whiskey['Country'])\n",
    "whiskey['Category'] = lb_encoder.fit_transform(whiskey['Category'])\n",
    "whiskey['Brand'] = lb_encoder.fit_transform(whiskey['Brand'])"
   ]
  },
  {
   "cell_type": "code",
   "execution_count": 74,
   "metadata": {
    "scrolled": true
   },
   "outputs": [],
   "source": [
    "#create numpy array from DataFrame\n",
    "x = whiskey.values"
   ]
  },
  {
   "cell_type": "code",
   "execution_count": 75,
   "metadata": {},
   "outputs": [],
   "source": [
    "#Remove attribute Name because it is identifier attribute\n",
    "x = x[:,1:]"
   ]
  },
  {
   "cell_type": "code",
   "execution_count": 76,
   "metadata": {},
   "outputs": [
    {
     "data": {
      "text/plain": [
       "array([40.0, 43.0, 47.0, 47.0, 48.0, 50.0, 53.0, 54.0, 54.0, 54.0, 56.0,\n",
       "       56.0, 57.0, 57.0, 58.0, 60.0, 60.0, 64.0, 64.0, 65.0, 65.0, 67.0,\n",
       "       67.0, 67.0, 67.0, 67.0, 68.0, 68.0, 69.0, 69.0, 69.0, 69.0, 69.0,\n",
       "       70.0, 70.0, 71.0, 71.0, 72.0, 73.0, 73.0, 74.0, 74.0, 74.0, 74.0,\n",
       "       75.0, 76.0, 76.0, 76.0, 76.0, 76.0, 76.0, 77.0, 77.0, 77.0, 77.0,\n",
       "       77.0, 78.0, 78.0, 78.0, 78.0, 79.0, 79.0, 79.0, 79.0, 80.0, 80.0,\n",
       "       80.0, 80.0, 80.0, 80.0, 81.0, 81.0, 81.0, 81.0, 81.0, 81.0, 81.0,\n",
       "       81.0, 81.0, 81.0, 81.0, 81.0, 81.0, 81.0, 81.0, 81.0, 81.0, 81.0,\n",
       "       82.0, 82.0, 82.0, 82.0, 82.0, 82.0, 82.0, 82.0, 83.0, 83.0, 83.0,\n",
       "       83.0, 83.0, 83.0, 83.0, 83.0, 84.0, 84.0, 84.0, 84.0, 84.0, 84.0,\n",
       "       85.0, 85.0, 85.0, 85.0, 85.0, 85.0, 85.0, 85.0, 86.0, 86.0, 86.0,\n",
       "       86.0, 86.0, 86.0, 86.0, 86.0, 86.0, 87.0, 87.0, 87.0, 87.0, 87.0,\n",
       "       87.0, 87.0, 87.0, 88.0, 88.0, 88.0, 88.0, 88.0, 88.0, 88.0, 88.0,\n",
       "       88.0, 88.0, 88.0, 88.0, 88.0, 88.0, 88.0, 88.0, 88.0, 88.0, 88.0,\n",
       "       88.0, 88.0, 88.0, 88.0, 88.0, 88.0, 88.0, 88.0, 88.0, 88.0, 89.0,\n",
       "       89.0, 89.0, 89.0, 89.0, 89.0, 89.0, 90.0, 90.0, 90.0, 90.0, 90.0,\n",
       "       90.0, 90.0, 90.0, 90.0, 90.0, 90.0, 90.0, 91.0, 91.0, 91.0, 91.0,\n",
       "       91.0, 91.0, 92.0, 92.0, 92.0, 92.0, 92.0, 92.0, 92.0, 92.0, 92.0,\n",
       "       93.0, 93.0, 93.0, 93.0, 94.0, 94.0, 94.0, 94.0, 94.0, 94.0, 94.0,\n",
       "       94.0, 94.0, 94.0, 94.0, 94.0, 94.0, 94.0, 94.0, 95.0, 95.0, 95.0,\n",
       "       96.0, 96.0, 96.0, 96.0, 96.0, 96.0, 96.0, 96.0, 96.0, 96.0, 96.0,\n",
       "       96.0, 96.0, 96.0, 96.0, 96.0, 96.0, 96.0, 96.0, 96.0, 96.0, 96.0,\n",
       "       96.0, 96.0, 96.0, 96.0, 96.0, 96.0, 96.0, 97.0, 99.0, 99.0, 99.0,\n",
       "       99.0, 99.0, 99.0, 99.0, 99.0, 99.0, 99.0, 99.0, 99.0, 99.0, 99.0,\n",
       "       99.0, 99.0, 99.0, 99.0, 99.0, 99.0, 100.0, 100.0, nan, nan, nan,\n",
       "       nan, nan, nan, nan, nan, nan, nan, nan], dtype=object)"
      ]
     },
     "execution_count": 76,
     "metadata": {},
     "output_type": "execute_result"
    }
   ],
   "source": [
    "#Look around the rating attribute\n",
    "x[:,0]"
   ]
  },
  {
   "cell_type": "code",
   "execution_count": 77,
   "metadata": {},
   "outputs": [],
   "source": [
    "#Find median of each numeric attribute\n",
    "med_rating = np.median([xx for xx in x[:,0] if not math.isnan(xx)])\n",
    "med_price = np.median([xx for xx in x[:,3] if not math.isnan(xx)])\n",
    "med_avb = np.median([xx for xx in x[:,4] if not math.isnan(xx)])\n",
    "med_age = np.median([xx for xx in x[:,5] if not math.isnan(xx)])"
   ]
  },
  {
   "cell_type": "code",
   "execution_count": 78,
   "metadata": {},
   "outputs": [],
   "source": [
    "#Create new numpy array that replace the missing values with median (only numeric attributes)\n",
    "rating = np.array([med_rating if math.isnan(xx) else xx for xx in x[:,0]]).reshape(-1,1)\n",
    "price = np.array([med_price if math.isnan(xx) else xx for xx in x[:,3]]).reshape(-1,1)\n",
    "avb = np.array([med_avb if math.isnan(xx) else xx for xx in x[:,4]]).reshape(-1,1)\n",
    "age = np.array([med_age if math.isnan(xx) else xx for xx in x[:,5]]).reshape(-1,1)\n",
    "num_att = np.concatenate((rating, price, avb, age), axis=1)"
   ]
  },
  {
   "cell_type": "code",
   "execution_count": 79,
   "metadata": {},
   "outputs": [],
   "source": [
    "#Define function that return lower and upper outlier of data.\n",
    "def outlier(x):\n",
    "    rating_q1 = np.percentile(x,25)\n",
    "    rating_q3 = np.percentile(x,75)\n",
    "    IQR = rating_q3 - rating_q1\n",
    "    lower_outlier = rating_q1 - (1.5*IQR)\n",
    "    higher_outlier = rating_q3 + (1.5*IQR)\n",
    "    return (lower_outlier, higher_outlier)"
   ]
  },
  {
   "cell_type": "code",
   "execution_count": 80,
   "metadata": {},
   "outputs": [],
   "source": [
    "#Define the function that return parameter without outlier\n",
    "def del_outlier(x):\n",
    "    l, h = outlier(x)\n",
    "    return [i for i,xx in enumerate(x) if xx >= l and xx <= h]\n",
    "\n",
    "def idx_outlier(x):\n",
    "    l, h = zip(*[outlier(x[:,i]) for i in range(x.shape[1])])\n",
    "    idx = [j for i in range(x.shape[1]) for j in range(x.shape[0]) if x[j,i] > h[i] or x[j,i] < l[i]]\n",
    "    return list(set(idx))"
   ]
  },
  {
   "cell_type": "code",
   "execution_count": 81,
   "metadata": {},
   "outputs": [],
   "source": [
    "#Create index of outlier in each attribute\n",
    "rating_idx = del_outlier(rating)\n",
    "price_idx = del_outlier(price)\n",
    "avb_idx = del_outlier(avb)\n",
    "age_idx = del_outlier(age)"
   ]
  },
  {
   "cell_type": "code",
   "execution_count": 82,
   "metadata": {},
   "outputs": [
    {
     "name": "stdout",
     "output_type": "stream",
     "text": [
      "[0, 1, 2, 3, 4, 5, 6, 7, 8, 9, 10, 11, 12, 13, 14, 15, 16, 21, 30, 31, 37, 45, 46, 54, 59, 67, 68, 75, 80, 81, 87, 88, 94, 98, 106, 109, 114, 129, 135, 136, 137, 142, 143, 144, 150, 152, 154, 155, 166, 167, 168, 170, 171, 172, 174, 184, 186, 187, 188, 199, 205, 206, 207, 208, 209, 211, 214, 217, 220, 222, 225, 226, 228, 232, 239, 241, 244, 249, 266, 268, 269, 271, 274, 275, 276, 280, 282]\n"
     ]
    }
   ],
   "source": [
    "#index of outlier from all numeric attribute\n",
    "idx = idx_outlier(num_att)\n",
    "print(idx)"
   ]
  },
  {
   "cell_type": "code",
   "execution_count": 83,
   "metadata": {},
   "outputs": [
    {
     "data": {
      "text/plain": [
       "(196, 4)"
      ]
     },
     "execution_count": 83,
     "metadata": {},
     "output_type": "execute_result"
    }
   ],
   "source": [
    "#delete all outlier rows\n",
    "num_atts = np.delete(num_att, idx, axis=0)\n",
    "num_atts.shape"
   ]
  },
  {
   "cell_type": "code",
   "execution_count": 84,
   "metadata": {},
   "outputs": [
    {
     "name": "stdout",
     "output_type": "stream",
     "text": [
      "[[ 64.    30.    40.    14.5 ]\n",
      " [ 64.    20.    40.    14.5 ]\n",
      " [ 65.    24.    40.    14.5 ]\n",
      " [ 65.    25.    40.    14.5 ]\n",
      " [ 67.    50.    43.    15.  ]\n",
      " [ 67.    60.    40.    14.5 ]\n",
      " [ 67.    65.    40.    18.  ]\n",
      " [ 67.    14.    40.     8.  ]\n",
      " [ 68.    25.    40.    14.5 ]\n",
      " [ 68.    12.    40.    14.5 ]\n",
      " [ 69.    23.    40.    14.5 ]\n",
      " [ 69.    23.    40.    12.  ]\n",
      " [ 69.    20.    40.    14.5 ]\n",
      " [ 70.    45.    43.    12.  ]\n",
      " [ 70.    26.    40.    14.5 ]\n",
      " [ 71.    27.    40.     8.  ]\n",
      " [ 71.    50.    43.     8.  ]\n",
      " [ 73.    84.    40.    18.  ]\n",
      " [ 73.    90.    40.    12.  ]\n",
      " [ 74.    90.    46.    14.5 ]\n",
      " [ 74.    40.    40.    10.  ]\n",
      " [ 74.    50.    45.    14.5 ]\n",
      " [ 74.    58.    40.    19.  ]\n",
      " [ 75.    85.    43.    10.  ]\n",
      " [ 76.    36.    46.    14.5 ]\n",
      " [ 76.    70.    46.    14.5 ]\n",
      " [ 76.    16.    40.    14.5 ]\n",
      " [ 76.    45.    40.    15.  ]\n",
      " [ 77.    50.    43.    15.  ]\n",
      " [ 77.    28.    40.    12.  ]\n",
      " [ 77.    70.    46.    14.5 ]\n",
      " [ 77.    20.    50.     8.  ]\n",
      " [ 78.    75.    45.    18.  ]\n",
      " [ 78.    17.    40.    14.5 ]\n",
      " [ 78.    73.    40.    18.  ]\n",
      " [ 79.    32.    40.    11.  ]\n",
      " [ 79.    41.    46.    14.5 ]\n",
      " [ 79.    26.    43.    12.  ]\n",
      " [ 79.    27.    40.    14.5 ]\n",
      " [ 80.    16.    43.    14.5 ]\n",
      " [ 80.    63.    43.    16.  ]\n",
      " [ 80.    25.    43.    12.  ]\n",
      " [ 80.    36.    40.     8.  ]\n",
      " [ 81.    20.    40.    14.5 ]\n",
      " [ 81.    43.    46.    14.5 ]\n",
      " [ 81.    58.    43.    14.5 ]\n",
      " [ 81.    20.    40.    14.5 ]\n",
      " [ 81.    35.    42.5   14.5 ]\n",
      " [ 81.    25.    40.    14.5 ]\n",
      " [ 81.    40.    40.    14.5 ]\n",
      " [ 81.    60.    42.    14.5 ]\n",
      " [ 81.    55.    41.    14.5 ]\n",
      " [ 81.    69.    40.    10.  ]\n",
      " [ 81.    25.    40.    14.5 ]\n",
      " [ 81.    17.    41.     8.  ]\n",
      " [ 81.    50.    40.    10.  ]\n",
      " [ 81.    28.    40.    14.5 ]\n",
      " [ 82.    50.    40.    14.5 ]\n",
      " [ 82.    70.    40.    14.5 ]\n",
      " [ 82.   100.    43.    18.  ]\n",
      " [ 82.    19.    50.    14.5 ]\n",
      " [ 82.    17.    40.    14.5 ]\n",
      " [ 82.   100.    43.    19.  ]\n",
      " [ 83.    28.    46.    14.5 ]\n",
      " [ 83.    33.    43.    14.5 ]\n",
      " [ 83.    42.    46.    14.5 ]\n",
      " [ 83.    70.    45.    14.5 ]\n",
      " [ 83.    35.    47.    14.5 ]\n",
      " [ 83.    65.    43.    14.  ]\n",
      " [ 83.    60.    43.    10.  ]\n",
      " [ 84.    25.    40.    12.  ]\n",
      " [ 84.    47.    40.    10.  ]\n",
      " [ 84.   100.    40.    15.  ]\n",
      " [ 84.    43.    40.    12.  ]\n",
      " [ 85.    34.    46.    14.5 ]\n",
      " [ 85.    68.    43.    16.  ]\n",
      " [ 85.    98.    54.7   18.  ]\n",
      " [ 85.    65.    50.    14.5 ]\n",
      " [ 85.    39.    40.    10.  ]\n",
      " [ 85.    95.    46.    15.  ]\n",
      " [ 85.    36.    40.    14.5 ]\n",
      " [ 86.    61.    40.    14.5 ]\n",
      " [ 86.    24.    40.    14.5 ]\n",
      " [ 86.    50.    40.    10.  ]\n",
      " [ 86.    43.    43.    12.  ]\n",
      " [ 86.    43.    43.    12.  ]\n",
      " [ 86.    20.    43.     8.  ]\n",
      " [ 86.    24.    45.    14.5 ]\n",
      " [ 86.    40.    40.    12.  ]\n",
      " [ 86.    49.    47.8   15.  ]\n",
      " [ 87.    20.    45.    14.5 ]\n",
      " [ 87.    50.    40.    12.  ]\n",
      " [ 87.    60.    43.    10.  ]\n",
      " [ 87.    50.    43.    10.  ]\n",
      " [ 87.    49.    47.    14.5 ]\n",
      " [ 87.    53.    50.    10.  ]\n",
      " [ 87.    40.    45.    14.5 ]\n",
      " [ 88.    32.    40.    14.5 ]\n",
      " [ 88.    60.    40.    14.5 ]\n",
      " [ 88.   100.    43.    15.  ]\n",
      " [ 88.    35.    40.    14.5 ]\n",
      " [ 88.    48.    43.    14.5 ]\n",
      " [ 88.    40.    40.    14.5 ]\n",
      " [ 88.    45.    46.    14.5 ]\n",
      " [ 88.    25.    42.    14.5 ]\n",
      " [ 88.    48.    40.    14.5 ]\n",
      " [ 88.    40.    40.    12.  ]\n",
      " [ 88.    61.    46.    14.5 ]\n",
      " [ 88.    75.    47.    14.5 ]\n",
      " [ 88.    21.    50.    14.5 ]\n",
      " [ 88.    53.    43.    12.  ]\n",
      " [ 88.   128.    43.    17.  ]\n",
      " [ 88.    27.    45.    14.5 ]\n",
      " [ 88.    34.    45.    14.5 ]\n",
      " [ 88.    50.    47.    12.  ]\n",
      " [ 88.   125.    50.    15.  ]\n",
      " [ 89.    65.    43.    16.  ]\n",
      " [ 89.    35.    40.    12.  ]\n",
      " [ 89.    90.    47.    18.  ]\n",
      " [ 90.   140.    40.    14.5 ]\n",
      " [ 90.    79.    43.    18.  ]\n",
      " [ 90.    70.    43.    15.  ]\n",
      " [ 90.    45.    43.    12.  ]\n",
      " [ 90.    37.    54.1   14.5 ]\n",
      " [ 90.    70.    43.    18.  ]\n",
      " [ 90.    55.    40.    15.  ]\n",
      " [ 90.    90.    47.    17.  ]\n",
      " [ 90.    29.    43.    10.  ]\n",
      " [ 91.    64.    40.    16.  ]\n",
      " [ 91.    75.    46.    14.5 ]\n",
      " [ 92.    67.    46.    15.  ]\n",
      " [ 92.    94.    46.    17.  ]\n",
      " [ 92.    70.    40.    14.5 ]\n",
      " [ 92.    40.    40.    12.  ]\n",
      " [ 92.    47.    46.3   12.  ]\n",
      " [ 92.    45.    40.    15.  ]\n",
      " [ 92.    57.    45.    17.  ]\n",
      " [ 92.   109.    43.    17.  ]\n",
      " [ 92.    47.    48.    14.5 ]\n",
      " [ 93.    39.    40.    10.  ]\n",
      " [ 93.    35.    45.    10.  ]\n",
      " [ 93.    32.    45.    14.5 ]\n",
      " [ 94.   108.    46.3   15.  ]\n",
      " [ 94.   107.    43.    18.  ]\n",
      " [ 94.    60.    46.    16.  ]\n",
      " [ 94.   115.    46.    16.  ]\n",
      " [ 94.    68.    45.82  12.  ]\n",
      " [ 94.    80.    43.    18.  ]\n",
      " [ 94.    45.    43.    12.  ]\n",
      " [ 94.    42.    50.5   14.5 ]\n",
      " [ 95.    47.    40.    10.  ]\n",
      " [ 95.    55.    46.    12.  ]\n",
      " [ 96.    70.    45.    14.5 ]\n",
      " [ 96.    50.    50.05  12.  ]\n",
      " [ 96.    80.    46.2   14.5 ]\n",
      " [ 96.    84.    46.    14.5 ]\n",
      " [ 96.    30.    47.5   14.5 ]\n",
      " [ 96.    43.    40.    12.  ]\n",
      " [ 96.    89.    43.    15.  ]\n",
      " [ 96.    62.    46.    18.  ]\n",
      " [ 96.    73.    43.    17.  ]\n",
      " [ 96.    30.    40.    12.  ]\n",
      " [ 96.    79.    43.    18.  ]\n",
      " [ 96.    43.    46.3   12.  ]\n",
      " [ 96.    54.    40.    14.5 ]\n",
      " [ 96.    48.    43.    15.  ]\n",
      " [ 96.    25.    40.    14.5 ]\n",
      " [ 96.    30.    40.    12.  ]\n",
      " [ 96.    40.    40.    12.  ]\n",
      " [ 96.    65.    48.    16.  ]\n",
      " [ 96.    64.    40.    18.  ]\n",
      " [ 96.    40.    46.    14.5 ]\n",
      " [ 99.    35.    40.    12.  ]\n",
      " [ 99.   120.    43.    18.  ]\n",
      " [ 99.    42.    40.    10.  ]\n",
      " [ 99.    80.    46.    10.  ]\n",
      " [ 99.    92.    46.3   18.  ]\n",
      " [ 99.   107.    48.    18.  ]\n",
      " [ 99.    45.    40.    12.  ]\n",
      " [ 99.   100.    43.    18.  ]\n",
      " [ 99.    60.    43.    14.  ]\n",
      " [ 99.    70.    43.    14.5 ]\n",
      " [ 99.    50.    40.    17.  ]\n",
      " [ 99.    45.    40.    12.  ]\n",
      " [ 99.    45.    48.    14.5 ]\n",
      " [ 99.    70.    43.    15.  ]\n",
      " [ 99.    11.    40.    14.5 ]\n",
      " [ 99.    58.    53.5   15.  ]\n",
      " [ 99.    80.    54.2   14.5 ]\n",
      " [100.    72.    46.    10.  ]\n",
      " [ 88.    92.    43.    12.  ]\n",
      " [ 88.     8.    43.    14.5 ]\n",
      " [ 88.    50.    43.    14.5 ]\n",
      " [ 88.    50.    43.    10.  ]\n",
      " [ 88.    30.    46.    12.  ]\n",
      " [ 88.    40.    45.    18.  ]]\n"
     ]
    }
   ],
   "source": [
    "print(num_atts) # [Rating,Price,ABV,Age]"
   ]
  },
  {
   "cell_type": "code",
   "execution_count": 85,
   "metadata": {},
   "outputs": [
    {
     "name": "stdout",
     "output_type": "stream",
     "text": [
      "100.0\n"
     ]
    }
   ],
   "source": [
    "print(num_atts[189][0])"
   ]
  },
  {
   "cell_type": "code",
   "execution_count": 86,
   "metadata": {},
   "outputs": [],
   "source": [
    "boxplot_rating = []\n",
    "for o in range(0,num_atts.shape[0]):\n",
    "    boxplot_rating.append(num_atts[o][0])"
   ]
  },
  {
   "cell_type": "code",
   "execution_count": 87,
   "metadata": {},
   "outputs": [],
   "source": [
    "myFile = open('Whiskey.csv', 'w')\n",
    "with myFile:\n",
    "    writer = csv.writer(myFile)\n",
    "    writer.writerow(['Rating','Price','ABV','Age'])\n",
    "    writer.writerows(num_atts)"
   ]
  },
  {
   "cell_type": "code",
   "execution_count": 88,
   "metadata": {},
   "outputs": [],
   "source": [
    "x = np.delete(x, idx, axis=0)"
   ]
  },
  {
   "cell_type": "code",
   "execution_count": 89,
   "metadata": {},
   "outputs": [],
   "source": [
    "x[:,0] = num_atts[:,0]\n",
    "x[:,3:6] = num_atts[:,1:]"
   ]
  },
  {
   "cell_type": "code",
   "execution_count": 90,
   "metadata": {},
   "outputs": [
    {
     "name": "stderr",
     "output_type": "stream",
     "text": [
      "C:\\ProgramData\\Anaconda3\\lib\\site-packages\\sklearn\\utils\\validation.py:475: DataConversionWarning: Data with input dtype object was converted to float64 by MinMaxScaler.\n",
      "  warnings.warn(msg, DataConversionWarning)\n"
     ]
    }
   ],
   "source": [
    "#normalize data\n",
    "x = MinMaxScaler().fit_transform(x)"
   ]
  },
  {
   "cell_type": "code",
   "execution_count": 91,
   "metadata": {},
   "outputs": [],
   "source": [
    "df = pd.DataFrame(x)"
   ]
  },
  {
   "cell_type": "code",
   "execution_count": 92,
   "metadata": {},
   "outputs": [],
   "source": [
    "cor = df.corr()"
   ]
  },
  {
   "cell_type": "code",
   "execution_count": 93,
   "metadata": {
    "scrolled": true
   },
   "outputs": [
    {
     "name": "stdout",
     "output_type": "stream",
     "text": [
      "0    1.000000\n",
      "1    0.411621\n",
      "2    0.257011\n",
      "3    0.307365\n",
      "4    0.300272\n",
      "5    0.103229\n",
      "6    0.034191\n",
      "Name: 0, dtype: float64\n"
     ]
    }
   ],
   "source": [
    "#correlation with Brand(col 6) close to 0 (didnt co-relate with rating), so we drop column 6\n",
    "print(cor.iloc[0])\n",
    "x = np.delete(x, 6, axis=1)"
   ]
  },
  {
   "cell_type": "code",
   "execution_count": 95,
   "metadata": {},
   "outputs": [],
   "source": [
    "#call dataframe for histogram (fr)\n",
    "whiskeydf =pd.read_csv(\"https://github.com/Brunel-Visualization/Brunel/raw/master/python/examples/data/whiskey.csv\")"
   ]
  },
  {
   "cell_type": "code",
   "execution_count": 97,
   "metadata": {
    "scrolled": false
   },
   "outputs": [
    {
     "data": {
      "image/png": "[encoded data removed]",
      "text/plain": [
       "<Figure size 432x288 with 1 Axes>"
      ]
     },
     "metadata": {
      "needs_background": "light"
     },
     "output_type": "display_data"
    }
   ],
   "source": [
    "###histogram for Rating bin size = 7\n",
    "whiskeydf.Rating.hist(bins=7, rwidth=0.8);\n",
    "plt.xlabel('Rating');\n",
    "plt.ylabel('Frequency');"
   ]
  },
  {
   "cell_type": "code",
   "execution_count": 98,
   "metadata": {
    "scrolled": true
   },
   "outputs": [
    {
     "data": {
      "image/png": "[encoded data removed]",
      "text/plain": [
       "<Figure size 432x288 with 1 Axes>"
      ]
     },
     "metadata": {
      "needs_background": "light"
     },
     "output_type": "display_data"
    }
   ],
   "source": [
    "###histogram for Rating bin size = 25\n",
    "whiskeydf.Price.hist(bins=25, rwidth=0.8);\n",
    "plt.xlabel('Price');\n",
    "plt.ylabel('Frequency');\n",
    "plt.ylim([0,110]);"
   ]
  },
  {
   "cell_type": "code",
   "execution_count": 99,
   "metadata": {
    "scrolled": true
   },
   "outputs": [
    {
     "data": {
      "image/png": "[encoded data removed]",
      "text/plain": [
       "<Figure size 432x288 with 1 Axes>"
      ]
     },
     "metadata": {
      "needs_background": "light"
     },
     "output_type": "display_data"
    }
   ],
   "source": [
    "###histogram for ABV bin size = 7\n",
    "whiskeydf.ABV.hist(bins=7, rwidth=0.8);\n",
    "plt.xlabel('ABV');\n",
    "plt.ylabel('Frequency');"
   ]
  },
  {
   "cell_type": "code",
   "execution_count": 113,
   "metadata": {
    "scrolled": false
   },
   "outputs": [
    {
     "data": {
      "image/png": "[encoded data removed]",
      "text/plain": [
       "<Figure size 432x288 with 1 Axes>"
      ]
     },
     "metadata": {
      "needs_background": "light"
     },
     "output_type": "display_data"
    }
   ],
   "source": [
    "###histogram for Age bin size = 8\n",
    "whiskeydf.Age.hist(bins=8, rwidth=0.8);\n",
    "plt.xlabel('Age');\n",
    "plt.ylabel('Frequency');"
   ]
  },
  {
   "cell_type": "code",
   "execution_count": 101,
   "metadata": {
    "scrolled": true
   },
   "outputs": [
    {
     "data": {
      "image/png": "[encoded data removed]",
      "text/plain": [
       "<Figure size 432x288 with 1 Axes>"
      ]
     },
     "metadata": {
      "needs_background": "light"
     },
     "output_type": "display_data"
    }
   ],
   "source": [
    "###histogram for Country \n",
    "whiskeydf['Country'].value_counts().plot.bar();\n",
    "plt.xlabel('Country');\n",
    "plt.ylabel('Frequency');"
   ]
  },
  {
   "cell_type": "code",
   "execution_count": 102,
   "metadata": {
    "scrolled": false
   },
   "outputs": [
    {
     "data": {
      "image/png": "[encoded data removed]",
      "text/plain": [
       "<Figure size 432x288 with 1 Axes>"
      ]
     },
     "metadata": {
      "needs_background": "light"
     },
     "output_type": "display_data"
    }
   ],
   "source": [
    "###histogram for Category\n",
    "whiskeydf['Category'].value_counts().plot.bar();\n",
    "plt.xlabel('Category');\n",
    "plt.ylabel('Frequency');"
   ]
  },
  {
   "cell_type": "code",
   "execution_count": null,
   "metadata": {},
   "outputs": [],
   "source": []
  }
 ],
 "metadata": {
  "kernelspec": {
   "display_name": "Python 3",
   "language": "python",
   "name": "python3"
  },
  "language_info": {
   "codemirror_mode": {
    "name": "ipython",
    "version": 3
   },
   "file_extension": ".py",
   "mimetype": "text/x-python",
   "name": "python",
   "nbconvert_exporter": "python",
   "pygments_lexer": "ipython3",
   "version": "3.7.0"
  }
 },
 "nbformat": 4,
 "nbformat_minor": 2
}

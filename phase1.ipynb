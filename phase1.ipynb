{
 "cells": [
  {
   "cell_type": "code",
   "execution_count": 1,
   "metadata": {},
   "outputs": [],
   "source": [
    "import pandas as pd\n",
    "import numpy as np\n",
    "import requests\n",
    "from io import StringIO\n",
    "import math\n",
    "import csv\n",
    "from sklearn.preprocessing import MinMaxScaler, LabelEncoder\n",
    "from sklearn.decomposition import PCA\n",
    "import matplotlib.pyplot as plt\n",
    "import plotly.plotly as py\n",
    "import plotly.graph_objs as go\n",
    "py.sign_in('pongngai', 'nkOGg4Ym3J1JFb6yu27O')\n",
    "%matplotlib inline"
   ]
  },
  {
   "cell_type": "markdown",
   "metadata": {},
   "source": [
    "Task 0: Loading data to DataFrame"
   ]
  },
  {
   "cell_type": "code",
   "execution_count": 3,
   "metadata": {},
   "outputs": [],
   "source": [
    "#Read CSV file from the url to DataFrame\n",
    "url = \"https://github.com/Brunel-Visualization/Brunel/raw/master/python/examples/data/whiskey.csv\"\n",
    "s = requests.get(url).text\n",
    "whisky = pd.read_csv(StringIO(s))"
   ]
  },
  {
   "cell_type": "markdown",
   "metadata": {},
   "source": [
    "Task 1: Looking around dataset"
   ]
  },
  {
   "cell_type": "code",
   "execution_count": 38,
   "metadata": {},
   "outputs": [
    {
     "data": {
      "text/plain": [
       "(283, 8)"
      ]
     },
     "execution_count": 38,
     "metadata": {},
     "output_type": "execute_result"
    }
   ],
   "source": [
    "whisky.shape"
   ]
  },
  {
   "cell_type": "code",
   "execution_count": 5,
   "metadata": {},
   "outputs": [
    {
     "data": {
      "text/html": [
       "<div>\n",
       "<style scoped>\n",
       "    .dataframe tbody tr th:only-of-type {\n",
       "        vertical-align: middle;\n",
       "    }\n",
       "\n",
       "    .dataframe tbody tr th {\n",
       "        vertical-align: top;\n",
       "    }\n",
       "\n",
       "    .dataframe thead th {\n",
       "        text-align: right;\n",
       "    }\n",
       "</style>\n",
       "<table border=\"1\" class=\"dataframe\">\n",
       "  <thead>\n",
       "    <tr style=\"text-align: right;\">\n",
       "      <th></th>\n",
       "      <th>Name</th>\n",
       "      <th>Rating</th>\n",
       "      <th>Country</th>\n",
       "      <th>Category</th>\n",
       "      <th>Price</th>\n",
       "      <th>ABV</th>\n",
       "      <th>Age</th>\n",
       "      <th>Brand</th>\n",
       "    </tr>\n",
       "  </thead>\n",
       "  <tbody>\n",
       "    <tr>\n",
       "      <th>0</th>\n",
       "      <td>Canadian Hunter Canadian Whisky</td>\n",
       "      <td>40.0</td>\n",
       "      <td>Canada</td>\n",
       "      <td>Blended</td>\n",
       "      <td>9.0</td>\n",
       "      <td>40.0</td>\n",
       "      <td>NaN</td>\n",
       "      <td>Canadian Hunter</td>\n",
       "    </tr>\n",
       "    <tr>\n",
       "      <th>1</th>\n",
       "      <td>Canadian LTD Blended Canadian Whiskey</td>\n",
       "      <td>43.0</td>\n",
       "      <td>Canada</td>\n",
       "      <td>Blended</td>\n",
       "      <td>10.0</td>\n",
       "      <td>NaN</td>\n",
       "      <td>NaN</td>\n",
       "      <td>Canadian LTD</td>\n",
       "    </tr>\n",
       "    <tr>\n",
       "      <th>2</th>\n",
       "      <td>Kellan Irish Whiskey</td>\n",
       "      <td>47.0</td>\n",
       "      <td>Ireland</td>\n",
       "      <td>Blended</td>\n",
       "      <td>20.0</td>\n",
       "      <td>40.0</td>\n",
       "      <td>NaN</td>\n",
       "      <td>Kellan</td>\n",
       "    </tr>\n",
       "    <tr>\n",
       "      <th>3</th>\n",
       "      <td>Rich &amp; Rare Canadian Whisky</td>\n",
       "      <td>47.0</td>\n",
       "      <td>Canada</td>\n",
       "      <td>Blended</td>\n",
       "      <td>10.0</td>\n",
       "      <td>NaN</td>\n",
       "      <td>NaN</td>\n",
       "      <td>Rich &amp; Rare</td>\n",
       "    </tr>\n",
       "    <tr>\n",
       "      <th>4</th>\n",
       "      <td>Canadian Mist Blended Canadian Whisky</td>\n",
       "      <td>48.0</td>\n",
       "      <td>Canada</td>\n",
       "      <td>Blended</td>\n",
       "      <td>12.0</td>\n",
       "      <td>40.0</td>\n",
       "      <td>NaN</td>\n",
       "      <td>Canadian Mist</td>\n",
       "    </tr>\n",
       "  </tbody>\n",
       "</table>\n",
       "</div>"
      ],
      "text/plain": [
       "                                    Name  Rating  Country Category  Price  \\\n",
       "0        Canadian Hunter Canadian Whisky    40.0   Canada  Blended    9.0   \n",
       "1  Canadian LTD Blended Canadian Whiskey    43.0   Canada  Blended   10.0   \n",
       "2                   Kellan Irish Whiskey    47.0  Ireland  Blended   20.0   \n",
       "3            Rich & Rare Canadian Whisky    47.0   Canada  Blended   10.0   \n",
       "4  Canadian Mist Blended Canadian Whisky    48.0   Canada  Blended   12.0   \n",
       "\n",
       "    ABV  Age            Brand  \n",
       "0  40.0  NaN  Canadian Hunter  \n",
       "1   NaN  NaN     Canadian LTD  \n",
       "2  40.0  NaN           Kellan  \n",
       "3   NaN  NaN      Rich & Rare  \n",
       "4  40.0  NaN    Canadian Mist  "
      ]
     },
     "execution_count": 5,
     "metadata": {},
     "output_type": "execute_result"
    }
   ],
   "source": [
    "whisky.head()"
   ]
  },
  {
   "cell_type": "code",
   "execution_count": 6,
   "metadata": {},
   "outputs": [
    {
     "data": {
      "text/html": [
       "<div>\n",
       "<style scoped>\n",
       "    .dataframe tbody tr th:only-of-type {\n",
       "        vertical-align: middle;\n",
       "    }\n",
       "\n",
       "    .dataframe tbody tr th {\n",
       "        vertical-align: top;\n",
       "    }\n",
       "\n",
       "    .dataframe thead th {\n",
       "        text-align: right;\n",
       "    }\n",
       "</style>\n",
       "<table border=\"1\" class=\"dataframe\">\n",
       "  <thead>\n",
       "    <tr style=\"text-align: right;\">\n",
       "      <th></th>\n",
       "      <th>Rating</th>\n",
       "      <th>Price</th>\n",
       "      <th>ABV</th>\n",
       "      <th>Age</th>\n",
       "    </tr>\n",
       "  </thead>\n",
       "  <tbody>\n",
       "    <tr>\n",
       "      <th>count</th>\n",
       "      <td>272.000000</td>\n",
       "      <td>279.000000</td>\n",
       "      <td>270.000000</td>\n",
       "      <td>174.000000</td>\n",
       "    </tr>\n",
       "    <tr>\n",
       "      <th>mean</th>\n",
       "      <td>84.474265</td>\n",
       "      <td>72.483871</td>\n",
       "      <td>44.610444</td>\n",
       "      <td>14.339080</td>\n",
       "    </tr>\n",
       "    <tr>\n",
       "      <th>std</th>\n",
       "      <td>11.877887</td>\n",
       "      <td>83.992242</td>\n",
       "      <td>5.883056</td>\n",
       "      <td>6.322267</td>\n",
       "    </tr>\n",
       "    <tr>\n",
       "      <th>min</th>\n",
       "      <td>40.000000</td>\n",
       "      <td>2.000000</td>\n",
       "      <td>35.500000</td>\n",
       "      <td>0.000000</td>\n",
       "    </tr>\n",
       "    <tr>\n",
       "      <th>25%</th>\n",
       "      <td>80.000000</td>\n",
       "      <td>30.000000</td>\n",
       "      <td>40.000000</td>\n",
       "      <td>10.000000</td>\n",
       "    </tr>\n",
       "    <tr>\n",
       "      <th>50%</th>\n",
       "      <td>88.000000</td>\n",
       "      <td>50.000000</td>\n",
       "      <td>43.000000</td>\n",
       "      <td>14.500000</td>\n",
       "    </tr>\n",
       "    <tr>\n",
       "      <th>75%</th>\n",
       "      <td>94.000000</td>\n",
       "      <td>80.000000</td>\n",
       "      <td>46.000000</td>\n",
       "      <td>18.000000</td>\n",
       "    </tr>\n",
       "    <tr>\n",
       "      <th>max</th>\n",
       "      <td>100.000000</td>\n",
       "      <td>850.000000</td>\n",
       "      <td>68.200000</td>\n",
       "      <td>40.000000</td>\n",
       "    </tr>\n",
       "  </tbody>\n",
       "</table>\n",
       "</div>"
      ],
      "text/plain": [
       "           Rating       Price         ABV         Age\n",
       "count  272.000000  279.000000  270.000000  174.000000\n",
       "mean    84.474265   72.483871   44.610444   14.339080\n",
       "std     11.877887   83.992242    5.883056    6.322267\n",
       "min     40.000000    2.000000   35.500000    0.000000\n",
       "25%     80.000000   30.000000   40.000000   10.000000\n",
       "50%     88.000000   50.000000   43.000000   14.500000\n",
       "75%     94.000000   80.000000   46.000000   18.000000\n",
       "max    100.000000  850.000000   68.200000   40.000000"
      ]
     },
     "execution_count": 6,
     "metadata": {},
     "output_type": "execute_result"
    }
   ],
   "source": [
    "whisky.describe()"
   ]
  },
  {
   "cell_type": "code",
   "execution_count": 11,
   "metadata": {},
   "outputs": [
    {
     "name": "stdout",
     "output_type": "stream",
     "text": [
      "<class 'pandas.core.frame.DataFrame'>\n",
      "RangeIndex: 283 entries, 0 to 282\n",
      "Data columns (total 8 columns):\n",
      "Name        283 non-null object\n",
      "Rating      272 non-null float64\n",
      "Country     283 non-null object\n",
      "Category    283 non-null object\n",
      "Price       279 non-null float64\n",
      "ABV         270 non-null float64\n",
      "Age         174 non-null float64\n",
      "Brand       283 non-null object\n",
      "dtypes: float64(4), object(4)\n",
      "memory usage: 17.8+ KB\n"
     ]
    }
   ],
   "source": [
    "whisky.info()"
   ]
  },
  {
   "cell_type": "code",
   "execution_count": 19,
   "metadata": {},
   "outputs": [],
   "source": [
    "categories = set(whisky['Category'])\n",
    "countries = set(whisky['Country'])\n",
    "names = set(whisky['Name'])\n",
    "brands = set(whisky['Brand'])"
   ]
  },
  {
   "cell_type": "code",
   "execution_count": 32,
   "metadata": {},
   "outputs": [
    {
     "name": "stdout",
     "output_type": "stream",
     "text": [
      "Categories: {'Speyside', 'Single Malt', 'Flavored', 'Blended', 'Unaged', 'Pure Pot Still', 'Corn', 'Campbeltown', 'Rye', 'Grain', 'Lowlands', 'Bourbon', 'Islands', 'Islay', 'Highlands'}\n"
     ]
    }
   ],
   "source": [
    "print(\"Categories:\", categories)"
   ]
  },
  {
   "cell_type": "code",
   "execution_count": 33,
   "metadata": {},
   "outputs": [
    {
     "name": "stdout",
     "output_type": "stream",
     "text": [
      "Counties: {'Ireland', 'England', 'India', 'Scotland', 'USA', 'Taiwan', 'France', 'Japan', 'Canada'}\n"
     ]
    }
   ],
   "source": [
    "print(\"Counties:\", countries)"
   ]
  },
  {
   "cell_type": "code",
   "execution_count": 34,
   "metadata": {},
   "outputs": [
    {
     "name": "stdout",
     "output_type": "stream",
     "text": [
      "Brands: {'Smooth Ambler', 'Chivas Regal', 'Old Forester', 'George T. Stagg', 'Lagavulin', 'Famous Grouse', 'William Larue Weller', 'Ellington', 'Old Pulteney', 'Kingdom', 'Midleton', 'Collingwood', 'Cedar Ridge', 'Michael Collins', 'Mickey Finn', \"Wiser's\", 'P & M', 'Slane Castle', 'Connemara', 'Royal Canadian', 'Aberfeldy', 'Powers', 'Breckenridge', 'William Grant & Sons', 'Buffalo Trace', 'Downslope', 'Talisker', 'Elijah Craig', 'Speyburn', '8 Seconds', 'Glendullan', 'Canadian Hunter', 'Balcones', 'Eagle', \"Jack Daniel's\", 'Kavalan', 'Blanton', \"Bell's\", 'Hudson', 'Middle West', 'High West', 'Suntory', 'Ancnoc', 'Pescadores', 'Kellan', 'A.H. Hirsch', 'Macallan', 'Oban', 'Isle of Jura', 'Cardhu', 'Yamazaki', 'Glenmorangie', \"Russell's\", 'Stillhouse', 'Feckin', 'Pappy Van Winkle', 'Tobermory', 'Redbreast', 'Delaware Phoenix', 'Bunnahabhain', 'Canadian LTD', 'The Irishman', 'Kansas Spirit', 'Thomas H. Handy', 'Benchmark', \"Noah's Mill\", 'Wolfhound', 'Amrut', 'Knob creek', 'Black Maple Hill', 'Balblair', 'John L. Sullivan', 'Whyte & Mackay', 'Ledaig', \"Seagram's\", 'Ardbeg', 'Glengoyne', 'Glenlivet', 'Bowman', 'Texas Crown', 'Bushmills', 'Glen Grant', 'Crown Royal', 'Royal Salute', 'Springbank', 'George Dickel', 'Corsair', 'Ardmore', 'Elmer T Lee', 'Garrison Brothers', \"Maker's Mark\", 'Barton', 'Hood River', 'Glenora', 'Deanston', 'Jameson', 'Price Edward', 'Tyrconnell', 'Penderyn', 'Catoctin Creek', 'Evan Williams', 'Ridgemont Reserve', 'Rebel Yell', 'Dalwhinnie', 'Forty Creek', 'Rogue', 'Auchentoshan', 'Bowmore', 'Tweeddale', 'Early Times', 'Templeton', 'Balvenie', 'Caol Ila', 'Leopold Bros.', 'Longrow', 'Glenrothes', 'Dalmore', 'Jim Beam', \"Rowan's Creek\", 'Four Roses', 'Glen Garioch', 'Kilbeggan', 'Origine', 'Jefferson', 'Copper Fox', 'Black Velvet', 'Tomatin', \"Parker's Heritage\", 'Glenfiddich', 'Charter', 'Haig', 'Rich & Rare', 'Canadian Club', 'Bulleit', 'Old Parr', 'Sazerac', 'Canadian Mist', 'Laphroaig', 'Basil Hayden', 'Aberlour', 'Highland Park', 'Glen Breton', 'McAdams', 'Wild Turkey', 'Greenore', 'Woodford Reserve', 'Thirteen Colony', 'Abraham Bowman', 'Johnnie Walker', 'Buchanan', 'Tullamore', \"Booker's\", 'Danfield'}\n"
     ]
    }
   ],
   "source": [
    "print(\"Brands:\", brands)"
   ]
  },
  {
   "cell_type": "code",
   "execution_count": 35,
   "metadata": {},
   "outputs": [
    {
     "name": "stdout",
     "output_type": "stream",
     "text": [
      "First 10 names: ['Elmer T Lee Bourbon Whiskey', 'Michael Collins 10 Year Old Single Malt Irish Whiskey', 'Bushmills Original Irish Whiskey', 'Jim Beam Kentucky Straight Bourbon Whiskey', 'Aberlour 18 Year Old Single Malt Scotch', \"Booker's True Barrel Bourbon\", 'Hudson Single Malt Whiskey', 'Tullamore Dew Irish Whiskey', 'Four Roses Single Barrel Kentucky Straight Bourbon', 'Crown Royal Canadian Whisky']\n"
     ]
    }
   ],
   "source": [
    "print(\"First 10 names:\", list(names)[:10])"
   ]
  },
  {
   "cell_type": "markdown",
   "metadata": {},
   "source": [
    "Task 2: Investigae missing data"
   ]
  },
  {
   "cell_type": "code",
   "execution_count": 36,
   "metadata": {},
   "outputs": [],
   "source": [
    "data = whisky.values"
   ]
  },
  {
   "cell_type": "code",
   "execution_count": 52,
   "metadata": {},
   "outputs": [
    {
     "name": "stdout",
     "output_type": "stream",
     "text": [
      "(283, 4)\n"
     ]
    }
   ],
   "source": [
    "#columns 1, 4- 6 are numeric\n",
    "x = np.concatenate((data[:,1].reshape(-1,1), data[:,4:7]),axis=1)\n",
    "print(x.shape)"
   ]
  },
  {
   "cell_type": "code",
   "execution_count": 53,
   "metadata": {},
   "outputs": [
    {
     "name": "stdout",
     "output_type": "stream",
     "text": [
      "Median's rating: 88.0\n",
      "Median's price: 50.0\n",
      "Median's avb: 43.0\n",
      "Median's age: 14.5\n"
     ]
    }
   ],
   "source": [
    "#Find median of each numeric attribute\n",
    "med_rating = np.median([xx for xx in x[:,0] if not math.isnan(xx)])\n",
    "med_price = np.median([xx for xx in x[:,1] if not math.isnan(xx)])\n",
    "med_avb = np.median([xx for xx in x[:,2] if not math.isnan(xx)])\n",
    "med_age = np.median([xx for xx in x[:,3] if not math.isnan(xx)])\n",
    "\n",
    "print(\"Median's rating:\", med_rating)\n",
    "print(\"Median's price:\", med_price)\n",
    "print(\"Median's avb:\", med_avb)\n",
    "print(\"Median's age:\", med_age)"
   ]
  },
  {
   "cell_type": "code",
   "execution_count": 56,
   "metadata": {},
   "outputs": [
    {
     "name": "stdout",
     "output_type": "stream",
     "text": [
      "Median after replacing: [88.  50.  43.  14.5]\n"
     ]
    }
   ],
   "source": [
    "#replace nan with median\n",
    "rating = np.array([med_rating if math.isnan(xx) else xx for xx in x[:,0]]).reshape(-1,1)\n",
    "price = np.array([med_price if math.isnan(xx) else xx for xx in x[:,1]]).reshape(-1,1)\n",
    "avb = np.array([med_avb if math.isnan(xx) else xx for xx in x[:,2]]).reshape(-1,1)\n",
    "age = np.array([med_age if math.isnan(xx) else xx for xx in x[:,3]]).reshape(-1,1)\n",
    "x = np.concatenate((rating, price, avb, age), axis=1)\n",
    "print(\"Median after replacing:\",np.median(x,axis=0))"
   ]
  },
  {
   "cell_type": "markdown",
   "metadata": {},
   "source": [
    "Task 3: Investigae missing data"
   ]
  },
  {
   "cell_type": "code",
   "execution_count": 57,
   "metadata": {},
   "outputs": [],
   "source": [
    "def outlier(x):\n",
    "    rating_q1 = np.percentile(x,25)\n",
    "    rating_q3 = np.percentile(x,75)\n",
    "    IQR = rating_q3 - rating_q1\n",
    "    lower_outlier = rating_q1 - (1.5*IQR)\n",
    "    higher_outlier = rating_q3 + (1.5*IQR)\n",
    "    return (lower_outlier, higher_outlier)"
   ]
  },
  {
   "cell_type": "code",
   "execution_count": 87,
   "metadata": {},
   "outputs": [],
   "source": [
    "#Define the function that return index of outliers\n",
    "def del_outlier(x):\n",
    "    l, h = outlier(x)\n",
    "    return [i for i,xx in enumerate(x) if xx < l or xx > h], l, h"
   ]
  },
  {
   "cell_type": "code",
   "execution_count": 88,
   "metadata": {},
   "outputs": [],
   "source": [
    "#Create index of outlier in each attribute\n",
    "rating_idx, lrate, hrate = del_outlier(x[:,0])\n",
    "price_idx, lprice, hprice = del_outlier(x[:,1])\n",
    "avb_idx, lavb, havb = del_outlier(x[:,2])\n",
    "age_idx, lage, hage = del_outlier(x[:,3])"
   ]
  },
  {
   "cell_type": "code",
   "execution_count": 89,
   "metadata": {},
   "outputs": [
    {
     "name": "stdout",
     "output_type": "stream",
     "text": [
      "Rating => lower outlier: 63.0 ,upper outlier: 111.0\n",
      "Price => lower outlier: -44.25 ,upper outlier: 153.75\n",
      "AVB => lower outlier: 31.0 ,upper outlier: 55.0\n",
      "Age => lower outlier: 7.5 ,upper outlier: 19.5\n"
     ]
    }
   ],
   "source": [
    "print(\"Rating => lower outlier:\", lrate, \",upper outlier:\", hrate)\n",
    "print(\"Price => lower outlier:\", lprice, \",upper outlier:\", hprice)\n",
    "print(\"AVB => lower outlier:\", lavb, \",upper outlier:\", havb)\n",
    "print(\"Age => lower outlier:\", lage, \",upper outlier:\", hage)"
   ]
  },
  {
   "cell_type": "code",
   "execution_count": 117,
   "metadata": {
    "scrolled": true
   },
   "outputs": [
    {
     "name": "stdout",
     "output_type": "stream",
     "text": [
      "Rating outlier index: [0, 1, 2, 3, 4, 5, 6, 7, 8, 9, 10, 11, 12, 13, 14, 15, 16] \n",
      "\n",
      "Price outlier index: [54, 98, 106, 109, 143, 152, 167, 168, 170, 171, 172, 186, 209, 214, 220, 225, 226, 232, 241, 271, 275, 280] \n",
      "\n",
      "AVB outlier index: [59, 67, 68, 75, 88, 136, 137, 143, 144, 154, 174, 188, 207, 222, 225, 239, 244, 266, 268, 269, 276, 282] \n",
      "\n",
      "Age outlier index: [6, 8, 12, 21, 30, 31, 37, 45, 46, 67, 80, 81, 87, 94, 109, 114, 129, 135, 142, 150, 152, 155, 166, 168, 170, 172, 174, 184, 186, 187, 199, 205, 206, 208, 209, 211, 214, 217, 220, 225, 226, 228, 232, 241, 249, 266, 274, 275] \n",
      "\n",
      "All outlier index:  {0, 1, 2, 3, 4, 5, 6, 7, 8, 9, 10, 11, 12, 13, 14, 15, 16, 21, 30, 31, 37, 45, 46, 54, 59, 67, 68, 75, 80, 81, 87, 88, 94, 98, 106, 109, 114, 129, 135, 136, 137, 142, 143, 144, 150, 152, 154, 155, 166, 167, 168, 170, 171, 172, 174, 184, 186, 187, 188, 199, 205, 206, 207, 208, 209, 211, 214, 217, 220, 222, 225, 226, 228, 232, 239, 241, 244, 249, 266, 268, 269, 271, 274, 275, 276, 280, 282}\n"
     ]
    }
   ],
   "source": [
    "print(\"Rating outlier index:\", rating_idx,\"\\n\")\n",
    "print(\"Price outlier index:\", price_idx,\"\\n\")\n",
    "print(\"AVB outlier index:\", avb_idx,\"\\n\")\n",
    "print(\"Age outlier index:\", age_idx,\"\\n\")\n",
    "outlier_idx = set(np.concatenate((rating_idx, price_idx, avb_idx, age_idx)))\n",
    "print(\"All outlier index: \", outlier_idx)"
   ]
  },
  {
   "cell_type": "markdown",
   "metadata": {},
   "source": [
    "Task 4: Plot"
   ]
  },
  {
   "cell_type": "code",
   "execution_count": 106,
   "metadata": {},
   "outputs": [],
   "source": [
    "#Zzzzz"
   ]
  },
  {
   "cell_type": "markdown",
   "metadata": {},
   "source": [
    "Task 5: Discover pattern"
   ]
  },
  {
   "cell_type": "markdown",
   "metadata": {},
   "source": [
    "- Bourbon age >= 4\n",
    "- Rye age >= 2"
   ]
  },
  {
   "cell_type": "code",
   "execution_count": 114,
   "metadata": {},
   "outputs": [],
   "source": [
    "#bourbon age must >= 4 years\n",
    "bour_idx = [i for i, x in whisky.iterrows() if x['Category'] == 'Bourbon' and x['Age'] < 4]\n",
    "\n",
    "#rye age must >= 2 years\n",
    "rye_idx = [i for i, x in whisky.iterrows() if x['Category'] == 'Rye' and x['Age'] < 2]"
   ]
  },
  {
   "cell_type": "code",
   "execution_count": 115,
   "metadata": {},
   "outputs": [
    {
     "name": "stdout",
     "output_type": "stream",
     "text": [
      "less than 4 yrs Bourbon index: [155]\n",
      "less than 2 yrs Rye index: [45, 228]\n"
     ]
    }
   ],
   "source": [
    "print(\"less than 4 yrs Bourbon index:\", bour_idx)\n",
    "print(\"less than 2 yrs Rye index:\", rye_idx)"
   ]
  },
  {
   "cell_type": "code",
   "execution_count": null,
   "metadata": {},
   "outputs": [],
   "source": []
  }
 ],
 "metadata": {
  "kernelspec": {
   "display_name": "Python 3",
   "language": "python",
   "name": "python3"
  },
  "language_info": {
   "codemirror_mode": {
    "name": "ipython",
    "version": 3
   },
   "file_extension": ".py",
   "mimetype": "text/x-python",
   "name": "python",
   "nbconvert_exporter": "python",
   "pygments_lexer": "ipython3",
   "version": "3.6.7"
  }
 },
 "nbformat": 4,
 "nbformat_minor": 2
}

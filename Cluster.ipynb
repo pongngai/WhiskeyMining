{
 "cells": [
  {
   "cell_type": "code",
   "execution_count": 34,
   "metadata": {},
   "outputs": [],
   "source": [
    "import pandas as pd\n",
    "import numpy as np\n",
    "import matplotlib.pyplot as plt\n",
    "import requests\n",
    "from io import StringIO\n",
    "from sklearn.cluster import KMeans\n",
    "from sklearn.preprocessing import MinMaxScaler, LabelEncoder, StandardScaler\n",
    "import seaborn as sns\n",
    "%matplotlib inline"
   ]
  },
  {
   "cell_type": "code",
   "execution_count": 35,
   "metadata": {},
   "outputs": [],
   "source": [
    "#Read CSV file from the url to DataFrame\n",
    "url = \"https://github.com/Brunel-Visualization/Brunel/raw/master/python/examples/data/whiskey.csv\"\n",
    "s = requests.get(url).text\n",
    "wk = pd.read_csv(StringIO(s))"
   ]
  },
  {
   "cell_type": "code",
   "execution_count": 36,
   "metadata": {},
   "outputs": [
    {
     "data": {
      "text/html": [
       "<div>\n",
       "<style scoped>\n",
       "    .dataframe tbody tr th:only-of-type {\n",
       "        vertical-align: middle;\n",
       "    }\n",
       "\n",
       "    .dataframe tbody tr th {\n",
       "        vertical-align: top;\n",
       "    }\n",
       "\n",
       "    .dataframe thead th {\n",
       "        text-align: right;\n",
       "    }\n",
       "</style>\n",
       "<table border=\"1\" class=\"dataframe\">\n",
       "  <thead>\n",
       "    <tr style=\"text-align: right;\">\n",
       "      <th></th>\n",
       "      <th>Name</th>\n",
       "      <th>Rating</th>\n",
       "      <th>Country</th>\n",
       "      <th>Category</th>\n",
       "      <th>Price</th>\n",
       "      <th>ABV</th>\n",
       "      <th>Age</th>\n",
       "      <th>Brand</th>\n",
       "    </tr>\n",
       "  </thead>\n",
       "  <tbody>\n",
       "    <tr>\n",
       "      <th>0</th>\n",
       "      <td>Canadian Hunter Canadian Whisky</td>\n",
       "      <td>40.0</td>\n",
       "      <td>Canada</td>\n",
       "      <td>Blended</td>\n",
       "      <td>9.0</td>\n",
       "      <td>40.0</td>\n",
       "      <td>NaN</td>\n",
       "      <td>Canadian Hunter</td>\n",
       "    </tr>\n",
       "    <tr>\n",
       "      <th>1</th>\n",
       "      <td>Canadian LTD Blended Canadian Whiskey</td>\n",
       "      <td>43.0</td>\n",
       "      <td>Canada</td>\n",
       "      <td>Blended</td>\n",
       "      <td>10.0</td>\n",
       "      <td>NaN</td>\n",
       "      <td>NaN</td>\n",
       "      <td>Canadian LTD</td>\n",
       "    </tr>\n",
       "    <tr>\n",
       "      <th>2</th>\n",
       "      <td>Kellan Irish Whiskey</td>\n",
       "      <td>47.0</td>\n",
       "      <td>Ireland</td>\n",
       "      <td>Blended</td>\n",
       "      <td>20.0</td>\n",
       "      <td>40.0</td>\n",
       "      <td>NaN</td>\n",
       "      <td>Kellan</td>\n",
       "    </tr>\n",
       "    <tr>\n",
       "      <th>3</th>\n",
       "      <td>Rich &amp; Rare Canadian Whisky</td>\n",
       "      <td>47.0</td>\n",
       "      <td>Canada</td>\n",
       "      <td>Blended</td>\n",
       "      <td>10.0</td>\n",
       "      <td>NaN</td>\n",
       "      <td>NaN</td>\n",
       "      <td>Rich &amp; Rare</td>\n",
       "    </tr>\n",
       "    <tr>\n",
       "      <th>4</th>\n",
       "      <td>Canadian Mist Blended Canadian Whisky</td>\n",
       "      <td>48.0</td>\n",
       "      <td>Canada</td>\n",
       "      <td>Blended</td>\n",
       "      <td>12.0</td>\n",
       "      <td>40.0</td>\n",
       "      <td>NaN</td>\n",
       "      <td>Canadian Mist</td>\n",
       "    </tr>\n",
       "  </tbody>\n",
       "</table>\n",
       "</div>"
      ],
      "text/plain": [
       "                                    Name  Rating  Country Category  Price  \\\n",
       "0        Canadian Hunter Canadian Whisky    40.0   Canada  Blended    9.0   \n",
       "1  Canadian LTD Blended Canadian Whiskey    43.0   Canada  Blended   10.0   \n",
       "2                   Kellan Irish Whiskey    47.0  Ireland  Blended   20.0   \n",
       "3            Rich & Rare Canadian Whisky    47.0   Canada  Blended   10.0   \n",
       "4  Canadian Mist Blended Canadian Whisky    48.0   Canada  Blended   12.0   \n",
       "\n",
       "    ABV  Age            Brand  \n",
       "0  40.0  NaN  Canadian Hunter  \n",
       "1   NaN  NaN     Canadian LTD  \n",
       "2  40.0  NaN           Kellan  \n",
       "3   NaN  NaN      Rich & Rare  \n",
       "4  40.0  NaN    Canadian Mist  "
      ]
     },
     "execution_count": 36,
     "metadata": {},
     "output_type": "execute_result"
    }
   ],
   "source": [
    "wk.head()"
   ]
  },
  {
   "cell_type": "code",
   "execution_count": 37,
   "metadata": {},
   "outputs": [],
   "source": [
    "wk.drop('Name',axis=1,inplace=True)\n",
    "wk.drop('Country',axis=1,inplace=True)\n",
    "wk.drop('Category',axis=1,inplace=True)\n",
    "wk.drop('Age',axis=1,inplace=True)\n",
    "wk.drop('Brand',axis=1,inplace=True)"
   ]
  },
  {
   "cell_type": "code",
   "execution_count": 38,
   "metadata": {},
   "outputs": [
    {
     "data": {
      "text/html": [
       "<div>\n",
       "<style scoped>\n",
       "    .dataframe tbody tr th:only-of-type {\n",
       "        vertical-align: middle;\n",
       "    }\n",
       "\n",
       "    .dataframe tbody tr th {\n",
       "        vertical-align: top;\n",
       "    }\n",
       "\n",
       "    .dataframe thead th {\n",
       "        text-align: right;\n",
       "    }\n",
       "</style>\n",
       "<table border=\"1\" class=\"dataframe\">\n",
       "  <thead>\n",
       "    <tr style=\"text-align: right;\">\n",
       "      <th></th>\n",
       "      <th>Rating</th>\n",
       "      <th>Price</th>\n",
       "      <th>ABV</th>\n",
       "    </tr>\n",
       "  </thead>\n",
       "  <tbody>\n",
       "    <tr>\n",
       "      <th>0</th>\n",
       "      <td>40.0</td>\n",
       "      <td>9.0</td>\n",
       "      <td>40.0</td>\n",
       "    </tr>\n",
       "    <tr>\n",
       "      <th>1</th>\n",
       "      <td>43.0</td>\n",
       "      <td>10.0</td>\n",
       "      <td>NaN</td>\n",
       "    </tr>\n",
       "    <tr>\n",
       "      <th>2</th>\n",
       "      <td>47.0</td>\n",
       "      <td>20.0</td>\n",
       "      <td>40.0</td>\n",
       "    </tr>\n",
       "    <tr>\n",
       "      <th>3</th>\n",
       "      <td>47.0</td>\n",
       "      <td>10.0</td>\n",
       "      <td>NaN</td>\n",
       "    </tr>\n",
       "    <tr>\n",
       "      <th>4</th>\n",
       "      <td>48.0</td>\n",
       "      <td>12.0</td>\n",
       "      <td>40.0</td>\n",
       "    </tr>\n",
       "  </tbody>\n",
       "</table>\n",
       "</div>"
      ],
      "text/plain": [
       "   Rating  Price   ABV\n",
       "0    40.0    9.0  40.0\n",
       "1    43.0   10.0   NaN\n",
       "2    47.0   20.0  40.0\n",
       "3    47.0   10.0   NaN\n",
       "4    48.0   12.0  40.0"
      ]
     },
     "execution_count": 38,
     "metadata": {},
     "output_type": "execute_result"
    }
   ],
   "source": [
    "wk.head()"
   ]
  },
  {
   "cell_type": "code",
   "execution_count": 39,
   "metadata": {},
   "outputs": [
    {
     "data": {
      "text/plain": [
       "Rating    11\n",
       "Price      4\n",
       "ABV       13\n",
       "dtype: int64"
      ]
     },
     "execution_count": 39,
     "metadata": {},
     "output_type": "execute_result"
    }
   ],
   "source": [
    "wk.isna().sum()"
   ]
  },
  {
   "cell_type": "code",
   "execution_count": 40,
   "metadata": {},
   "outputs": [
    {
     "data": {
      "text/html": [
       "<div>\n",
       "<style scoped>\n",
       "    .dataframe tbody tr th:only-of-type {\n",
       "        vertical-align: middle;\n",
       "    }\n",
       "\n",
       "    .dataframe tbody tr th {\n",
       "        vertical-align: top;\n",
       "    }\n",
       "\n",
       "    .dataframe thead th {\n",
       "        text-align: right;\n",
       "    }\n",
       "</style>\n",
       "<table border=\"1\" class=\"dataframe\">\n",
       "  <thead>\n",
       "    <tr style=\"text-align: right;\">\n",
       "      <th></th>\n",
       "      <th>Rating</th>\n",
       "      <th>Price</th>\n",
       "      <th>ABV</th>\n",
       "    </tr>\n",
       "  </thead>\n",
       "  <tbody>\n",
       "    <tr>\n",
       "      <th>count</th>\n",
       "      <td>272.000000</td>\n",
       "      <td>279.000000</td>\n",
       "      <td>270.000000</td>\n",
       "    </tr>\n",
       "    <tr>\n",
       "      <th>mean</th>\n",
       "      <td>84.474265</td>\n",
       "      <td>72.483871</td>\n",
       "      <td>44.610444</td>\n",
       "    </tr>\n",
       "    <tr>\n",
       "      <th>std</th>\n",
       "      <td>11.877887</td>\n",
       "      <td>83.992242</td>\n",
       "      <td>5.883056</td>\n",
       "    </tr>\n",
       "    <tr>\n",
       "      <th>min</th>\n",
       "      <td>40.000000</td>\n",
       "      <td>2.000000</td>\n",
       "      <td>35.500000</td>\n",
       "    </tr>\n",
       "    <tr>\n",
       "      <th>25%</th>\n",
       "      <td>80.000000</td>\n",
       "      <td>30.000000</td>\n",
       "      <td>40.000000</td>\n",
       "    </tr>\n",
       "    <tr>\n",
       "      <th>50%</th>\n",
       "      <td>88.000000</td>\n",
       "      <td>50.000000</td>\n",
       "      <td>43.000000</td>\n",
       "    </tr>\n",
       "    <tr>\n",
       "      <th>75%</th>\n",
       "      <td>94.000000</td>\n",
       "      <td>80.000000</td>\n",
       "      <td>46.000000</td>\n",
       "    </tr>\n",
       "    <tr>\n",
       "      <th>max</th>\n",
       "      <td>100.000000</td>\n",
       "      <td>850.000000</td>\n",
       "      <td>68.200000</td>\n",
       "    </tr>\n",
       "  </tbody>\n",
       "</table>\n",
       "</div>"
      ],
      "text/plain": [
       "           Rating       Price         ABV\n",
       "count  272.000000  279.000000  270.000000\n",
       "mean    84.474265   72.483871   44.610444\n",
       "std     11.877887   83.992242    5.883056\n",
       "min     40.000000    2.000000   35.500000\n",
       "25%     80.000000   30.000000   40.000000\n",
       "50%     88.000000   50.000000   43.000000\n",
       "75%     94.000000   80.000000   46.000000\n",
       "max    100.000000  850.000000   68.200000"
      ]
     },
     "execution_count": 40,
     "metadata": {},
     "output_type": "execute_result"
    }
   ],
   "source": [
    "wk.describe()"
   ]
  },
  {
   "cell_type": "code",
   "execution_count": 41,
   "metadata": {},
   "outputs": [],
   "source": [
    "wk.dropna(inplace = True)"
   ]
  },
  {
   "cell_type": "code",
   "execution_count": 42,
   "metadata": {},
   "outputs": [
    {
     "data": {
      "text/plain": [
       "<seaborn.axisgrid.FacetGrid at 0x1a2858d898>"
      ]
     },
     "execution_count": 42,
     "metadata": {},
     "output_type": "execute_result"
    },
    {
     "data": {
      "image/png": "[encoded data removed]",
      "text/plain": [
       "<Figure size 360x360 with 1 Axes>"
      ]
     },
     "metadata": {},
     "output_type": "display_data"
    }
   ],
   "source": [
    "sns.set_style('whitegrid')\n",
    "sns.lmplot('Rating','Price',data=wk)"
   ]
  },
  {
   "cell_type": "code",
   "execution_count": 43,
   "metadata": {},
   "outputs": [],
   "source": [
    "data = wk.values"
   ]
  },
  {
   "cell_type": "code",
   "execution_count": 44,
   "metadata": {},
   "outputs": [],
   "source": [
    "def outlier(x):\n",
    "    q1, q3 = np.percentile(x,[25, 75])\n",
    "    iqr = q3 - q1\n",
    "    cut = 1.5 * iqr  \n",
    "    return [i for i in range(x.shape[0]) if x[i] < q1-cut or x[i]>q3+cut]\n",
    "\n",
    "def all_out(x):\n",
    "    idx = []\n",
    "    for i in range(x.shape[1]):\n",
    "        idx = np.concatenate((idx, outlier(x[:,i])))\n",
    "    return list(set(idx))"
   ]
  },
  {
   "cell_type": "code",
   "execution_count": 45,
   "metadata": {},
   "outputs": [
    {
     "name": "stdout",
     "output_type": "stream",
     "text": [
      "49 [0.0, 1.0, 2.0, 3.0, 4.0, 5.0, 6.0, 7.0, 8.0, 9.0, 132.0, 259.0, 133.0, 141.0, 256.0, 143.0, 257.0, 155.0, 156.0, 158.0, 159.0, 160.0, 162.0, 46.0, 174.0, 176.0, 51.0, 59.0, 60.0, 67.0, 195.0, 197.0, 199.0, 202.0, 208.0, 80.0, 210.0, 213.0, 214.0, 89.0, 220.0, 97.0, 227.0, 100.0, 229.0, 232.0, 254.0, 125.0, 126.0]\n",
      "(211, 3)\n"
     ]
    },
    {
     "name": "stderr",
     "output_type": "stream",
     "text": [
      "/anaconda3/lib/python3.6/site-packages/ipykernel_launcher.py:3: DeprecationWarning: using a non-integer array as obj in delete will result in an error in the future\n",
      "  This is separate from the ipykernel package so we can avoid doing imports until\n"
     ]
    }
   ],
   "source": [
    "idx = all_out(data)\n",
    "print(len(idx),idx)\n",
    "data = np.delete(data, idx, axis=0)\n",
    "print(data.shape)"
   ]
  },
  {
   "cell_type": "code",
   "execution_count": 46,
   "metadata": {},
   "outputs": [
    {
     "name": "stdout",
     "output_type": "stream",
     "text": [
      "[[-2.44575494e+00 -8.36453897e-01 -9.27503802e-01]\n",
      " [-2.44575494e+00 -1.17644961e+00 -9.27503802e-01]\n",
      " [-2.33453634e+00 -1.04045132e+00 -9.27503802e-01]\n",
      " [-2.33453634e+00 -1.00645175e+00 -9.27503802e-01]\n",
      " [-2.11209915e+00 -6.66456043e-01 -9.27503802e-01]\n",
      " [-2.11209915e+00 -1.56462480e-01 -7.57187153e-02]\n",
      " [-2.11209915e+00  1.83533228e-01 -9.27503802e-01]\n",
      " [-2.11209915e+00  3.53531083e-01 -9.27503802e-01]\n",
      " [-2.11209915e+00 -1.38044703e+00 -9.27503802e-01]\n",
      " [-2.00088055e+00 -1.00645175e+00 -9.27503802e-01]\n",
      " [-2.00088055e+00 -1.44844617e+00 -9.27503802e-01]\n",
      " [-1.88966195e+00 -1.07445089e+00 -9.27503802e-01]\n",
      " [-1.88966195e+00 -1.07445089e+00 -9.27503802e-01]\n",
      " [-1.88966195e+00 -1.34644746e+00 -9.27503802e-01]\n",
      " [-1.88966195e+00 -9.38452610e-01  4.92138009e-01]\n",
      " [-1.88966195e+00 -1.17644961e+00 -9.27503802e-01]\n",
      " [-1.77844335e+00 -3.26460334e-01 -7.57187153e-02]\n",
      " [-1.77844335e+00 -9.72452181e-01 -9.27503802e-01]\n",
      " [-1.66722476e+00 -9.38452610e-01 -9.27503802e-01]\n",
      " [-1.66722476e+00 -1.56462480e-01 -7.57187153e-02]\n",
      " [-1.55600616e+00 -2.24461622e-01  7.76066371e-01]\n",
      " [-1.44478756e+00  9.99522929e-01 -9.27503802e-01]\n",
      " [-1.44478756e+00  1.20352035e+00 -9.27503802e-01]\n",
      " [-1.33356896e+00  1.20352035e+00  7.76066371e-01]\n",
      " [-1.33356896e+00 -4.96458189e-01 -9.27503802e-01]\n",
      " [-1.33356896e+00 -1.56462480e-01  4.92138009e-01]\n",
      " [-1.33356896e+00  1.15534087e-01 -9.27503802e-01]\n",
      " [-1.22235037e+00  1.03352250e+00 -7.57187153e-02]\n",
      " [-1.11113177e+00 -2.92460764e-01  4.92138009e-01]\n",
      " [-1.11113177e+00 -5.64457330e-01  2.76356491e+00]\n",
      " [-1.11113177e+00 -6.32456472e-01  7.76066371e-01]\n",
      " [-1.11113177e+00  5.23528937e-01  7.76066371e-01]\n",
      " [-1.11113177e+00 -1.31244789e+00 -9.27503802e-01]\n",
      " [-1.11113177e+00 -3.26460334e-01 -9.27503802e-01]\n",
      " [-9.99913172e-01 -9.04453039e-01 -9.27503802e-01]\n",
      " [-9.99913172e-01  5.23528937e-01  7.76066371e-01]\n",
      " [-9.99913172e-01 -1.17644961e+00  1.91177982e+00]\n",
      " [-8.88694575e-01  6.93526791e-01  4.92138009e-01]\n",
      " [-8.88694575e-01 -1.27844832e+00 -9.27503802e-01]\n",
      " [-8.88694575e-01  6.25527650e-01 -9.27503802e-01]\n",
      " [-7.77475977e-01 -7.68454756e-01 -9.27503802e-01]\n",
      " [-7.77475977e-01 -4.62458618e-01  7.76066371e-01]\n",
      " [-7.77475977e-01 -9.72452181e-01 -7.57187153e-02]\n",
      " [-7.77475977e-01 -9.38452610e-01 -9.27503802e-01]\n",
      " [-6.66257380e-01 -1.31244789e+00 -7.57187153e-02]\n",
      " [-6.66257380e-01  2.85531941e-01 -7.57187153e-02]\n",
      " [-6.66257380e-01 -1.00645175e+00 -7.57187153e-02]\n",
      " [-6.66257380e-01 -6.32456472e-01 -9.27503802e-01]\n",
      " [-5.55038782e-01 -1.17644961e+00 -9.27503802e-01]\n",
      " [-5.55038782e-01 -3.94459476e-01  7.76066371e-01]\n",
      " [-5.55038782e-01  1.15534087e-01 -7.57187153e-02]\n",
      " [-5.55038782e-01 -1.17644961e+00 -9.27503802e-01]\n",
      " [-5.55038782e-01 -6.66456043e-01 -2.17682896e-01]\n",
      " [-5.55038782e-01 -1.00645175e+00 -9.27503802e-01]\n",
      " [-5.55038782e-01 -4.96458189e-01 -9.27503802e-01]\n",
      " [-5.55038782e-01  1.83533228e-01 -3.59647078e-01]\n",
      " [-5.55038782e-01  1.35353742e-02 -6.43575440e-01]\n",
      " [-5.55038782e-01 -1.24444875e+00 -9.27503802e-01]\n",
      " [-5.55038782e-01 -1.27844832e+00 -2.20518143e+00]\n",
      " [-5.55038782e-01  4.89529366e-01 -9.27503802e-01]\n",
      " [-5.55038782e-01 -1.00645175e+00 -9.27503802e-01]\n",
      " [-5.55038782e-01 -1.27844832e+00 -6.43575440e-01]\n",
      " [-5.55038782e-01 -1.56462480e-01 -9.27503802e-01]\n",
      " [-5.55038782e-01 -9.04453039e-01 -9.27503802e-01]\n",
      " [-5.55038782e-01 -1.21044918e+00 -7.57187153e-02]\n",
      " [-4.43820185e-01 -1.56462480e-01 -9.27503802e-01]\n",
      " [-4.43820185e-01  5.23528937e-01 -9.27503802e-01]\n",
      " [-4.43820185e-01  1.54351606e+00 -7.57187153e-02]\n",
      " [-4.43820185e-01 -1.21044918e+00  1.91177982e+00]\n",
      " [-4.43820185e-01 -1.27844832e+00 -9.27503802e-01]\n",
      " [-4.43820185e-01  2.66550190e+00  2.76356491e+00]\n",
      " [-4.43820185e-01  1.54351606e+00 -7.57187153e-02]\n",
      " [-3.32601588e-01 -9.04453039e-01  7.76066371e-01]\n",
      " [-3.32601588e-01 -4.28459047e-01  7.76066371e-01]\n",
      " [-3.32601588e-01  5.23528937e-01  4.92138009e-01]\n",
      " [-3.32601588e-01 -6.66456043e-01  1.05999473e+00]\n",
      " [-3.32601588e-01  3.53531083e-01 -7.57187153e-02]\n",
      " [-3.32601588e-01  1.83533228e-01 -7.57187153e-02]\n",
      " [-2.21382990e-01 -1.00645175e+00 -9.27503802e-01]\n",
      " [-2.21382990e-01 -2.58461193e-01 -9.27503802e-01]\n",
      " [-2.21382990e-01  1.54351606e+00 -9.27503802e-01]\n",
      " [-2.21382990e-01 -3.94459476e-01 -9.27503802e-01]\n",
      " [-1.10164393e-01 -7.00455614e-01  7.76066371e-01]\n",
      " [-1.10164393e-01  4.55529795e-01 -7.57187153e-02]\n",
      " [-1.10164393e-01  1.47551692e+00  3.24624312e+00]\n",
      " [-1.10164393e-01  3.53531083e-01  1.91177982e+00]\n",
      " [-1.10164393e-01  1.54351606e+00  1.20195891e+00]\n",
      " [-1.10164393e-01 -5.30457760e-01 -9.27503802e-01]\n",
      " [-1.10164393e-01  1.37351821e+00  7.76066371e-01]\n",
      " [-1.10164393e-01 -6.32456472e-01 -9.27503802e-01]\n",
      " [ 1.05420472e-03  2.17532799e-01 -9.27503802e-01]\n",
      " [ 1.05420472e-03 -1.04045132e+00 -9.27503802e-01]\n",
      " [ 1.05420472e-03 -3.94459476e-01 -7.57187153e-02]\n",
      " [ 1.05420472e-03 -3.94459476e-01 -7.57187153e-02]\n",
      " [ 1.05420472e-03 -1.17644961e+00 -7.57187153e-02]\n",
      " [ 1.05420472e-03 -1.04045132e+00  4.92138009e-01]\n",
      " [ 1.05420472e-03 -4.96458189e-01 -9.27503802e-01]\n",
      " [ 1.05420472e-03 -1.90462051e-01  1.28713742e+00]\n",
      " [ 1.12272802e-01 -1.17644961e+00  4.92138009e-01]\n",
      " [ 1.12272802e-01 -1.56462480e-01 -9.27503802e-01]\n",
      " [ 1.12272802e-01 -8.36453897e-01  4.92138009e-01]\n",
      " [ 1.12272802e-01 -1.56462480e-01 -7.57187153e-02]\n",
      " [ 1.12272802e-01 -1.90462051e-01  1.05999473e+00]\n",
      " [ 1.12272802e-01 -5.44637675e-02  1.91177982e+00]\n",
      " [ 1.12272802e-01 -4.96458189e-01  4.92138009e-01]\n",
      " [ 2.23491400e-01 -9.38452610e-01  4.92138009e-01]\n",
      " [ 2.23491400e-01 -7.68454756e-01 -9.27503802e-01]\n",
      " [ 2.23491400e-01  1.83533228e-01 -9.27503802e-01]\n",
      " [ 2.23491400e-01  1.54351606e+00 -7.57187153e-02]\n",
      " [ 2.23491400e-01 -6.66456043e-01 -9.27503802e-01]\n",
      " [ 2.23491400e-01 -8.36453897e-01 -9.27503802e-01]\n",
      " [ 2.23491400e-01 -2.24461622e-01 -7.57187153e-02]\n",
      " [ 2.23491400e-01 -4.96458189e-01 -9.27503802e-01]\n",
      " [ 2.23491400e-01 -3.26460334e-01  7.76066371e-01]\n",
      " [ 2.23491400e-01 -1.00645175e+00 -3.59647078e-01]\n",
      " [ 2.23491400e-01 -2.24461622e-01 -9.27503802e-01]\n",
      " [ 2.23491400e-01 -9.04453039e-01  1.91177982e+00]\n",
      " [ 2.23491400e-01 -4.96458189e-01 -9.27503802e-01]\n",
      " [ 2.23491400e-01  2.17532799e-01  7.76066371e-01]\n",
      " [ 2.23491400e-01 -5.30457760e-01 -7.57187153e-02]\n",
      " [ 2.23491400e-01  6.93526791e-01  1.05999473e+00]\n",
      " [ 2.23491400e-01 -1.14245004e+00  1.91177982e+00]\n",
      " [ 2.23491400e-01 -5.44637675e-02 -7.57187153e-02]\n",
      " [ 2.23491400e-01  2.49550405e+00 -7.57187153e-02]\n",
      " [ 2.23491400e-01 -9.38452610e-01  4.92138009e-01]\n",
      " [ 2.23491400e-01 -7.00455614e-01  4.92138009e-01]\n",
      " [ 2.23491400e-01 -1.56462480e-01  1.05999473e+00]\n",
      " [ 2.23491400e-01  2.39350533e+00  1.91177982e+00]\n",
      " [ 3.34709997e-01  3.53531083e-01 -7.57187153e-02]\n",
      " [ 3.34709997e-01 -6.66456043e-01 -9.27503802e-01]\n",
      " [ 3.34709997e-01  1.20352035e+00  1.05999473e+00]\n",
      " [ 4.45928594e-01  2.90349890e+00 -9.27503802e-01]\n",
      " [ 4.45928594e-01  8.29525075e-01 -7.57187153e-02]\n",
      " [ 4.45928594e-01  5.23528937e-01 -7.57187153e-02]\n",
      " [ 4.45928594e-01 -3.26460334e-01 -7.57187153e-02]\n",
      " [ 4.45928594e-01 -5.98456901e-01  3.07588610e+00]\n",
      " [ 4.45928594e-01  5.23528937e-01 -7.57187153e-02]\n",
      " [ 4.45928594e-01  1.35353742e-02 -9.27503802e-01]\n",
      " [ 4.45928594e-01  1.20352035e+00  1.05999473e+00]\n",
      " [ 4.45928594e-01 -8.70453468e-01 -7.57187153e-02]\n",
      " [ 5.57147192e-01  3.19531512e-01 -9.27503802e-01]\n",
      " [ 5.57147192e-01  2.63150233e+00 -9.27503802e-01]\n",
      " [ 5.57147192e-01  6.93526791e-01  7.76066371e-01]\n",
      " [ 5.57147192e-01  2.22350748e+00 -9.27503802e-01]\n",
      " [ 6.68365789e-01  4.21530225e-01  7.76066371e-01]\n",
      " [ 6.68365789e-01  1.33951864e+00  7.76066371e-01]\n",
      " [ 6.68365789e-01  5.23528937e-01 -9.27503802e-01]\n",
      " [ 6.68365789e-01 -4.96458189e-01 -9.27503802e-01]\n",
      " [ 6.68365789e-01 -2.58461193e-01  8.61244880e-01]\n",
      " [ 6.68365789e-01 -3.26460334e-01 -9.27503802e-01]\n",
      " [ 6.68365789e-01  8.15345159e-02  4.92138009e-01]\n",
      " [ 6.68365789e-01  1.84951220e+00 -7.57187153e-02]\n",
      " [ 6.68365789e-01 -2.58461193e-01  1.34392310e+00]\n",
      " [ 7.79584387e-01 -5.30457760e-01 -9.27503802e-01]\n",
      " [ 7.79584387e-01  2.66550190e+00 -9.27503802e-01]\n",
      " [ 7.79584387e-01 -6.66456043e-01  4.92138009e-01]\n",
      " [ 7.79584387e-01 -7.68454756e-01  4.92138009e-01]\n",
      " [ 8.90802984e-01  1.81551263e+00  8.61244880e-01]\n",
      " [ 8.90802984e-01  1.78151306e+00 -7.57187153e-02]\n",
      " [ 8.90802984e-01  1.83533228e-01  7.76066371e-01]\n",
      " [ 8.90802984e-01  1.30551907e+00  5.48923681e-01]\n",
      " [ 8.90802984e-01  1.37351821e+00 -9.27503802e-01]\n",
      " [ 8.90802984e-01  2.90349890e+00  2.08209647e-01]\n",
      " [ 8.90802984e-01  2.05350963e+00  7.76066371e-01]\n",
      " [ 8.90802984e-01  4.55529795e-01  7.24959266e-01]\n",
      " [ 8.90802984e-01  8.63524646e-01 -7.57187153e-02]\n",
      " [ 8.90802984e-01 -3.26460334e-01 -7.57187153e-02]\n",
      " [ 8.90802984e-01 -4.28459047e-01  2.05374400e+00]\n",
      " [ 1.00202158e+00  2.22350748e+00  7.76066371e-01]\n",
      " [ 1.00202158e+00 -2.58461193e-01 -9.27503802e-01]\n",
      " [ 1.00202158e+00  1.35353742e-02  7.76066371e-01]\n",
      " [ 1.11324018e+00  5.23528937e-01  4.92138009e-01]\n",
      " [ 1.11324018e+00 -1.56462480e-01  1.92597624e+00]\n",
      " [ 1.11324018e+00  8.63524646e-01  8.32852044e-01]\n",
      " [ 1.11324018e+00  9.99522929e-01  7.76066371e-01]\n",
      " [ 1.11324018e+00  3.53531083e-01  1.91177982e+00]\n",
      " [ 1.11324018e+00 -8.36453897e-01  1.20195891e+00]\n",
      " [ 1.11324018e+00 -3.94459476e-01 -9.27503802e-01]\n",
      " [ 1.11324018e+00  1.16952078e+00 -7.57187153e-02]\n",
      " [ 1.11324018e+00  2.51532370e-01  7.76066371e-01]\n",
      " [ 1.11324018e+00  6.25527650e-01 -7.57187153e-02]\n",
      " [ 1.11324018e+00 -8.36453897e-01 -9.27503802e-01]\n",
      " [ 1.11324018e+00  8.29525075e-01 -7.57187153e-02]\n",
      " [ 1.11324018e+00 -3.94459476e-01  8.61244880e-01]\n",
      " [ 1.11324018e+00 -2.04641967e-02 -9.27503802e-01]\n",
      " [ 1.11324018e+00 -2.24461622e-01 -7.57187153e-02]\n",
      " [ 1.11324018e+00 -1.00645175e+00 -9.27503802e-01]\n",
      " [ 1.11324018e+00 -8.36453897e-01 -9.27503802e-01]\n",
      " [ 1.11324018e+00 -4.96458189e-01 -9.27503802e-01]\n",
      " [ 1.11324018e+00  3.53531083e-01  1.34392310e+00]\n",
      " [ 1.11324018e+00  3.19531512e-01 -9.27503802e-01]\n",
      " [ 1.11324018e+00 -4.96458189e-01  7.76066371e-01]\n",
      " [ 1.22445878e+00  2.32550619e+00 -9.27503802e-01]\n",
      " [ 1.44689597e+00 -6.66456043e-01 -9.27503802e-01]\n",
      " [ 1.44689597e+00  2.22350748e+00 -7.57187153e-02]\n",
      " [ 1.44689597e+00 -4.28459047e-01 -9.27503802e-01]\n",
      " [ 1.44689597e+00  8.63524646e-01  7.76066371e-01]\n",
      " [ 1.44689597e+00  1.27151950e+00  8.61244880e-01]\n",
      " [ 1.44689597e+00  1.78151306e+00  1.34392310e+00]\n",
      " [ 1.44689597e+00 -3.26460334e-01 -9.27503802e-01]\n",
      " [ 1.44689597e+00  1.54351606e+00 -7.57187153e-02]\n",
      " [ 1.44689597e+00  1.83533228e-01 -7.57187153e-02]\n",
      " [ 1.44689597e+00  5.23528937e-01 -7.57187153e-02]\n",
      " [ 1.44689597e+00 -1.56462480e-01 -9.27503802e-01]\n",
      " [ 1.44689597e+00 -3.26460334e-01 -9.27503802e-01]\n",
      " [ 1.44689597e+00 -3.26460334e-01  1.34392310e+00]\n",
      " [ 1.44689597e+00  5.23528937e-01 -7.57187153e-02]\n",
      " [ 1.44689597e+00 -1.48244574e+00 -9.27503802e-01]\n",
      " [ 1.44689597e+00  1.15534087e-01  2.90552909e+00]\n",
      " [ 1.44689597e+00  8.63524646e-01  3.10427894e+00]\n",
      " [ 1.55811457e+00  5.91528079e-01  7.76066371e-01]]\n"
     ]
    }
   ],
   "source": [
    "data = StandardScaler().fit_transform(data)\n",
    "print(data)"
   ]
  },
  {
   "cell_type": "code",
   "execution_count": 47,
   "metadata": {},
   "outputs": [],
   "source": [
    "label = np.array(['low' if d <= 1/3  else 'medium' if d <= 2/3 else 'high' for d in data[:,1]])"
   ]
  },
  {
   "cell_type": "code",
   "execution_count": 48,
   "metadata": {},
   "outputs": [],
   "source": [
    "wk = pd.DataFrame(data={\"Rating\":(data[:,0]),\n",
    "                        \"ABV\":(data[:,2]),\n",
    "                        \"Price\":(label)})"
   ]
  },
  {
   "cell_type": "code",
   "execution_count": 50,
   "metadata": {},
   "outputs": [
    {
     "data": {
      "text/plain": [
       "<seaborn.axisgrid.FacetGrid at 0x1a287f7ac8>"
      ]
     },
     "execution_count": 50,
     "metadata": {},
     "output_type": "execute_result"
    },
    {
     "data": {
      "image/png": "[encoded data removed]",
      "text/plain": [
       "<Figure size 437x360 with 1 Axes>"
      ]
     },
     "metadata": {},
     "output_type": "display_data"
    }
   ],
   "source": [
    "sns.set_style('whitegrid')\n",
    "sns.lmplot('Rating','ABV',data=wk, hue='Price')"
   ]
  },
  {
   "cell_type": "code",
   "execution_count": null,
   "metadata": {},
   "outputs": [],
   "source": []
  }
 ],
 "metadata": {
  "kernelspec": {
   "display_name": "Python 3",
   "language": "python",
   "name": "python3"
  },
  "language_info": {
   "codemirror_mode": {
    "name": "ipython",
    "version": 3
   },
   "file_extension": ".py",
   "mimetype": "text/x-python",
   "name": "python",
   "nbconvert_exporter": "python",
   "pygments_lexer": "ipython3",
   "version": "3.6.6"
  }
 },
 "nbformat": 4,
 "nbformat_minor": 2
}

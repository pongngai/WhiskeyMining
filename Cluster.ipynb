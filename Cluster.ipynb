{
 "cells": [
  {
   "cell_type": "code",
   "execution_count": 159,
   "metadata": {},
   "outputs": [],
   "source": [
    "import pandas as pd\n",
    "import numpy as np\n",
    "import matplotlib.pyplot as plt\n",
    "import requests\n",
    "from io import StringIO\n",
    "from sklearn.cluster import KMeans\n",
    "from sklearn.preprocessing import MinMaxScaler, LabelEncoder, StandardScaler\n",
    "import seaborn as sns\n",
    "from sklearn.metrics import confusion_matrix,classification_report\n",
    "%matplotlib inline"
   ]
  },
  {
   "cell_type": "markdown",
   "metadata": {},
   "source": [
    "# Phase 1"
   ]
  },
  {
   "cell_type": "code",
   "execution_count": 160,
   "metadata": {},
   "outputs": [],
   "source": [
    "#Read CSV file from the url to DataFrame\n",
    "url = \"https://github.com/Brunel-Visualization/Brunel/raw/master/python/examples/data/whiskey.csv\"\n",
    "s = requests.get(url).text\n",
    "wk = pd.read_csv(StringIO(s))"
   ]
  },
  {
   "cell_type": "code",
   "execution_count": 161,
   "metadata": {},
   "outputs": [
    {
     "data": {
      "text/html": [
       "<div>\n",
       "<style scoped>\n",
       "    .dataframe tbody tr th:only-of-type {\n",
       "        vertical-align: middle;\n",
       "    }\n",
       "\n",
       "    .dataframe tbody tr th {\n",
       "        vertical-align: top;\n",
       "    }\n",
       "\n",
       "    .dataframe thead th {\n",
       "        text-align: right;\n",
       "    }\n",
       "</style>\n",
       "<table border=\"1\" class=\"dataframe\">\n",
       "  <thead>\n",
       "    <tr style=\"text-align: right;\">\n",
       "      <th></th>\n",
       "      <th>Name</th>\n",
       "      <th>Rating</th>\n",
       "      <th>Country</th>\n",
       "      <th>Category</th>\n",
       "      <th>Price</th>\n",
       "      <th>ABV</th>\n",
       "      <th>Age</th>\n",
       "      <th>Brand</th>\n",
       "    </tr>\n",
       "  </thead>\n",
       "  <tbody>\n",
       "    <tr>\n",
       "      <th>0</th>\n",
       "      <td>Canadian Hunter Canadian Whisky</td>\n",
       "      <td>40.0</td>\n",
       "      <td>Canada</td>\n",
       "      <td>Blended</td>\n",
       "      <td>9.0</td>\n",
       "      <td>40.0</td>\n",
       "      <td>NaN</td>\n",
       "      <td>Canadian Hunter</td>\n",
       "    </tr>\n",
       "    <tr>\n",
       "      <th>1</th>\n",
       "      <td>Canadian LTD Blended Canadian Whiskey</td>\n",
       "      <td>43.0</td>\n",
       "      <td>Canada</td>\n",
       "      <td>Blended</td>\n",
       "      <td>10.0</td>\n",
       "      <td>NaN</td>\n",
       "      <td>NaN</td>\n",
       "      <td>Canadian LTD</td>\n",
       "    </tr>\n",
       "    <tr>\n",
       "      <th>2</th>\n",
       "      <td>Kellan Irish Whiskey</td>\n",
       "      <td>47.0</td>\n",
       "      <td>Ireland</td>\n",
       "      <td>Blended</td>\n",
       "      <td>20.0</td>\n",
       "      <td>40.0</td>\n",
       "      <td>NaN</td>\n",
       "      <td>Kellan</td>\n",
       "    </tr>\n",
       "    <tr>\n",
       "      <th>3</th>\n",
       "      <td>Rich &amp; Rare Canadian Whisky</td>\n",
       "      <td>47.0</td>\n",
       "      <td>Canada</td>\n",
       "      <td>Blended</td>\n",
       "      <td>10.0</td>\n",
       "      <td>NaN</td>\n",
       "      <td>NaN</td>\n",
       "      <td>Rich &amp; Rare</td>\n",
       "    </tr>\n",
       "    <tr>\n",
       "      <th>4</th>\n",
       "      <td>Canadian Mist Blended Canadian Whisky</td>\n",
       "      <td>48.0</td>\n",
       "      <td>Canada</td>\n",
       "      <td>Blended</td>\n",
       "      <td>12.0</td>\n",
       "      <td>40.0</td>\n",
       "      <td>NaN</td>\n",
       "      <td>Canadian Mist</td>\n",
       "    </tr>\n",
       "  </tbody>\n",
       "</table>\n",
       "</div>"
      ],
      "text/plain": [
       "                                    Name  Rating  Country Category  Price  \\\n",
       "0        Canadian Hunter Canadian Whisky    40.0   Canada  Blended    9.0   \n",
       "1  Canadian LTD Blended Canadian Whiskey    43.0   Canada  Blended   10.0   \n",
       "2                   Kellan Irish Whiskey    47.0  Ireland  Blended   20.0   \n",
       "3            Rich & Rare Canadian Whisky    47.0   Canada  Blended   10.0   \n",
       "4  Canadian Mist Blended Canadian Whisky    48.0   Canada  Blended   12.0   \n",
       "\n",
       "    ABV  Age            Brand  \n",
       "0  40.0  NaN  Canadian Hunter  \n",
       "1   NaN  NaN     Canadian LTD  \n",
       "2  40.0  NaN           Kellan  \n",
       "3   NaN  NaN      Rich & Rare  \n",
       "4  40.0  NaN    Canadian Mist  "
      ]
     },
     "execution_count": 161,
     "metadata": {},
     "output_type": "execute_result"
    }
   ],
   "source": [
    "wk.head()"
   ]
  },
  {
   "cell_type": "code",
   "execution_count": 162,
   "metadata": {},
   "outputs": [],
   "source": [
    "wk.drop('Name',axis=1,inplace=True)\n",
    "wk.drop('Country',axis=1,inplace=True)\n",
    "wk.drop('Category',axis=1,inplace=True)\n",
    "wk.drop('Age',axis=1,inplace=True)\n",
    "wk.drop('Brand',axis=1,inplace=True)"
   ]
  },
  {
   "cell_type": "code",
   "execution_count": 163,
   "metadata": {},
   "outputs": [
    {
     "data": {
      "text/html": [
       "<div>\n",
       "<style scoped>\n",
       "    .dataframe tbody tr th:only-of-type {\n",
       "        vertical-align: middle;\n",
       "    }\n",
       "\n",
       "    .dataframe tbody tr th {\n",
       "        vertical-align: top;\n",
       "    }\n",
       "\n",
       "    .dataframe thead th {\n",
       "        text-align: right;\n",
       "    }\n",
       "</style>\n",
       "<table border=\"1\" class=\"dataframe\">\n",
       "  <thead>\n",
       "    <tr style=\"text-align: right;\">\n",
       "      <th></th>\n",
       "      <th>Rating</th>\n",
       "      <th>Price</th>\n",
       "      <th>ABV</th>\n",
       "    </tr>\n",
       "  </thead>\n",
       "  <tbody>\n",
       "    <tr>\n",
       "      <th>0</th>\n",
       "      <td>40.0</td>\n",
       "      <td>9.0</td>\n",
       "      <td>40.0</td>\n",
       "    </tr>\n",
       "    <tr>\n",
       "      <th>1</th>\n",
       "      <td>43.0</td>\n",
       "      <td>10.0</td>\n",
       "      <td>NaN</td>\n",
       "    </tr>\n",
       "    <tr>\n",
       "      <th>2</th>\n",
       "      <td>47.0</td>\n",
       "      <td>20.0</td>\n",
       "      <td>40.0</td>\n",
       "    </tr>\n",
       "    <tr>\n",
       "      <th>3</th>\n",
       "      <td>47.0</td>\n",
       "      <td>10.0</td>\n",
       "      <td>NaN</td>\n",
       "    </tr>\n",
       "    <tr>\n",
       "      <th>4</th>\n",
       "      <td>48.0</td>\n",
       "      <td>12.0</td>\n",
       "      <td>40.0</td>\n",
       "    </tr>\n",
       "  </tbody>\n",
       "</table>\n",
       "</div>"
      ],
      "text/plain": [
       "   Rating  Price   ABV\n",
       "0    40.0    9.0  40.0\n",
       "1    43.0   10.0   NaN\n",
       "2    47.0   20.0  40.0\n",
       "3    47.0   10.0   NaN\n",
       "4    48.0   12.0  40.0"
      ]
     },
     "execution_count": 163,
     "metadata": {},
     "output_type": "execute_result"
    }
   ],
   "source": [
    "wk.head()"
   ]
  },
  {
   "cell_type": "code",
   "execution_count": 164,
   "metadata": {},
   "outputs": [
    {
     "data": {
      "text/plain": [
       "Rating    11\n",
       "Price      4\n",
       "ABV       13\n",
       "dtype: int64"
      ]
     },
     "execution_count": 164,
     "metadata": {},
     "output_type": "execute_result"
    }
   ],
   "source": [
    "wk.isna().sum()"
   ]
  },
  {
   "cell_type": "code",
   "execution_count": 165,
   "metadata": {},
   "outputs": [
    {
     "data": {
      "text/html": [
       "<div>\n",
       "<style scoped>\n",
       "    .dataframe tbody tr th:only-of-type {\n",
       "        vertical-align: middle;\n",
       "    }\n",
       "\n",
       "    .dataframe tbody tr th {\n",
       "        vertical-align: top;\n",
       "    }\n",
       "\n",
       "    .dataframe thead th {\n",
       "        text-align: right;\n",
       "    }\n",
       "</style>\n",
       "<table border=\"1\" class=\"dataframe\">\n",
       "  <thead>\n",
       "    <tr style=\"text-align: right;\">\n",
       "      <th></th>\n",
       "      <th>Rating</th>\n",
       "      <th>Price</th>\n",
       "      <th>ABV</th>\n",
       "    </tr>\n",
       "  </thead>\n",
       "  <tbody>\n",
       "    <tr>\n",
       "      <th>count</th>\n",
       "      <td>272.000000</td>\n",
       "      <td>279.000000</td>\n",
       "      <td>270.000000</td>\n",
       "    </tr>\n",
       "    <tr>\n",
       "      <th>mean</th>\n",
       "      <td>84.474265</td>\n",
       "      <td>72.483871</td>\n",
       "      <td>44.610444</td>\n",
       "    </tr>\n",
       "    <tr>\n",
       "      <th>std</th>\n",
       "      <td>11.877887</td>\n",
       "      <td>83.992242</td>\n",
       "      <td>5.883056</td>\n",
       "    </tr>\n",
       "    <tr>\n",
       "      <th>min</th>\n",
       "      <td>40.000000</td>\n",
       "      <td>2.000000</td>\n",
       "      <td>35.500000</td>\n",
       "    </tr>\n",
       "    <tr>\n",
       "      <th>25%</th>\n",
       "      <td>80.000000</td>\n",
       "      <td>30.000000</td>\n",
       "      <td>40.000000</td>\n",
       "    </tr>\n",
       "    <tr>\n",
       "      <th>50%</th>\n",
       "      <td>88.000000</td>\n",
       "      <td>50.000000</td>\n",
       "      <td>43.000000</td>\n",
       "    </tr>\n",
       "    <tr>\n",
       "      <th>75%</th>\n",
       "      <td>94.000000</td>\n",
       "      <td>80.000000</td>\n",
       "      <td>46.000000</td>\n",
       "    </tr>\n",
       "    <tr>\n",
       "      <th>max</th>\n",
       "      <td>100.000000</td>\n",
       "      <td>850.000000</td>\n",
       "      <td>68.200000</td>\n",
       "    </tr>\n",
       "  </tbody>\n",
       "</table>\n",
       "</div>"
      ],
      "text/plain": [
       "           Rating       Price         ABV\n",
       "count  272.000000  279.000000  270.000000\n",
       "mean    84.474265   72.483871   44.610444\n",
       "std     11.877887   83.992242    5.883056\n",
       "min     40.000000    2.000000   35.500000\n",
       "25%     80.000000   30.000000   40.000000\n",
       "50%     88.000000   50.000000   43.000000\n",
       "75%     94.000000   80.000000   46.000000\n",
       "max    100.000000  850.000000   68.200000"
      ]
     },
     "execution_count": 165,
     "metadata": {},
     "output_type": "execute_result"
    }
   ],
   "source": [
    "wk.describe()"
   ]
  },
  {
   "cell_type": "code",
   "execution_count": 166,
   "metadata": {},
   "outputs": [],
   "source": [
    "wk.dropna(inplace = True)"
   ]
  },
  {
   "cell_type": "code",
   "execution_count": 167,
   "metadata": {},
   "outputs": [],
   "source": [
    "data = wk.values"
   ]
  },
  {
   "cell_type": "markdown",
   "metadata": {},
   "source": [
    "# Delete outlier"
   ]
  },
  {
   "cell_type": "code",
   "execution_count": 168,
   "metadata": {},
   "outputs": [],
   "source": [
    "def outlier(x):\n",
    "    q1, q3 = np.percentile(x,[25, 75])\n",
    "    iqr = q3 - q1\n",
    "    cut = 1.5 * iqr  \n",
    "    return [i for i in range(x.shape[0]) if x[i] < q1-cut or x[i]>q3+cut]\n",
    "\n",
    "def all_out(x):\n",
    "    idx = []\n",
    "    for i in range(x.shape[1]):\n",
    "        idx = np.concatenate((idx, outlier(x[:,i])))\n",
    "    return list(set(idx))"
   ]
  },
  {
   "cell_type": "code",
   "execution_count": 169,
   "metadata": {},
   "outputs": [
    {
     "name": "stdout",
     "output_type": "stream",
     "text": [
      "49 [0.0, 1.0, 2.0, 3.0, 4.0, 5.0, 6.0, 7.0, 8.0, 9.0, 132.0, 259.0, 133.0, 141.0, 256.0, 143.0, 257.0, 155.0, 156.0, 158.0, 159.0, 160.0, 162.0, 46.0, 174.0, 176.0, 51.0, 59.0, 60.0, 67.0, 195.0, 197.0, 199.0, 202.0, 208.0, 80.0, 210.0, 213.0, 214.0, 89.0, 220.0, 97.0, 227.0, 100.0, 229.0, 232.0, 254.0, 125.0, 126.0]\n",
      "(211, 3)\n",
      "[[ 64.    30.    40.  ]\n",
      " [ 64.    20.    40.  ]\n",
      " [ 65.    24.    40.  ]\n",
      " [ 65.    25.    40.  ]\n",
      " [ 67.    35.    40.  ]\n",
      " [ 67.    50.    43.  ]\n",
      " [ 67.    60.    40.  ]\n",
      " [ 67.    65.    40.  ]\n",
      " [ 67.    14.    40.  ]\n",
      " [ 68.    25.    40.  ]\n",
      " [ 68.    12.    40.  ]\n",
      " [ 69.    23.    40.  ]\n",
      " [ 69.    23.    40.  ]\n",
      " [ 69.    15.    40.  ]\n",
      " [ 69.    27.    45.  ]\n",
      " [ 69.    20.    40.  ]\n",
      " [ 70.    45.    43.  ]\n",
      " [ 70.    26.    40.  ]\n",
      " [ 71.    27.    40.  ]\n",
      " [ 71.    50.    43.  ]\n",
      " [ 72.    48.    46.  ]\n",
      " [ 73.    84.    40.  ]\n",
      " [ 73.    90.    40.  ]\n",
      " [ 74.    90.    46.  ]\n",
      " [ 74.    40.    40.  ]\n",
      " [ 74.    50.    45.  ]\n",
      " [ 74.    58.    40.  ]\n",
      " [ 75.    85.    43.  ]\n",
      " [ 76.    46.    45.  ]\n",
      " [ 76.    38.    53.  ]\n",
      " [ 76.    36.    46.  ]\n",
      " [ 76.    70.    46.  ]\n",
      " [ 76.    16.    40.  ]\n",
      " [ 76.    45.    40.  ]\n",
      " [ 77.    28.    40.  ]\n",
      " [ 77.    70.    46.  ]\n",
      " [ 77.    20.    50.  ]\n",
      " [ 78.    75.    45.  ]\n",
      " [ 78.    17.    40.  ]\n",
      " [ 78.    73.    40.  ]\n",
      " [ 79.    32.    40.  ]\n",
      " [ 79.    41.    46.  ]\n",
      " [ 79.    26.    43.  ]\n",
      " [ 79.    27.    40.  ]\n",
      " [ 80.    16.    43.  ]\n",
      " [ 80.    63.    43.  ]\n",
      " [ 80.    25.    43.  ]\n",
      " [ 80.    36.    40.  ]\n",
      " [ 81.    20.    40.  ]\n",
      " [ 81.    43.    46.  ]\n",
      " [ 81.    58.    43.  ]\n",
      " [ 81.    20.    40.  ]\n",
      " [ 81.    35.    42.5 ]\n",
      " [ 81.    25.    40.  ]\n",
      " [ 81.    40.    40.  ]\n",
      " [ 81.    60.    42.  ]\n",
      " [ 81.    55.    41.  ]\n",
      " [ 81.    18.    40.  ]\n",
      " [ 81.    17.    35.5 ]\n",
      " [ 81.    69.    40.  ]\n",
      " [ 81.    25.    40.  ]\n",
      " [ 81.    17.    41.  ]\n",
      " [ 81.    50.    40.  ]\n",
      " [ 81.    28.    40.  ]\n",
      " [ 81.    19.    43.  ]\n",
      " [ 82.    50.    40.  ]\n",
      " [ 82.    70.    40.  ]\n",
      " [ 82.   100.    43.  ]\n",
      " [ 82.    19.    50.  ]\n",
      " [ 82.    17.    40.  ]\n",
      " [ 82.   133.    53.  ]\n",
      " [ 82.   100.    43.  ]\n",
      " [ 83.    28.    46.  ]\n",
      " [ 83.    42.    46.  ]\n",
      " [ 83.    70.    45.  ]\n",
      " [ 83.    35.    47.  ]\n",
      " [ 83.    65.    43.  ]\n",
      " [ 83.    60.    43.  ]\n",
      " [ 84.    25.    40.  ]\n",
      " [ 84.    47.    40.  ]\n",
      " [ 84.   100.    40.  ]\n",
      " [ 84.    43.    40.  ]\n",
      " [ 85.    34.    46.  ]\n",
      " [ 85.    68.    43.  ]\n",
      " [ 85.    98.    54.7 ]\n",
      " [ 85.    65.    50.  ]\n",
      " [ 85.   100.    47.5 ]\n",
      " [ 85.    39.    40.  ]\n",
      " [ 85.    95.    46.  ]\n",
      " [ 85.    36.    40.  ]\n",
      " [ 86.    61.    40.  ]\n",
      " [ 86.    24.    40.  ]\n",
      " [ 86.    43.    43.  ]\n",
      " [ 86.    43.    43.  ]\n",
      " [ 86.    20.    43.  ]\n",
      " [ 86.    24.    45.  ]\n",
      " [ 86.    40.    40.  ]\n",
      " [ 86.    49.    47.8 ]\n",
      " [ 87.    20.    45.  ]\n",
      " [ 87.    50.    40.  ]\n",
      " [ 87.    30.    45.  ]\n",
      " [ 87.    50.    43.  ]\n",
      " [ 87.    49.    47.  ]\n",
      " [ 87.    53.    50.  ]\n",
      " [ 87.    40.    45.  ]\n",
      " [ 88.    27.    45.  ]\n",
      " [ 88.    32.    40.  ]\n",
      " [ 88.    60.    40.  ]\n",
      " [ 88.   100.    43.  ]\n",
      " [ 88.    35.    40.  ]\n",
      " [ 88.    30.    40.  ]\n",
      " [ 88.    48.    43.  ]\n",
      " [ 88.    40.    40.  ]\n",
      " [ 88.    45.    46.  ]\n",
      " [ 88.    25.    42.  ]\n",
      " [ 88.    48.    40.  ]\n",
      " [ 88.    28.    50.  ]\n",
      " [ 88.    40.    40.  ]\n",
      " [ 88.    61.    46.  ]\n",
      " [ 88.    39.    43.  ]\n",
      " [ 88.    75.    47.  ]\n",
      " [ 88.    21.    50.  ]\n",
      " [ 88.    53.    43.  ]\n",
      " [ 88.   128.    43.  ]\n",
      " [ 88.    27.    45.  ]\n",
      " [ 88.    34.    45.  ]\n",
      " [ 88.    50.    47.  ]\n",
      " [ 88.   125.    50.  ]\n",
      " [ 89.    65.    43.  ]\n",
      " [ 89.    35.    40.  ]\n",
      " [ 89.    90.    47.  ]\n",
      " [ 90.   140.    40.  ]\n",
      " [ 90.    79.    43.  ]\n",
      " [ 90.    70.    43.  ]\n",
      " [ 90.    45.    43.  ]\n",
      " [ 90.    37.    54.1 ]\n",
      " [ 90.    70.    43.  ]\n",
      " [ 90.    55.    40.  ]\n",
      " [ 90.    90.    47.  ]\n",
      " [ 90.    29.    43.  ]\n",
      " [ 91.    64.    40.  ]\n",
      " [ 91.   132.    40.  ]\n",
      " [ 91.    75.    46.  ]\n",
      " [ 91.   120.    40.  ]\n",
      " [ 92.    67.    46.  ]\n",
      " [ 92.    94.    46.  ]\n",
      " [ 92.    70.    40.  ]\n",
      " [ 92.    40.    40.  ]\n",
      " [ 92.    47.    46.3 ]\n",
      " [ 92.    45.    40.  ]\n",
      " [ 92.    57.    45.  ]\n",
      " [ 92.   109.    43.  ]\n",
      " [ 92.    47.    48.  ]\n",
      " [ 93.    39.    40.  ]\n",
      " [ 93.   133.    40.  ]\n",
      " [ 93.    35.    45.  ]\n",
      " [ 93.    32.    45.  ]\n",
      " [ 94.   108.    46.3 ]\n",
      " [ 94.   107.    43.  ]\n",
      " [ 94.    60.    46.  ]\n",
      " [ 94.    93.    45.2 ]\n",
      " [ 94.    95.    40.  ]\n",
      " [ 94.   140.    44.  ]\n",
      " [ 94.   115.    46.  ]\n",
      " [ 94.    68.    45.82]\n",
      " [ 94.    80.    43.  ]\n",
      " [ 94.    45.    43.  ]\n",
      " [ 94.    42.    50.5 ]\n",
      " [ 95.   120.    46.  ]\n",
      " [ 95.    47.    40.  ]\n",
      " [ 95.    55.    46.  ]\n",
      " [ 96.    70.    45.  ]\n",
      " [ 96.    50.    50.05]\n",
      " [ 96.    80.    46.2 ]\n",
      " [ 96.    84.    46.  ]\n",
      " [ 96.    65.    50.  ]\n",
      " [ 96.    30.    47.5 ]\n",
      " [ 96.    43.    40.  ]\n",
      " [ 96.    89.    43.  ]\n",
      " [ 96.    62.    46.  ]\n",
      " [ 96.    73.    43.  ]\n",
      " [ 96.    30.    40.  ]\n",
      " [ 96.    79.    43.  ]\n",
      " [ 96.    43.    46.3 ]\n",
      " [ 96.    54.    40.  ]\n",
      " [ 96.    48.    43.  ]\n",
      " [ 96.    25.    40.  ]\n",
      " [ 96.    30.    40.  ]\n",
      " [ 96.    40.    40.  ]\n",
      " [ 96.    65.    48.  ]\n",
      " [ 96.    64.    40.  ]\n",
      " [ 96.    40.    46.  ]\n",
      " [ 97.   123.    40.  ]\n",
      " [ 99.    35.    40.  ]\n",
      " [ 99.   120.    43.  ]\n",
      " [ 99.    42.    40.  ]\n",
      " [ 99.    80.    46.  ]\n",
      " [ 99.    92.    46.3 ]\n",
      " [ 99.   107.    48.  ]\n",
      " [ 99.    45.    40.  ]\n",
      " [ 99.   100.    43.  ]\n",
      " [ 99.    60.    43.  ]\n",
      " [ 99.    70.    43.  ]\n",
      " [ 99.    50.    40.  ]\n",
      " [ 99.    45.    40.  ]\n",
      " [ 99.    45.    48.  ]\n",
      " [ 99.    70.    43.  ]\n",
      " [ 99.    11.    40.  ]\n",
      " [ 99.    58.    53.5 ]\n",
      " [ 99.    80.    54.2 ]\n",
      " [100.    72.    46.  ]]\n"
     ]
    },
    {
     "name": "stderr",
     "output_type": "stream",
     "text": [
      "/anaconda3/lib/python3.6/site-packages/ipykernel_launcher.py:3: DeprecationWarning: using a non-integer array as obj in delete will result in an error in the future\n",
      "  This is separate from the ipykernel package so we can avoid doing imports until\n"
     ]
    }
   ],
   "source": [
    "idx = all_out(data)\n",
    "print(len(idx),idx)\n",
    "data = np.delete(data, idx, axis=0)\n",
    "print(data.shape)\n",
    "print(data)"
   ]
  },
  {
   "cell_type": "markdown",
   "metadata": {},
   "source": [
    "# Convert to MinMax normalization"
   ]
  },
  {
   "cell_type": "code",
   "execution_count": 170,
   "metadata": {},
   "outputs": [
    {
     "name": "stdout",
     "output_type": "stream",
     "text": [
      "[[0.         0.14728682 0.234375  ]\n",
      " [0.         0.06976744 0.234375  ]\n",
      " [0.02777778 0.10077519 0.234375  ]\n",
      " [0.02777778 0.10852713 0.234375  ]\n",
      " [0.08333333 0.18604651 0.234375  ]\n",
      " [0.08333333 0.30232558 0.390625  ]\n",
      " [0.08333333 0.37984496 0.234375  ]\n",
      " [0.08333333 0.41860465 0.234375  ]\n",
      " [0.08333333 0.02325581 0.234375  ]\n",
      " [0.11111111 0.10852713 0.234375  ]\n",
      " [0.11111111 0.00775194 0.234375  ]\n",
      " [0.13888889 0.09302326 0.234375  ]\n",
      " [0.13888889 0.09302326 0.234375  ]\n",
      " [0.13888889 0.03100775 0.234375  ]\n",
      " [0.13888889 0.12403101 0.49479167]\n",
      " [0.13888889 0.06976744 0.234375  ]\n",
      " [0.16666667 0.26356589 0.390625  ]\n",
      " [0.16666667 0.11627907 0.234375  ]\n",
      " [0.19444444 0.12403101 0.234375  ]\n",
      " [0.19444444 0.30232558 0.390625  ]\n",
      " [0.22222222 0.28682171 0.546875  ]\n",
      " [0.25       0.56589147 0.234375  ]\n",
      " [0.25       0.6124031  0.234375  ]\n",
      " [0.27777778 0.6124031  0.546875  ]\n",
      " [0.27777778 0.2248062  0.234375  ]\n",
      " [0.27777778 0.30232558 0.49479167]\n",
      " [0.27777778 0.36434109 0.234375  ]\n",
      " [0.30555556 0.57364341 0.390625  ]\n",
      " [0.33333333 0.27131783 0.49479167]\n",
      " [0.33333333 0.20930233 0.91145833]\n",
      " [0.33333333 0.19379845 0.546875  ]\n",
      " [0.33333333 0.45736434 0.546875  ]\n",
      " [0.33333333 0.03875969 0.234375  ]\n",
      " [0.33333333 0.26356589 0.234375  ]\n",
      " [0.36111111 0.13178295 0.234375  ]\n",
      " [0.36111111 0.45736434 0.546875  ]\n",
      " [0.36111111 0.06976744 0.75520833]\n",
      " [0.38888889 0.49612403 0.49479167]\n",
      " [0.38888889 0.04651163 0.234375  ]\n",
      " [0.38888889 0.48062016 0.234375  ]\n",
      " [0.41666667 0.1627907  0.234375  ]\n",
      " [0.41666667 0.23255814 0.546875  ]\n",
      " [0.41666667 0.11627907 0.390625  ]\n",
      " [0.41666667 0.12403101 0.234375  ]\n",
      " [0.44444444 0.03875969 0.390625  ]\n",
      " [0.44444444 0.40310078 0.390625  ]\n",
      " [0.44444444 0.10852713 0.390625  ]\n",
      " [0.44444444 0.19379845 0.234375  ]\n",
      " [0.47222222 0.06976744 0.234375  ]\n",
      " [0.47222222 0.24806202 0.546875  ]\n",
      " [0.47222222 0.36434109 0.390625  ]\n",
      " [0.47222222 0.06976744 0.234375  ]\n",
      " [0.47222222 0.18604651 0.36458333]\n",
      " [0.47222222 0.10852713 0.234375  ]\n",
      " [0.47222222 0.2248062  0.234375  ]\n",
      " [0.47222222 0.37984496 0.33854167]\n",
      " [0.47222222 0.34108527 0.28645833]\n",
      " [0.47222222 0.05426357 0.234375  ]\n",
      " [0.47222222 0.04651163 0.        ]\n",
      " [0.47222222 0.4496124  0.234375  ]\n",
      " [0.47222222 0.10852713 0.234375  ]\n",
      " [0.47222222 0.04651163 0.28645833]\n",
      " [0.47222222 0.30232558 0.234375  ]\n",
      " [0.47222222 0.13178295 0.234375  ]\n",
      " [0.47222222 0.0620155  0.390625  ]\n",
      " [0.5        0.30232558 0.234375  ]\n",
      " [0.5        0.45736434 0.234375  ]\n",
      " [0.5        0.68992248 0.390625  ]\n",
      " [0.5        0.0620155  0.75520833]\n",
      " [0.5        0.04651163 0.234375  ]\n",
      " [0.5        0.94573643 0.91145833]\n",
      " [0.5        0.68992248 0.390625  ]\n",
      " [0.52777778 0.13178295 0.546875  ]\n",
      " [0.52777778 0.24031008 0.546875  ]\n",
      " [0.52777778 0.45736434 0.49479167]\n",
      " [0.52777778 0.18604651 0.59895833]\n",
      " [0.52777778 0.41860465 0.390625  ]\n",
      " [0.52777778 0.37984496 0.390625  ]\n",
      " [0.55555556 0.10852713 0.234375  ]\n",
      " [0.55555556 0.27906977 0.234375  ]\n",
      " [0.55555556 0.68992248 0.234375  ]\n",
      " [0.55555556 0.24806202 0.234375  ]\n",
      " [0.58333333 0.17829457 0.546875  ]\n",
      " [0.58333333 0.44186047 0.390625  ]\n",
      " [0.58333333 0.6744186  1.        ]\n",
      " [0.58333333 0.41860465 0.75520833]\n",
      " [0.58333333 0.68992248 0.625     ]\n",
      " [0.58333333 0.21705426 0.234375  ]\n",
      " [0.58333333 0.65116279 0.546875  ]\n",
      " [0.58333333 0.19379845 0.234375  ]\n",
      " [0.61111111 0.3875969  0.234375  ]\n",
      " [0.61111111 0.10077519 0.234375  ]\n",
      " [0.61111111 0.24806202 0.390625  ]\n",
      " [0.61111111 0.24806202 0.390625  ]\n",
      " [0.61111111 0.06976744 0.390625  ]\n",
      " [0.61111111 0.10077519 0.49479167]\n",
      " [0.61111111 0.2248062  0.234375  ]\n",
      " [0.61111111 0.29457364 0.640625  ]\n",
      " [0.63888889 0.06976744 0.49479167]\n",
      " [0.63888889 0.30232558 0.234375  ]\n",
      " [0.63888889 0.14728682 0.49479167]\n",
      " [0.63888889 0.30232558 0.390625  ]\n",
      " [0.63888889 0.29457364 0.59895833]\n",
      " [0.63888889 0.3255814  0.75520833]\n",
      " [0.63888889 0.2248062  0.49479167]\n",
      " [0.66666667 0.12403101 0.49479167]\n",
      " [0.66666667 0.1627907  0.234375  ]\n",
      " [0.66666667 0.37984496 0.234375  ]\n",
      " [0.66666667 0.68992248 0.390625  ]\n",
      " [0.66666667 0.18604651 0.234375  ]\n",
      " [0.66666667 0.14728682 0.234375  ]\n",
      " [0.66666667 0.28682171 0.390625  ]\n",
      " [0.66666667 0.2248062  0.234375  ]\n",
      " [0.66666667 0.26356589 0.546875  ]\n",
      " [0.66666667 0.10852713 0.33854167]\n",
      " [0.66666667 0.28682171 0.234375  ]\n",
      " [0.66666667 0.13178295 0.75520833]\n",
      " [0.66666667 0.2248062  0.234375  ]\n",
      " [0.66666667 0.3875969  0.546875  ]\n",
      " [0.66666667 0.21705426 0.390625  ]\n",
      " [0.66666667 0.49612403 0.59895833]\n",
      " [0.66666667 0.07751938 0.75520833]\n",
      " [0.66666667 0.3255814  0.390625  ]\n",
      " [0.66666667 0.90697674 0.390625  ]\n",
      " [0.66666667 0.12403101 0.49479167]\n",
      " [0.66666667 0.17829457 0.49479167]\n",
      " [0.66666667 0.30232558 0.59895833]\n",
      " [0.66666667 0.88372093 0.75520833]\n",
      " [0.69444444 0.41860465 0.390625  ]\n",
      " [0.69444444 0.18604651 0.234375  ]\n",
      " [0.69444444 0.6124031  0.59895833]\n",
      " [0.72222222 1.         0.234375  ]\n",
      " [0.72222222 0.52713178 0.390625  ]\n",
      " [0.72222222 0.45736434 0.390625  ]\n",
      " [0.72222222 0.26356589 0.390625  ]\n",
      " [0.72222222 0.20155039 0.96875   ]\n",
      " [0.72222222 0.45736434 0.390625  ]\n",
      " [0.72222222 0.34108527 0.234375  ]\n",
      " [0.72222222 0.6124031  0.59895833]\n",
      " [0.72222222 0.13953488 0.390625  ]\n",
      " [0.75       0.41085271 0.234375  ]\n",
      " [0.75       0.9379845  0.234375  ]\n",
      " [0.75       0.49612403 0.546875  ]\n",
      " [0.75       0.84496124 0.234375  ]\n",
      " [0.77777778 0.43410853 0.546875  ]\n",
      " [0.77777778 0.64341085 0.546875  ]\n",
      " [0.77777778 0.45736434 0.234375  ]\n",
      " [0.77777778 0.2248062  0.234375  ]\n",
      " [0.77777778 0.27906977 0.5625    ]\n",
      " [0.77777778 0.26356589 0.234375  ]\n",
      " [0.77777778 0.35658915 0.49479167]\n",
      " [0.77777778 0.75968992 0.390625  ]\n",
      " [0.77777778 0.27906977 0.65104167]\n",
      " [0.80555556 0.21705426 0.234375  ]\n",
      " [0.80555556 0.94573643 0.234375  ]\n",
      " [0.80555556 0.18604651 0.49479167]\n",
      " [0.80555556 0.1627907  0.49479167]\n",
      " [0.83333333 0.75193798 0.5625    ]\n",
      " [0.83333333 0.74418605 0.390625  ]\n",
      " [0.83333333 0.37984496 0.546875  ]\n",
      " [0.83333333 0.63565891 0.50520833]\n",
      " [0.83333333 0.65116279 0.234375  ]\n",
      " [0.83333333 1.         0.44270833]\n",
      " [0.83333333 0.80620155 0.546875  ]\n",
      " [0.83333333 0.44186047 0.5375    ]\n",
      " [0.83333333 0.53488372 0.390625  ]\n",
      " [0.83333333 0.26356589 0.390625  ]\n",
      " [0.83333333 0.24031008 0.78125   ]\n",
      " [0.86111111 0.84496124 0.546875  ]\n",
      " [0.86111111 0.27906977 0.234375  ]\n",
      " [0.86111111 0.34108527 0.546875  ]\n",
      " [0.88888889 0.45736434 0.49479167]\n",
      " [0.88888889 0.30232558 0.7578125 ]\n",
      " [0.88888889 0.53488372 0.55729167]\n",
      " [0.88888889 0.56589147 0.546875  ]\n",
      " [0.88888889 0.41860465 0.75520833]\n",
      " [0.88888889 0.14728682 0.625     ]\n",
      " [0.88888889 0.24806202 0.234375  ]\n",
      " [0.88888889 0.60465116 0.390625  ]\n",
      " [0.88888889 0.39534884 0.546875  ]\n",
      " [0.88888889 0.48062016 0.390625  ]\n",
      " [0.88888889 0.14728682 0.234375  ]\n",
      " [0.88888889 0.52713178 0.390625  ]\n",
      " [0.88888889 0.24806202 0.5625    ]\n",
      " [0.88888889 0.33333333 0.234375  ]\n",
      " [0.88888889 0.28682171 0.390625  ]\n",
      " [0.88888889 0.10852713 0.234375  ]\n",
      " [0.88888889 0.14728682 0.234375  ]\n",
      " [0.88888889 0.2248062  0.234375  ]\n",
      " [0.88888889 0.41860465 0.65104167]\n",
      " [0.88888889 0.41085271 0.234375  ]\n",
      " [0.88888889 0.2248062  0.546875  ]\n",
      " [0.91666667 0.86821705 0.234375  ]\n",
      " [0.97222222 0.18604651 0.234375  ]\n",
      " [0.97222222 0.84496124 0.390625  ]\n",
      " [0.97222222 0.24031008 0.234375  ]\n",
      " [0.97222222 0.53488372 0.546875  ]\n",
      " [0.97222222 0.62790698 0.5625    ]\n",
      " [0.97222222 0.74418605 0.65104167]\n",
      " [0.97222222 0.26356589 0.234375  ]\n",
      " [0.97222222 0.68992248 0.390625  ]\n",
      " [0.97222222 0.37984496 0.390625  ]\n",
      " [0.97222222 0.45736434 0.390625  ]\n",
      " [0.97222222 0.30232558 0.234375  ]\n",
      " [0.97222222 0.26356589 0.234375  ]\n",
      " [0.97222222 0.26356589 0.65104167]\n",
      " [0.97222222 0.45736434 0.390625  ]\n",
      " [0.97222222 0.         0.234375  ]\n",
      " [0.97222222 0.36434109 0.9375    ]\n",
      " [0.97222222 0.53488372 0.97395833]\n",
      " [1.         0.47286822 0.546875  ]]\n"
     ]
    }
   ],
   "source": [
    "data = MinMaxScaler().fit_transform(data)\n",
    "print(data)"
   ]
  },
  {
   "cell_type": "code",
   "execution_count": 171,
   "metadata": {},
   "outputs": [],
   "source": [
    "label = np.array(['low' if d <= 1/3  else 'medium' if d <= 2/3 else 'high' for d in data[:,0]]) # Convert rating to low medium high"
   ]
  },
  {
   "cell_type": "code",
   "execution_count": 172,
   "metadata": {},
   "outputs": [],
   "source": [
    "\"\"\"wk = pd.DataFrame(data={\"Price\":(data[:,1]),\n",
    "                        \"ABV\":(data[:,2]),\n",
    "                         \"Rating\":(label)})\"\"\"\n",
    "\n",
    "wk = pd.DataFrame(data={\"Price\":(data[:,1]),\n",
    "                        \"ABV\":(data[:,2]),\n",
    "                         \"Rating\":(data[:,0])})"
   ]
  },
  {
   "cell_type": "markdown",
   "metadata": {},
   "source": [
    "# Plot before Clustering"
   ]
  },
  {
   "cell_type": "code",
   "execution_count": 173,
   "metadata": {
    "scrolled": true
   },
   "outputs": [
    {
     "data": {
      "text/plain": [
       "Text(0, 0.5, 'Rating')"
      ]
     },
     "execution_count": 173,
     "metadata": {},
     "output_type": "execute_result"
    },
    {
     "data": {
      "image/png": "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\n",
      "text/plain": [
       "<Figure size 432x288 with 1 Axes>"
      ]
     },
     "metadata": {
      "needs_background": "light"
     },
     "output_type": "display_data"
    }
   ],
   "source": [
    "f1 = wk['Price'].values\n",
    "f2 = wk['Rating'].values\n",
    "X = np.array(list(zip(f1, f2)))\n",
    "plt.scatter(f1,f2,c='black', s=7)\n",
    "plt.xlabel('Price')\n",
    "plt.ylabel('Rating')"
   ]
  },
  {
   "cell_type": "code",
   "execution_count": 174,
   "metadata": {},
   "outputs": [
    {
     "data": {
      "text/plain": [
       "Text(0, 0.5, 'Rating')"
      ]
     },
     "execution_count": 174,
     "metadata": {},
     "output_type": "execute_result"
    },
    {
     "data": {
      "image/png": "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\n",
      "text/plain": [
       "<Figure size 432x288 with 1 Axes>"
      ]
     },
     "metadata": {
      "needs_background": "light"
     },
     "output_type": "display_data"
    }
   ],
   "source": [
    "f1 = wk['ABV'].values\n",
    "f2 = wk['Rating'].values\n",
    "X = np.array(list(zip(f1, f2)))\n",
    "plt.scatter(f1,f2,c='black', s=7)\n",
    "plt.xlabel('ABV')\n",
    "plt.ylabel('Rating')"
   ]
  },
  {
   "cell_type": "markdown",
   "metadata": {},
   "source": [
    "# Use K-means Algorithm"
   ]
  },
  {
   "cell_type": "markdown",
   "metadata": {},
   "source": [
    "# Workflow 1"
   ]
  },
  {
   "cell_type": "code",
   "execution_count": 175,
   "metadata": {},
   "outputs": [],
   "source": [
    "def Kmeans(number, attribute):\n",
    "    k = KMeans(n_clusters=number)\n",
    "    #k.fit(wk.drop('Rating',axis=1))\n",
    "    k.fit(wk[[attribute, 'Rating']])\n",
    "    print('Centroid =',k.cluster_centers_)\n",
    "    k.labels_\n",
    "    plt.scatter(wk[attribute].values,wk['Rating'].values, c=k.labels_, cmap='rainbow')\n",
    "    plt.scatter(k.cluster_centers_[:,0] ,k.cluster_centers_[:,1], marker='*', c='black', s=150)\n",
    "    plt.xlabel(attribute)\n",
    "    plt.ylabel('Rating')\n",
    "    \n",
    "    return k.labels_"
   ]
  },
  {
   "cell_type": "code",
   "execution_count": 176,
   "metadata": {},
   "outputs": [
    {
     "name": "stdout",
     "output_type": "stream",
     "text": [
      "Centroid = [[0.47043624 0.80528322]\n",
      " [0.21406728 0.42889908]]\n",
      "cluser group: [1 1 1 1 1 1 1 1 1 1 1 1 1 1 1 1 1 1 1 1 1 1 1 1 1 1 1 1 1 1 1 1 1 1 1 1 1\n",
      " 1 1 1 1 1 1 1 1 1 1 1 1 1 1 1 1 1 1 1 1 1 1 1 1 1 1 1 1 1 1 0 1 1 0 0 1 1\n",
      " 1 1 1 1 1 1 0 1 1 0 0 0 0 1 0 1 0 1 1 1 1 1 1 1 1 1 1 1 1 0 1 1 1 0 0 1 1\n",
      " 0 1 1 1 0 1 1 0 1 0 1 0 0 1 1 0 0 0 1 0 0 0 0 0 0 0 0 0 1 0 0 0 0 0 0 0 0\n",
      " 0 0 0 0 0 0 0 0 0 0 0 0 0 0 0 0 0 0 0 0 0 0 0 0 0 0 0 0 0 0 0 0 0 0 0 0 0\n",
      " 0 0 0 0 0 0 0 0 0 0 0 0 0 0 0 0 0 0 0 0 0 0 0 0 0 0]\n"
     ]
    },
    {
     "data": {
      "image/png": "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\n",
      "text/plain": [
       "<Figure size 432x288 with 1 Axes>"
      ]
     },
     "metadata": {
      "needs_background": "light"
     },
     "output_type": "display_data"
    }
   ],
   "source": [
    "k2price = Kmeans(2,'Price')\n",
    "print(\"cluser group:\",k2price)"
   ]
  },
  {
   "cell_type": "code",
   "execution_count": 177,
   "metadata": {},
   "outputs": [
    {
     "name": "stdout",
     "output_type": "stream",
     "text": [
      "Centroid = [[0.21694807 0.33028919]\n",
      " [0.2803876  0.7525    ]\n",
      " [0.72215422 0.77704678]]\n",
      "cluster group: [0 0 0 0 0 0 0 0 0 0 0 0 0 0 0 0 0 0 0 0 0 0 0 0 0 0 0 0 0 0 0 0 0 0 0 0 0\n",
      " 0 0 0 0 0 0 0 0 0 0 0 0 0 0 0 0 0 0 0 0 0 0 0 0 0 0 0 0 0 0 2 0 0 2 2 0 0\n",
      " 1 0 1 1 0 1 2 1 1 1 2 1 2 1 2 1 1 1 1 1 1 1 1 1 1 1 1 1 1 1 1 1 1 1 2 1 1\n",
      " 1 1 1 1 1 1 1 1 1 1 1 1 2 1 1 1 2 1 1 2 2 2 1 1 1 1 1 2 1 1 2 1 2 1 2 1 1\n",
      " 1 1 1 2 1 1 2 1 1 2 2 1 2 2 2 2 1 2 1 1 2 1 1 1 1 2 2 1 1 1 2 1 1 1 2 1 1\n",
      " 1 1 1 1 1 1 1 2 1 2 1 2 2 2 1 2 1 1 1 1 1 1 1 1 2 1]\n"
     ]
    },
    {
     "data": {
      "image/png": "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\n",
      "text/plain": [
       "<Figure size 432x288 with 1 Axes>"
      ]
     },
     "metadata": {
      "needs_background": "light"
     },
     "output_type": "display_data"
    }
   ],
   "source": [
    "k3price = Kmeans(3,'Price')\n",
    "print(\"cluster group:\",k3price)"
   ]
  },
  {
   "cell_type": "code",
   "execution_count": 178,
   "metadata": {},
   "outputs": [
    {
     "name": "stdout",
     "output_type": "stream",
     "text": [
      "Centroid = [[0.34396099 0.85439068]\n",
      " [0.21047984 0.5625879 ]\n",
      " [0.76394099 0.75358423]\n",
      " [0.24826078 0.20797721]]\n",
      "cluster group: [3 3 3 3 3 3 3 3 3 3 3 3 3 3 3 3 3 3 3 3 3 3 3 3 3 3 3 3 3 3 3 3 3 3 3 3 3\n",
      " 3 1 3 1 1 1 1 1 1 1 1 1 1 1 1 1 1 1 1 1 1 1 1 1 1 1 1 1 1 1 2 1 1 2 2 1 1\n",
      " 1 1 1 1 1 1 2 1 1 1 2 1 2 1 2 1 1 1 1 1 1 1 1 1 1 1 1 1 1 1 1 1 1 0 2 1 1\n",
      " 1 1 1 1 1 1 1 0 1 0 1 1 2 1 1 1 2 0 1 2 2 0 0 0 1 0 0 2 1 0 2 0 2 0 2 0 0\n",
      " 0 0 0 2 0 0 2 0 0 2 2 0 2 2 2 2 0 0 0 0 2 0 0 0 0 0 0 0 0 0 2 0 0 0 0 0 0\n",
      " 0 0 0 0 0 0 0 2 0 2 0 0 2 2 0 2 0 0 0 0 0 0 0 0 0 0]\n"
     ]
    },
    {
     "data": {
      "image/png": "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\n",
      "text/plain": [
       "<Figure size 432x288 with 1 Axes>"
      ]
     },
     "metadata": {
      "needs_background": "light"
     },
     "output_type": "display_data"
    }
   ],
   "source": [
    "k4price = Kmeans(4,\"Price\")\n",
    "print(\"cluster group:\",k4price)"
   ]
  },
  {
   "cell_type": "code",
   "execution_count": 179,
   "metadata": {},
   "outputs": [
    {
     "name": "stdout",
     "output_type": "stream",
     "text": [
      "Centroid = [[0.45377898 0.76670844]\n",
      " [0.32051282 0.34508547]]\n",
      "cluster group: [1 1 1 1 1 1 1 1 1 1 1 1 1 1 1 1 1 1 1 1 1 1 1 1 1 1 1 1 1 1 1 1 1 1 1 1 1\n",
      " 1 1 1 1 1 1 1 1 1 1 1 1 1 1 1 1 1 1 1 1 1 1 1 1 1 1 1 1 1 1 1 0 1 0 1 0 0\n",
      " 0 0 1 1 1 1 1 1 0 0 0 0 0 1 0 1 0 0 0 0 0 0 0 0 0 0 0 0 0 0 0 0 0 0 0 0 0\n",
      " 0 0 0 0 0 0 0 0 0 0 0 0 0 0 0 0 0 0 0 0 0 0 0 0 0 0 0 0 0 0 0 0 0 0 0 0 0\n",
      " 0 0 0 0 0 0 0 0 0 0 0 0 0 0 0 0 0 0 0 0 0 0 0 0 0 0 0 0 0 0 0 0 0 0 0 0 0\n",
      " 0 0 0 0 0 0 0 0 0 0 0 0 0 0 0 0 0 0 0 0 0 0 0 0 0 0]\n"
     ]
    },
    {
     "data": {
      "image/png": "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\n",
      "text/plain": [
       "<Figure size 432x288 with 1 Axes>"
      ]
     },
     "metadata": {
      "needs_background": "light"
     },
     "output_type": "display_data"
    }
   ],
   "source": [
    "k2abv = Kmeans(2,\"ABV\")\n",
    "print(\"cluster group:\",k2abv)"
   ]
  },
  {
   "cell_type": "code",
   "execution_count": 180,
   "metadata": {},
   "outputs": [
    {
     "name": "stdout",
     "output_type": "stream",
     "text": [
      "Centroid = [[0.62015703 0.73300166]\n",
      " [0.29895833 0.76555556]\n",
      " [0.30985809 0.32407407]]\n",
      "cluster group: [2 2 2 2 2 2 2 2 2 2 2 2 2 2 2 2 2 2 2 2 2 2 2 2 2 2 2 2 2 0 2 2 2 2 2 2 0\n",
      " 2 2 2 2 2 2 2 2 2 2 2 2 0 2 2 2 2 2 2 2 2 2 2 2 2 2 2 2 2 2 2 0 2 0 2 0 0\n",
      " 0 0 2 2 1 1 1 1 0 1 0 0 0 1 0 1 1 1 1 1 1 0 1 0 0 1 0 1 0 0 0 0 1 1 1 1 1\n",
      " 1 1 0 1 1 0 1 0 1 0 0 1 1 0 0 0 0 1 1 0 1 1 1 1 0 1 1 0 1 1 1 0 1 0 0 1 1\n",
      " 0 1 0 1 0 1 1 0 0 0 1 0 0 1 1 0 0 1 1 0 0 1 0 0 0 0 0 0 0 1 1 0 1 1 1 0 1\n",
      " 1 1 1 1 0 1 0 1 1 1 1 0 0 0 1 1 1 1 1 1 0 1 1 0 0 0]\n"
     ]
    },
    {
     "data": {
      "image/png": "iVBORw0KGgoAAAANSUhEUgAAAYUAAAEKCAYAAAD9xUlFAAAABHNCSVQICAgIfAhkiAAAAAlwSFlzAAALEgAACxIB0t1+/AAAADl0RVh0U29mdHdhcmUAbWF0cGxvdGxpYiB2ZXJzaW9uIDMuMC4wLCBodHRwOi8vbWF0cGxvdGxpYi5vcmcvqOYd8AAAIABJREFUeJzt3XecVOX1+PHPmdnCFsrSpFepoiAC1tg1lghWFEvEqFiCmkRjTGJMYvkm0V+KLSoh1lhjVLCiQUqkqAvSe2cF6QtsYcvM8/vjmV12Z+7Mzu7OnZndOe/Xixe7996Ze4Zd5sy9z/OcI8YYlFJKKQBPogNQSimVPDQpKKWUqqZJQSmlVDVNCkoppappUlBKKVVNk4JSSqlqmhSUUkpV06SglFKqmiYFpZRS1dISHUB9tW/f3vTq1SvRYSilVJOyYMGC3caYDnUd1+SSQq9evcjPz090GEop1aSIyOZojtPbR0oppappUlBKKVVNk4JSSqlqmhSUUkpV06SglFKqmiYFpZRS1TQpKKWUquZaUhCR50Vkp4gsC7NfROQJEVknIktEZLhbsSiVjEr3wfy/wXvj4csn4FBhoiNSyt3Fay8CTwEvh9l/PtAv8Od44JnA30o1e3vXweQToKIUKktgxb9h9kNw01eQ1zvR0alU5tqVgjFmNrA3wiFjgJeNNR9oIyKd3YpHqWTy4e1waJ9NCAAVJVC6Fz6+I7FxKZXIMYWuwNYa3xcEtinVrBkDGz8H4w/a7of1nyUmJqWqJDIpiMM243igyAQRyReR/F27drkcllLu86Q7b/eG2a5UvCQyKRQA3Wt83w3Y5nSgMWaSMWaEMWZEhw51FvlTDVBOOS8xl38yhyKKEh1OvXzLPl5iHh+wJNGhREUEhlwF3oza272ZcPTVsGMJbPkCKg+5G8fe9TD/cdg0093zpJrdq2HzbCg7EPk4Y2DHUvuzriiJT2zRSGSV1KnARBF5AzvAvN8Ysz2B8aSsl5jLZvZVf/8XZpFHNndwRgKjis6f+IQyfABsZi8L2co5DORE+iY4ssjOeRRWTwFf+eFt6VmwYTosfQ08XvumceHf4ZhrY3tuvx+ePxG+/erwthZ5cOsiaN0jtudKJcU74fWLYOcyeyXoK4fTHoBT7gs9dt9GeO1C2L/F/qz9Pjj/STj2hvjHHczNKamvA/OAASJSICI3isitInJr4JCPgA3AOuAfwO1uxaLC28TuWgmhyj5K+B9rExBR9F5kbnVCqOkzVlFBRQIiit7cx+zMo5oOFULhBqgotp8yyw/CB7fAd4tje+4PbqmdEMAOek/WuX+N8tZlsP0b+6m/bD9UlsLsh2HNB7WPMwZeOQf2rD78s64oho8nwrdfJyb2mtycfTTOGNPZGJNujOlmjPmnMeZZY8yzgf3GGPNjY0xfY8zRxhhtkpAAb7Eg7L6ZrIljJPW3xSGZVfmQ5XGMpP7ynwVfFLeHKssg/5nYnnvJK87bi76Dwqgq7qtg+7fAtnzwB30WqSiGeX+pve3br6B4R+hEg8pD8PVT7sYZDV3RnOIq8Yfd5zjq30TspTjRIYRlDJRHOWxjfFAU45uqwW9cNR10HNVTdSnZE37yQPHO2t+X7gFxeOc1fjiYBDfQNSmkuN60D7uvDVlxjKT+0hwnsFlnMiCOkdSPCHQZEd2x6TnQ/6LYnr9NH+ft4oGuI2N7rlTRYbDzdm8G9Luw9rZuJ9QeS6qSng0DRsc+tvrSpJDixhH+XeBWToljJPUXLvZ0PPSKkOySwQVP2zd88drvJc1+0kyrkYfTsiCvDxx9TWzPfcnLOE4IP+U+8DS5Br3JIS0TznvCvrFX/dt6W0B2ezjpntrHZrWFU38TOLbq8Vl2kH9YEgw0izFN6ybBiBEjjPZojq1yynmcmZQGBmcz8DKBU2hLboIjq9t6dvIG+fgCN7u60ZofJXkyq7JnrR1w/m4RdB4OJ/3cDj5+9bQd+B18BRw3ATJyYn/uHUtg6s2wa7l94zrrkdgnn1S0da4dQzhQAH2/D8ffCdntnI9d/6mteVW6FwZdCiNuhQwX/8uJyAJjTJ3XqJoUlFIqBUSbFPT2kVJKqWqaFJRSSlXTYSUFwA4OsJRv8WMYRGe6k5fokJRSCaBJQTGX9cxkDT78GGABWxhGN85nSKJDU0rFmd4+SnH7KWUma6gMJASACnwsooBv0VZgSqUaTQopbi07HbdX4GMV38U5GqVUomlSSHEeBHFYyeRB8Oqvh1IpR//Xp7iBdMI4VDnyIAyhSwIiqr9CipjKYuaxPu7n9vtg+0LYudzWNKqvLXNg+q9h63xbJbXgS1uLf1u+cymE+vBV2OfZvdp5f9kBe74DBY07T0NUHoIN/4UVb9tCfCp56EBzissmg5Zkso/adZy9eGjfBFY0P8HnFNaI/TNWcSnDGBKHzq7rP4N3rraVTI0fcjvBVVOg41F1P7a8CP7cxZbHBvji/wI7BDC23ER6Noz+Jwy+vP6xrXwHpt5ok5bxQZteMO59WzbDGJj1IMz5o63NU1kOvc+Ey9+AzJb1P1d9ffOCLd9dXZhPbH2nK96y5SJUYumVQorbyK6QhABQRiUzCfMRM0m8wze1EsLh7YtcP/f+rfDmxVCy276xVxTDvvXw0hnRfcJ/csDhhFBL4GrDX2k/yb93vW3aUh+7VsI719krj/KDtr7/7lXw0pk2eS17HeY+aj+tlx2wJbw3TrdJxG0FXwYlBAADa96HaT9z//yqbpoUUtwbEfopzGZdHCOpv+XO3VsBmM5KV8+96EX7KTxY5SFY+1Hdjy+KskR1ZRl8/fd6hWZ7NQQlJuO3NXY2/w/mPBra/tFXBqun1t1CsrHm/y1M6W4D3/zTJkOVWJoUUlylQ+eypiLSLfxdOH0Mj52D39o30mB+HxTtiPxYXz3+yY0PDnxbv9gObAUT5s21eCcU73Le5/FCafi+RTFxMMJr8Ve435da1U2TQorrQuuw+7IJ0zUkSWRGGBI7mSNdPXefc8JUtDTQ89TIj/V6cSxd7SQ9G/qdX7/Y+l1gy3IH81VA95Ogz5nOTV4ycqF19/qdq776Xeh8boDWvdytEqqio0khxd0Yocz0BE6LYyT1Nw7ngo9ZpNGdtq6ee+AY21ilZv+D9Bw4aix0GFT340/+ed3HeDNsjf2hP6xfbEdfA216QlqL2rGNuh1adYXTH4TMVjU6hYlNPhc8Hf4NO1ZG3Ao5nUK3e9LgoknunltFR2cfpTiD4Qhy2BHUvrIlaeQk+ZVCD9pxLaN4iwWUB26D9aQt13Oi6+f2pMH4Wfb+/ZJ/2TfgEbfC0VdH9/i0bOftLdrYN+usPBh6PYy6o3YzlmikZ8FNX9q+DMvfhMzWMGqirdkPkNcbbl1iezlsnmVnJJ38C9sRzG0tWsPty2DmA7D0NTvzqfOxcP4T0GmY++dXddN+CiluC3t5la+oCBpbyMDLRRzDUU1krUJT81CG84CrNxPu1/vqygXaT0FFZTv7a1Q9Oqwcn9Y+confH2YGDs6D10rFkyaFFNeaLLwOo57peMmjnvctVFQ8HsIONLt9T1+puuiYQorrR0cySaOiusux5UU4Og6rghvLh4+PWM4adtICL+cxhL50iPrxpVSwjG/ZTyndyKM/HfE08LPSrpWw/C07jXTQZdBpaOgxfp9dx9CmDxQ6VOXoex588Uc4tN/OIupxCkiUM5WaC1+5XZG9fSG06w9HXRmfldbK0jEFxUxWhyxUO4ZuXIzDu1oSKaecR/lvyO2voXRjTBSxb2c/LzMfH34q8ZOBl7bkMJ4Tyajn56W5f4YZv7HTPvHbgefjfwJnPXL4mIpSu+J513Jb5sJROnjFvjGm59jyD5e9mjpXECV7YPLxULzD/hul59iB8x/NhXb9Eh1d06ZjCioqByhlLhtCtq9kG9vZn4CIovcq+Y7jIYspoJTItSYMhv/wDWVUUokfsOMouyly/PeIpHATzLgfKkvtojHjtyuG5/8Ndiw9fNyXT8COJRESAkDF4dXIFcW2/MOaD+oVTpM2/Zewf8vhf6OKYrsSOx4lOJSlSSHFrQnTT6ESPyvYHudo6qeA8Mtv/1dHiY4DHOKAQ92kSvwspX5LiFe/77y62ldmb4NUWfKyTRz1UVFsp7ymihVvhw7CGz8UzAstzaHcoUkhxYXrpwA4DkAnk3BxA3X2gvBEeGykfY7He53v+4vY9QzV33vr9bSHnz+5l4vEVKTbZKlyCy3R9J85xQ3gCMd+Cl48Sb9GoQ/tw+77HpFvQLekBe0cSoOn4eFYoq/14K+0i8uMQz0jTzocdcXh74+b0ICFaDkwbHz9HtOUHXOdXatRk3ih91m1V2gr92hSSHE5ZHIcPUK2H0kHOpDcUz6u5DjSCf34fTJ9yXDYHuxyjiWbDDLw4kVIx0t32nI8vaM6//zH4eFMmHLD4XEAb6YtfZHWAs7+g509U+W4W6DX6TYxeDNCn8+TBt4smwiqnmf4TdDn7KjCaRbOfAg6DrE1kLwZkNESWnWzfSVUfLg6+0hEzgMeB7zAZGPMH4P29wBeAtoEjrnPGBOx8LDOPoqtQ5TzKJ857ruNU5M+MQDMYR1L+JZsMriIo2lbj+ZAlfhYzQ4OcoiutKEbeRFvS1XZlg//GOmwQ+DcP9vGOE7F5YyBb7+CrXMhu4Ptc7BzKXQdCafcZwdYV75rS1gf+X1oPzDql9JsGAMbP7eD8nl97NRcbwrdQnNLtLOPXEsKIuIF1gDnAAXA18A4Y8yKGsdMAr4xxjwjIoOBj4wxvSI9ryaF2JrGcr5kk+O+/nTkKpze+dTL58DG/zrv+96v4MxHnPcplSjJMCV1FLDOGLPBGFMOvAGMCTrGAK0CX7eGCF1TlCv2O8zAqXIQLcITTqS+APs2xS0MpWLOzaTQFdha4/uCwLaafgdcKyIFwEfAHU5PJCITRCRfRPJ37QrTIUQ1yEA6h93Xl46Neu7y8kZ2nk9ifb8fft9RY+MXh1Kx5mZScLoxG3yvahzwojGmG3AB8IpI6MQzY8wkY8wIY8yIDh2iL2Gg6nYMXckhdNQzDQ+n1jGDJ5Jdu3bRqVMn3E7iByjlfZbwV6bzLLNZTIHjbKpYO/MR59kwrbrbXgvRyH8O/tQWHvTCo+1hwSTIfwaePgr+2gM+usN2SnPDrpXw1uXwl64w+URY86E751FNj5tJoQBqze3rRujtoRuBtwCMMfOAFhBhnqGKOR8+ih1W/1bip4KGN8x977332LdvH1OmTGlMeBEVU8YkvmARWznIIXZykI9Yxn9Z5do5q3i8dlZMzY8+4oWOx0T3+C/+CB/eCof2Bfon77EN7T++C3avsC01FzwHzx0X+77Ju1bA5FGw6l04uA2+nQ9vj4WF/4jteVTT5GZS+BroJyK9RSQDuAqYGnTMFuAsABEZhE0Ken8ojmawJuy+KSxu8PO+8MILtf52w5dspIzKWtcFFfj4ik2U1FHmorFWvA1F31Hr2tf4YPMM+G5R3Y+f+Vvn7TVX8/or4NBeWBjj6Zif/wbKi20yqlJRAp/9wq67UKnNtaRgjKkEJgLTgJXAW8aY5SLyoIiMDhx2N3CziCwGXgfGm6ZWoa+JWxchBze0n8K+fftYsGABAPn5+RQWutOXYRN78OEP2Z6Ghx3E+ON1kC2znWsYGQMFX0Z+rN9/eF1DXSpKYNOM+scXScE8HOty+MrgQP0qfKhmyNXS2YE1Bx8FbXugxtcrgJPdjEFF1oYsdnLQcZ/TWIOTCRMm8Pbbb1OVzysrK0lPT6e8vJz09HS6d+9OWpr9VRMRrrjiCp577rlGx55HDt9SGPL+5sNPK7IcHxMrbfrYMYXKoAlanjTn9Qm1jqnqpxDFxx9POrTt29AonbXqBkUOZa2MH7LbxfZcqunRFc0pLlKJ6dFRls6+55576NixIyUlJRQWFlJUVERxse35XFxcTFFREYWFhZSUlNCxY0fuvvvumMR+Ar1JC/oV9iJ0oQ3tyInJOcIZNr52XSOwtXlatIG+59b9+LCzl4KmZ3jTYeSPGxJh+Nlfp94fWm4jLcv2l86Ift2faqY0KaS4LDJoTeg0mgy8dKFNVM/Rv39/Fi9ezM0330x2tnNxn6ysLCZMmMCSJUvo37+/4zH11ZnWXMpwcskkHQ9ePPShA1dS5/qcRss9An44Hdoeaa8YvJnQZSTcMDs0WTi5aFJooTtPBnQ/6XCJi1bd4aqp9hz1FWn214DRcM6fIbO1LamR1gKGXAUX/L3+51HNj3ZeS3Hr2Ml+h0Vq5fiYwzpOJrp3pMzMTJ566imOOOIIHn30UYqKDt9wz83N5d577+U3v/lNzOKuMoAj6E9H9lNKJulkEb96CF1HwcQ1cKAA0jIhpx7LOj65y44/1OKHVl3hqvfsQHDrHg3vulZz9tdNN90Usn/krTD8Rht7dnvtbKYO0yuFFDczwuyjr8KUv4hk7ty51QmhahyhqKiI+fPnNyi+aAhCG7LjmhCqzy12DKE+CcEY2zzHBM308VfCqin2TbpNz8a14Yxm9pc3HfJ6a0JQtWlSSHHRFH+LVklJCTNm2KkyWVlZXHrppWRl2QHf6dOnU1pazw4zzVmYf/ZY9GOO1+wv1TxpUkhxZxL+/v4J9KnXc02bNo2ysjI6d+7MrFmzePPNN5k1axadO3emrKyMadOmNTZcRyVUMI3lLKpVVSV5idj7+sFjD550GHhp/Z5r/1a4/qoJtG3blry8PPLy8ujRowfp6faqqWr2V9W+tm3bcsstt8TolaiGqiyzFXJLwzcPTBgdU0hxvelAe3LYTXGt7dmkc2I9k8KWLVsYO3YskydPpmVLe09i5MiRrFq1iptvvpnNmzfHLO4qjzO91pjIVJZwOccyOMkbBF3wNGxfCCW77VqE9GzIOQLO+1t0j9+zFv59BexZDe24h/TK2RTKRsoras84qpoFBpCRkUHv3r1jNvtLNcyXj8Pn99uvfRUw+AoY/Y/kaSLkaj8FN2jp7Ng6RAWP8qnjvh9zmmN3smTxFgtYxXeO+x7gwjhHU3++CljzAexeCR0GQ/8fRDdzyVduayMV76R6rUMlZfw37W4Wp79AaWloM+OsrCxuvPFG/vznP5OREd36ExV7K9+Bd6+r3W86LcsWUbz4RXfPnQyls1UTMJu1YffFo4ZQY4RLCAAfsyyOkTSMNx0GXWL7Lwy8OLqEALZ4XUUJtRa/pZHJD9Ke4trT7iM3t3Yiz83N5Ze//CVPPvmkJoQE+98jtRMCQGUpLH/TeYV8ImhSSHGFhH6qrHIgQq+FZLe9gSU6moKD22rXSKpSeQgWroz/7C8VvYNhOsaIB0r3xjeWcDQppLgjI/RM6ENylyn3RJg5dSIxrg2RRLodb99EQuSUsHSbzv5KZt1Pdv7ZpWVBy+BuMwmiSSHFDaOb4/z+NDycFuXCtUQZzdGO2z0IgyI0D2rquoyAXqfbFdBVPGmwrd00yiviP/tLRe/Mh+0qcvEe3paebft6e7zhHxdPmhRSnCB0oXXI9jyy8ST5r8eRHEG6w9XCKHokIJo481C7bLeBvRVbuOLysaxevZqRI21v7arZX2PHjnVl9peqn/YDYUI+HHUltO4FPU+DK9+DYdcnOrLDdEpqitvGfrYQOlm6kFLWsJOBdEpAVNH5ko34HcqNfs1Wvkd/sqKs8trUbFsAmz6vPa5gfDD84F2MufIuWgatUG7VqhVvvvlmfINUYbXrD5e9mugowkvuj4LKdQXsw+9Qw7kCH1tIkpGvMDZG6Kfwncv9FBKpYH7tBjlVyotgy//iH49qXjQppLiWtMDrcAsmDQ+tHKqnJpM2YXom+PDTMsljb4yWXUIrrIJd/NQqBe6cKXdpUkhx/elIGqEjXB6EY+gWlxhKqWAhW5jDerazP+rHOfVTEOAIWtE+TovuFvwDnh4Mzx0L6z+r32MrD8F/fwn/Og8+/3Vow55w+l8I6VmE1E/ypMHQ6+oXQ6LMegieGgiTT4IdSxIdjapJxxRSXBpeSh36GZfjIzsO9+Q3sps3sCvUffiZzVoG05nRHFNnsb4O5FAZdPvIgOOVjxv+2gMO1Ci39K9zoc+5cF0Uk3x2Lofnhh3uibx+Gsx5DG5bCu0HRH6sNwN6ng4r3qq9vd3A+lVrTQRfOfwpr/YCrmeHwvF3RV/iQ7lLrxRS3AxWhu0K+RLuLnjy4effLKACHxX48GOowMcKtrOaHXU+/mlmO27fwj5KcFjdFUMzf187IVTZ8CkUfFX34//1/cMJoYq/wm6vy87loQkBYHs+LHfYnkzeuCR0RS/YekDJsqI31WlSSHFz2Rh232b2uHruLex1TEgV+KKqeHrAoTlQlXdY2IjI6pYfoUvZZz+P/Fi/Hw5+67xvfxSzRuc+Fn7fvL/W/fhE2hDhFtuMB8LvU/GjSSHFJWs5xGSNq0rEOpIuB+93mHkUr3M3WoT4nGZUqfjTpJDiRtIz7L6uDovaYqk7eY7b0/EyNIpB7pwIYx6XhlntHCvDbwy/76w/RH6sxwO5YZZ/tIxibP/En4XfN3Ji3Y9PpJ6nhd932u/jF4cKT5NCivs+R4Udlr2RU1w9dxpeLuNY0vFUzyJKx8uRdGBQFIvmbuN0x+2daUU22bEMNcRZf4C0nNDt7QZCj5PrfvzVH9YudQD2+2s+rPuxnYfBgDGh2zseDUOvrfvxiXTV+87TaY+5DrLc/QyioqSzj1KcDz85ZFJEWa3tmaRRSrnrq4KPpCN3cCbL2UYp5fSlI91oE1Wb0ANhKrymx+HXetNsqCwO3b5nFZSXQobzEopqnYfDvXvtVNTvFtnvz3oEMqKYSeurgG0OLUX2b4aSPZDdLrrXkAj71hL6UdQL+8IPbak40yuFFLeGHZRTGbLdh5+lhBkNjbFcMjme3pzOALqTF3Xf6HlsdDxyG4XsweEdO4Y+mBB+3/s3RfccLVrBBU/Cj/4H5z8eXUIAWPsRlDks2PZVwJJXonuORJn3VzDBv24++G6hbU+pEk+TQoo7wCF8DqN/lfgpTPJ+Cvsodhy39OJxvRdEUfj+PuwN37coJg5sDdNPoTT5P3HvW2frNAXzpMOBgvjHo0JpUkhxXWjt2JcgA2/YgeBk0ZN2eB1+hSvxcwStXD135+PC7xt4iaunpsvI0PEIsFca3U9y99yN1fN08GaGbveVwRHHxD0c5UCTQorrRh5dHN5AW9KC/hyRgIiid3yYMhej6On6auzL3nDe7smA7/3S1VPTdZRt1pJWY9zCmwmte9j2nuHsXAb/uRqeGgRvXWHHMuLt+DshsxVIjWGf9Bw47tbkX42dKjQppDhB2OrQunIPxY63lZLJAUopCxoPMcAKtrt+7qw2dqZRsAGjXT81InD1+3DabyGvr00Gx98FN86zJTCcFHwJk4+3vYD3rIKV/4HnT4ZNs9yPt6acDnDLN7Z/QMuu0GEInP8EfP8v8Y1DhefqNA0ROQ94HPACk40xf3Q4ZizwO+z/58XGmKvdjEnVNpu1jqWzAaaymMsZHueIovdvFjhu388hdrCfI1xcZ7HqPTjocA987Ye2DEXHo1w7NWDf/E/5hf0TjWk/CSovYez3H98Bt8W5IF2rrjB6cnzPqaLn2pWCiHiBp4HzgcHAOBEZHHRMP+CXwMnGmKOAn7gVj3IW6VO122UuGitSmYt83O0ytnG6c60eEdjyhaunbpBtzvmTncvA7zDwq1KXm7ePRgHrjDEbjDHlwBtA8JKbm4GnjTH7AIwxO12MRzmI1DPBqXdzMnEaZK7S0eWB5lbdnQdMxQstk7A9dFaYOQMZLZ0byavU5eavQ1eoVdWsILCtpv5AfxGZIyLzA7ebVByNjlAO4kKXS0U01vH0dtwuwEh6uXruYeMdGq2L7XNw5PnRPUdlOcx+2FYO/d8fQqumNtaeNfDlk7DoRTuQmx60yDs9G0ZNtFc38bZzOXz5BCz5l1ZHDefAt5D/LCyYFHkKdKy5Oabg9KsWfPM6DegHnA50A/4nIkOMMbVGPkVkAjABoEcPbS0VS7lk0Y3WFAQ1t2lDFj1J4qWxwJkMYBFbKA4qk30+g8M8InZadYVxH8B/xkFFsb0F06YnXPkueKO4wNqzFp4ZYvsLAKx+D2b9Hn68EvKcc129fPZz+Oop+7Wk2WJzR54L6z6x4xG+cjj6WjgjzvWGjIH3b4alrwHGNgb66MdwzSfQ/cT4xpLMvvo7fHY3IDZpf3IXXPAMHDve/XO7mRQKgO41vu8GbHM4Zr4xpgLYKCKrsUni65oHGWMmAZMARowYkdxTYpqYXRwMSQgAhZSyhh1JPS11Jd9R7tCjeRbrGE4vx/UXsdT7DLh7G+xaYW8ltT0y+k/dr5x9OCFU8ZXZ7Xeub1xcG2fA18+EdnLbMB3u3GA/dbbpCVltG3eehlj1Lix7wy60q+mNMXD3doerrxS0d71NCME/v49ug77n2A8kbnLz9tHXQD8R6S0iGcBVwNSgY94DzgAQkfbY20kbXIxJBfmC8O9AcyPsSwYL2UIFoaOkFfjY5jDN1g3igY5DoF2/6BOC3w/7tzjv2xeD3/7FL9qrFyfbF0LnYxOTEAAWTnaOrfIQfPtl/ONJRiv+HWbwX2xSdZtrScEYUwlMBKYBK4G3jDHLReRBEamazT0N2CMiK4AZwM+NMck95aWZ8Tt80q6S7OsUfGFjl7DTbFOBL1zTOXEujxFP4WITiRB3ivFVOPeWMP7Yjzs5cXXegTHmI2NMf2NMX2PMI4FtDxhjpga+NsaYnxljBhtjjjbGhFknqtwSbrAW3B+sbayhdCOd0PsNHqArbeIfUJQ8nvCrd3O7NP75j77arhIO5q+E3mc1/vkbY+h1zrEhOqZQZdAlzosQReKzOFIno6W4buTRkdDynDlkcEzIZLHkcgxd6UFedWLwIqTj5VKGR5yumgyumho6FVQ8MG5K45+73wX2zaPqzdeTYUtijJkMmS0b//yNcfTV0PNUSA/8ynkz7Syoy14Lvxo71XQcYhsppWfb3wnx2p/fab+FvD7un19MxL6CgYNEnnDYvB/IN8bE4Nc4eiNGjDD5+Q7F5FWDFHGIvzDdcd94TqBHks9AMhg2sJsN7CKHTI6AWayfAAAgAElEQVSmKy0jrL1IJiW74bN7YccS6HQsnP0nyI7RvX5jYOscWP0+tGht34zb9IrNczeWMXbx3/ppkN0Bjr7G/cHTpui7RbD833bw/agrG79KXkQWGGNG1HlclElhEjAQ+Hdg02XAcuzsog3GmLitRNakEFvPM4eCMIOyrWjBT0jw/QalVExEmxSinZJ6JHBmYPAYEXkG+BQ4B1ja4ChVwkXqmVBCedh9SqnmKdobr12BmsNDOUAXY4wPgvo4qiYlUs+EdjiNCCqlmrNok8KjwCIReUFEXgS+Af6fiOQA/3UrOOW+Sxgadt81jIpjJA20cSOcdhpkZ0P79vDII3E7deUhW6rhH6PghVNhyavOUwnDWf0BPNEXHsmCJ/vB2o+jf6zxw+JX4IXv2ZLYXz0FlfrxTMVAVGMKACLSGVvkToCvjDHBq5PjQscUYm8PRfyDLygPLATzIlzH8Uk/yMzmzdC3L/iCVvpceCF88IGrp/ZX2jfk7xYfXp2bngNHjYUxz9f9+IWTbbmHYGNetL0G6vLOdXYhU9VCsLRs6Dwcxs/UVcHKWUwHmgNP2BXoSY1xCGPM7AZH2ECaFFS1c8+Fzz5z3rd5M7hYJ2vlO/De9aHF3NKy4JaF0N6hAU9Nj+RAZUno9vRc+NXByI/dsdReHQSXisjIhUtfgwEX1R2/Sj3RJoWobh+JyJ+AOcCvgZ8H/tzTqAiVaqz588Pve/ttV0+9/tMw1T2l7m5mfr9zQgCoiKJi6ObZhJaWxMazUW/mqkaKdvbRxcAAY4zetVTJo3VrOBjmY3Xfvq6eumUXu/DKF/Q/wuOtu9ewJ9JHsSjqJ+V0BE86BPcYSmsRmxXRKrVFO9C8AZK844pqnEWL4Mwz4ZRT4PPPEx1NdH71K+ftWVkwJrifU2wNu8H53n1aJvS/sO7Hdz3BeXvPU+t+7ICLnMtzi8eWkWgK9qy1fQJWvA0V4WdFJx1j7JVg/rOwaab9vrmJdvHaf4ChwHRqTEE1xtzpXmjOdEzBBRdfDFOCFqYPHw4LwvRwTBZ+P+TlwYEDtbc//DD8+teun379p7afQlUBs5yOMG6qLVNQl/ISePYY2FejEG3bfrZfcloUC7K/W2zLTZfstskgLRMuewP6JPlaQ2Pg4zvhm8mAxyZWjxeu+wy61Hm3O7EOFcJLZ8DedbaKqcdry6VfPwNaJG+prWqxXtHsOB/CGPNSA2JrFE0KMTZ/PpwYphLZ5Mlw443xjac+7r0XHnssdLvHA2VlkOZmuxDLX2nLEXgzbTKobxezHcugYC70+B50GFS/xxoDO5fapNRpWNOYdbRqCrxzTWj57NxO8NOC5H4NU34ES1+t3QfDmwFDxsHFLyYsrKjFfPZRstCkEGMnnwxz5zrv69XLrgNIVu3bw54wldaffx5uuCG+8ag6vfYDWPth6PaMlnDttOSulPpIduiML7BXdr9uArfAYlLmQkTeMsaMFZGlOMx3MMYc04gYVTI4dCj8vvIkL3NRGaG4fHGYLjMqoZzeVCHQTyHJp7GE62Xgr7RXbYnode2Gugaa7wr8/QPgIoc/TVNxMZSEmROYasIN1gL86EfRP4/fb9cGREoykZSVhY4N1FRSEvozizSYPH58w+KIM7/P3quuz0ropuzoa537KRgD3ZL4KgGg77m2jHVN4oE+5zafhAB1JAVjzPbAl7cbYzbX/APc7n54MbZunZ1d06aNnc541lmwdWuio0qsyy6D3NB+Cni98NBD0T3HHXdAerq93ZSVZccoor3KOHgQrrkGWrWCdu1g8GCYM+fw/g0b4NRT7c+rdWs7Q2rzZrvv6aehhcOo7E9/6vyakogxMO8v8Fh7eOwIeLQ9fPl485zNUtMx10LX4+1CO7D35NOy4JJX7GB5MrvgachqZ/scgP07qz1c+HRi44q1aAeaFxpjhgdtW5KI20cNHlMoLobeve09aH/gY5nXC5072zee9BSdcbtuHfTr57zv73+H226L/PiHH4bf/CZ0e7Szl844A+bNs1cKVXJy7BTZLl3sz2z37to/syOOsD+zadOcrxbat4ddu+o+dwJ99RT89xdQUePiJz0bvv83OM6h/EVz4vfBuo9traecDjBsfPL0eqhL2UFY8i/YsRiOGGqTXKIbF0UrJgPNInIb9oqgD9Tq4t4SmGOMubaxgdZXg5PCCy/AnXdCUdCS0ZYt7b7LLotNgE1NdjaURrjR66/jvkbLlqH/plX27IG2EbrGrFplk0fw+dPS4NZbYeRI+PGPnX9mkyfD/ffD2rXOzz1rlr3CSFL/rxMU7wjd3rIb/CzFL16VO2LVT+E14GPgD8B9NbYfNMbsbUR88bd2rfObV2mp/dSZqsIlBIjuXkakAd316yMnhQ0bICMjNIbKSlixwj7W6WdWUmIfu3176L4q+flJmxSMgeKdzvuKIrwkpeKhrjGF/caYTcaYcYFxhFLsLKRcEXGv2pgbhg+3nzCDtWgBw4bFP55kEelNO5p5/pEef1Qd/QOPPrr2baMqmZlw0kn25+I0NpCVZfcNGBD+uc8+O/K5E0gkfK/dtmHu5CkVL9EWxLtIRNYCG4FZwCbsFUTTMWaMHT/IqNEdPDMT+ve3A86pqqAg/L4ZM+p+/F/+4rz9kkvsralIuneHK66ofZzHY8cUJk6Eiy6yx9T8mWVk2LpG554Lzzzj/LwDB8IxyT1b+pzHDg9YVknLgnP/X2LiUapKtLWPHgZOANYYY3oDZ2GrpjYd6el29e6PfmQ/3XboYO9bz5xZR4WyZi4ry87ICtazp/20Xpcf/tDe32/d2n6fkWEHp995J7rzv/ACPPAAdOtmn+PSS+Hrr+1gclqaXVh30012ZlL79vZnNnu2/ZmFm2EUh5XMjTXoErjibeh0rF241fk4uOq96OomKeWmaGcf5RtjRojIYuBYY4xfRL4yxsS9NZeuaI6xpUvh+OND7+vn5sJ//mM/kSerAQNgzRrnfatX26tApRQQ434KQKGI5AKzgVdF5HEgwnJS1WTMnOk8w6ioKHwDm2Sxbl34fU88Eb84lGpGok0KY4AS4KfAJ9jpqU13RbM6rG1b5zUamZn2Flsyi7S2pE+YkVylVERRJQVjTLExxm+MqQxURn0aOM/d0FRcXHyxXRAWzOuFa+O+DKV+bg6zyksE7rrLeV8yMcaOc734Inz1VfNfzqyahIhJQURaicgvReQpETlXrInYpjtj4xOiclVOjp0BFOzkk+2K4mT2xBPOVzN/+5tzoksmBw7ACSfYqbMTJ9ryHSefHH4hoFJxUteVwivAAGApcBPwKXAFMMYY425rKxUf69fb2UPBPvsMpk+Pfzz18f77zoUNH3us7pXYifaTn9hSHsXFh/8sXAh3353oyFSKqysp9DHGjDfGPAeMA0YAPzDGLHI/NBUXDz8cft8jj8QvjoZ49lnnFdWFhfYNNlkZA6+/Hlo0sKwMXn01MTEpFVBXUqio+sIY4wM2GmPCdEoPJSLnichqEVknIvdFOO5yETEikuQN+ZqhSGUqkr28eLjYPZ7kj72iwnl7svewUM1eXUlhqIgcCPw5CBxT9bWIRCh+DyLixQ5Inw8MBsaJyGCH41oCdwJfNuwlqEaZODH8vvr0U0iEceOcV00bY9dexEt5eeSGP8FEbHXY4EWTHg+cc05sY1OqnuqqfeQ1xrQK/GlpjEmr8XWrOp57FLDOGLPBGFMOvIGd2hrsIeBRoIHdWVSjnHoqjHC4QOva1a4kTmY33ABDh9rBcrBTVLOybCvOzDgU51+zBk47zSam7GxbaXf37uge+8wztq9HVVLLzrbTg5980r14lYqCm/UAugI1iwAXALU+vonIsUB3Y8wHInJPuCcSkQnABIAePZpWHb6kV15uBzyDffst7NwJnTrFP6ZoZWbakhfvvgsffmhLY9x0U/j+ELFUWGibCe3bZ69MfD478L1qlV0lXlfplCOPtJV7X3zR/vsfe6xNcm3auB+7UhG4mRScGtRVT8QWEQ/wV2B8XU9kjJkETAJb5iJG8SmAP/wh/K2PX/wCXnopvvHUV1qanVLrNK3WTS+/bFuP1lxbUFEBW7bYVeJnnln3c7RtCz/7mWshKtUQblaCKwC61/i+G7CtxvctgSHATBHZhC24N1UHm+Ns8eLw+5Yti18cTc3y5c6D2T5f+HpMSjUBbiaFr4F+ItJbRDKAq4CpVTsDvRraG2N6GWN6AfOB0cYYrXYXTydG6JY+Ku71DpuO4447PJZRk8eT9GW7lYrEtaRgjKkEJgLTgJXAW8aY5SLyoIiMduu8qp5++lM7OBvM67W3lpSza66xpb5rlunOzLQJIVKirWnzZnv76PTT4ec/h62p0YezosT2qH75LHh7HGydm+iIVE1Rlc5OJlo62wXXXguvvVb7/vj3vmf7HIvT0JACYNs2uwL5/fdtH4nrroP/+z/nK4hgixbZmV+HDtmxiIwMm1TmzLEd6Zqp8mKYPAoKN9nkgEB6Fpz9GIy6PdHRNW+xLp2tmqsVK2xDnOAPBwsXwuefJyampqJLF7syuagI9u6Fxx+PLiEA3H47HDx4eBFbebn9/s473Ys3CSycDPs2BhICgLFff3YPlEW9LFa5SZNCqps+3bk6Z3ExfPJJ/ONJBcbAl2HWan7xRXxjibNV70Jlaeh2bzp8+1X841GhNCmkujZtnNtXZmbaFpgxVK4lHCwR53EciP5Ko4nKbu+83fghKy++sShnmhRS3cUXO48beDwx7aewa9cuOnXqxK5du2L2nEmhsBDeftuOKxyqx6L8m26CFi1qb2vRAiZMiG18SWbUHZAeVJlEPJDb2farbgq+WwxLX4fvmmlZUE0Kqa5lS7j66tDtp58O3brF7DTvvfce+/btY8qUKTF7zoR74QXo3NnWiLr2WruieubM6B77k5+ELhr0+ez2ZqzXaXDmw5DWAjJbQ0YutOkN136S/HMayovhxTPg+ZPgg1vg+ZPhxdPt9uZEZx+lus2boVcv532zZtkZMjFw0kknMW/ePE466STmzJkTk+dMqFWrYPhwKA26QZ6bC9u3278jGTgQVq8O3T5kiC2T0cwd2g8F8yGrLXQZkfwJAeDD2+Gb58FXdnibNxOGjYcfPJuwsKKms49UdB56KPy+Bx+MySn27dvHggULAMjPz6ewsDAmz5tQL73kXP5aBD74IPJj/X7nhAAps4q8RWs48vvQdWTTSAgAi1+unRDAfr/klcTE4xZNCqlu//7w+w42bI7ghAkTaNu2LXl5eeTl5dGjRw/S09MBSE9Pp3v37tX72rZtyy233NKg8yTUwYPONaN8Pm2p2UwFJ4QqlWXNq722JoVUF2lg8/rrG/SU99xzDx07dqSkpITCwkKKioooDjTEKS4upqioiMLCQkpKSujYsSN3x6IFpd8f3/+ZY8Y4zxTy++HccyM/1uMJXw01xjO+VOz0Op3QMp9itzeVq51oaFJIdeecYxvIB+vZE269tUFP2b9/fxYvXszNN99MtlMTHCArK4sJEyawZMkS+vfv36DzAJCfb2s0paXZQfO777ZtLd129tlw3nmHE4OI7Ylw330QTXn3V18NfScRsYvhVFK64Gl72ystMGksrYX9/oKnExtXzBljmtSf4447zigXPPGEMUceaUyvXsb8/vfG+HwxedoHH3zQ5ObmGmzZdAOY3Nxc8+CDDzb+ydeuNSY31xh7jWD/ZGUZc/nljX/uaPh8xkydaszVVxtz443GfPFF/R6/YoUxZ59tTJcuxpx7rjGrVrkTp4qZop3GzH7EmDcvNWbWw/b7pgLIN1G8x+rsI+Wq888/n08CK6PT0tKoDNyHv+CCC/jwww8b9+S33QaTJ4fe22/Rwpav7t7d+XFKpSCdfaQSrqSkhBkzZgD2dtGll15KVmAl7/Tp0ykNns5ZX4sXOw/2ZmbarmZKqXrTpKBcM23aNMrKyujcuTOzZs3izTffZNasWXTu3JmysjKmTZvWuBMcd5ztyxzs0CEYMKBxz61UitKkoOyMmUcesQOkXbvCvfeGb9FZD1u2bGHs2LGsXr2akSNHAjBy5EhWrVrF2LFj2bx5c+NO8LOf2auCmrKy4LLL7Otwm88Hb71lS4WMG2eLC9bHt9/Cr34F558Pv/mNXfSmVILpmIKyTeMXBRVy6dLFNn2pqwF9oi1eDHfdZfsQtGxpS1L/9rfOVxCx5PfD6NG2rEVgui05OXDHHdE1J1q2DE4+2c6UKiuzya1FC5g3DwYNcjV0lZp0TEFF56OPQhMC2AYyTzwR/3jqa+hQ+8ZcUWF7Gjz8sPsJAWDaNFsGpLhG4ZviYvjb32DTproff/vtcODA4emzZWX2+zvucCVcpaKlSSHVvfBC+H2vvRa/OJqaDz5wXrns8cBnn0V+rDH2ysZp+6xZsYlPqQbSpJDq8iIUsQ+36lbZfzenPhRer+3dHIlIaNnsKuH6LCgVJ5oUUt0DD4Tf99vfxi+Opub6651vU4nAD35Q9+PHj3fup3DTTTEJT6mG0qSQ6rp1s7Nngg0fbgdClbN+/ezCuexsaNXK/snLg48/ttvq8thjtix5VpZ9bFYWnHEG/N//uR+7UhHo7KNUV1AQfuXvF19oYqhLUZEdB8jMhNNOq/8g98qVtoz2oEG6tkK5KtrZRw43RVVKidQz4fe/h08/jV8sTVFuLlx4YcMfP2iQTkFVSUVvH6W6ffvC72sOzXCUUvWiSSHV/ehH4fddc0384lBKJQVNCqnu/PNh2LDQ7V266EIqt73+OvTpY6e2HnmkLZmhVIJpUlCwYIGd9dKjh00G994Lmzcnf4mLpuxf/7LTTzdutDWU1q+HG27QxKASTmcfKZUIPXvCli2h2/v0sQlCqRjT2kdKJStjbLFBJ42tHKtUI7maFETkPBFZLSLrROQ+h/0/E5EVIrJERKaLSE8341EqKYiEL+2t3eJUgrmWFETECzwNnA8MBsaJyOCgw74BRhhjjgHeBh51Kx5Vh1mz7Eyk666zlVObym3FsjJ45RUYOxbuvNOWpG4KHnoodOVzdrbta6FUArm5eG0UsM4YswFARN4AxgArqg4wxsyocfx84FoX41Hh3HcfPPkklJbaZPDuuzBmjB0MFUl0dOGVlsIpp9gVwcXFthjdP/8JkyYl/3Ta8ePt3/ffb5vtdO9uE8LVVyc0LKXcvH3UFah547QgsC2cG4GPXYxHOVm71vZNKCk5fHVQXAxTpjiXd04m//wnrFp1uKeBz2dfx6232oSR7MaPt2VG/H476HzddYmOSClXk4LTR0zHexIici0wAngszP4JIpIvIvm7du2KYYiKadOcbxWVlMD778c/nvp4800bZzCPB77+Ov7xNFQyX42plONmUigAao6adQO2BR8kImcDvwZGG2PKnJ7IGDPJGDPCGDOiQ4cOrgSbsnJz7W2XYOnptnpnMgvXt8Dvt69LKVVvbiaFr4F+ItJbRDKAq4CpNQ8QkWOB57AJYaeLsahwnMpmg00UyX5/+/bbbV/kmkSgfXvbd1opVW+uJQVjTCUwEZgGrATeMsYsF5EHRWR04LDHgFzg3yKySESmhnk65ZY2bWxf42C33Qa9e8c/nvq44AI4/vja2zweO9Cst2SUahBd0ZzqDh60c+YPHqy9PTvbzurp1i0xcUXj88/hootqjyuIQP/+tk+BJgalqumKZhWd995zHmiurLRTUpNZ1aypmoyxM3qWLElMTEo1cZoUUl1hoU0AwcrLYc+e+MdTH7t3O2/3eiP3iVBKhaVJIdWddZbzbZacHFtWO5ldcontbRysshJGjox/PEo1A5oUUt3gwXDeeaHbBw60jeST2S232GqjVeUiROzXf/lL6KwkN2zbBuPG2emveXm2/0RRkfvnVcpFOtCc6g4dcv60DbbWf69ecQ2n3oqL4fnn7QrsTp1g4kQ44YT4nLd/f9ixw66kBsjMhOHD7UpwHeRWSSbagWY3ax+ppuCyy8Lvu/BCWL48frE0RE6O/YQe7y5xr74K+/cfTghgi/MtWQLz5sFJJ8U3HqViRG8fpbpvvgm/b+PG+MXR1CxYcLjmUk1+v858Uk2aJoVU179/+H2dO8cvjqbmqKNCS1+DnfkU6d9UqSSnSSHVffBB+H3vvhu/OJqaH/4QWrSoPXaQnm77XJ9+esLCUqqxNCmkutxcGDQodHu7djBkSPzjaSratLFjB9/7ni2tkZ4Oo0fbZkUe/W+lmi4daE51M2fakhDB9uyByZNhwoS4h9Rk9O9vk0BFhU0ETtVmlWpi9CNNqvv738Pve/75+MXRlKWna0JQzYYmhVQXaZGX00CqUqpZ06SQ6u6/P/y+X/86fnE0RlGRvY2zdKlzcT+lVNQ0KaS6vn1h2LDQ7Z062bpIye6pp6BjRzvIe+KJcPTRsHVr3Y9TSjnSpJDqli+HRYtCt3/3Hbz2WvzjqY9Zs+AXv4DSUjhwwC4mW7XKFvLTKwalGkSTQqq78srw++66K35xNMTjj4f2U/D5YNMmWLYsISEp1dRpUkh1kfoOBL/hJpudYdp6e73J3wtCqSSlSSHVXX11+H2nnBK/OBpi9GjnCq8VFXDccfGPR6lmQJNCqnvsMUgLs4ZxypT4xlJft94KXbrUTgzZ2fCnP0HLlomLS6kmTJOCsgO1xx57+Pt+/WDXLlvbJ5m1agULF8LvfmdLVV9yCXz0UfzLaCvVjGiTHaWUSgHRNtnRKwWllFLVNCkopZSqpklBWW++CSNH2rGFZ56xHcSUUilHS2cr+P734dNPD39/++22eurSpYmLSSmVEHqlkOrmzKmdEKosWwYvvBD/eJRSCaVJIdU9+WT4fZMmxS8OpVRS0KSQ6iKtRUj2dQpKqZjTpJDqfvnL8Pvuuy9+cSilkoKrSUFEzhOR1SKyTkRC3mFEJFNE3gzs/1JEerkZj3IwYABceGHo9qFD7QC0UiqluJYURMQLPA2cDwwGxonI4KDDbgT2GWOOBP4K/MmteFQYu3fb0hDBFi+GJUviH49SKqHcvFIYBawzxmwwxpQDbwBjgo4ZA7wU+Ppt4CwRERdjUsF+//vwDWl+9av4xqKUSjg3k0JXoGZfxILANsdjjDGVwH6gXfATicgEEckXkfxdu3a5FG6K2rYt/L7vvotfHEqppOBmUnD6xB/8kTSaYzDGTDLGjDDGjOjQoUNMglMBY8eG3zd6dPziUEolBTeTQgHQvcb33YDgj6XVx4hIGtAa2OtiTCrYlVdCjx6h21u31ttHSqUgN5PC10A/EektIhnAVcDUoGOmAtcHvr4c+Nw0tVrezcH69XDLLbY/QU6OTRQFBeGb7yilmi3X/tcbYypFZCIwDfACzxtjlovIg0C+MWYq8E/gFRFZh71CuMqteFQEaWnw7LP2j1Iqpbn6UdAY8xHwUdC2B2p8fQi4ws0YlFJKRU9XNCullKqmSUEppVQ1TQpKKaWqaVJQSilVTZOCUkqpapoUlFJKVdOkoJRSqpo0tQXEIrIL2ByDp2oP7I7B8zQV+nqbr1R6raCvt6F6GmPqLB7X5JJCrIhIvjFmRKLjiBd9vc1XKr1W0NfrNr19pJRSqpomBaWUUtVSOSlMSnQAcaavt/lKpdcK+npdlbJjCkoppUKl8pWCUkqpIM0+KYjIeSKyWkTWich9DvszReTNwP4vRaRX/KOMjShe689EZIWILBGR6SLSMxFxxkpdr7fGcZeLiBGRJj1jJZrXKyJjAz/j5SLyWrxjjKUofp97iMgMEfkm8Dt9QSLijAUReV5EdorIsjD7RUSeCPxbLBGR4a4FY4xptn+wzX3WA32ADGAxMDjomNuBZwNfXwW8mei4XXytZwDZga9va6qvNdrXGziuJTAbmA+MSHTcLv98+wHfAHmB7zsmOm6XX+8k4LbA14OBTYmOuxGv91RgOLAszP4LgI+xfe1PAL50K5bmfqUwClhnjNlgjCkH3gDGBB0zBngp8PXbwFkiInGMMVbqfK3GmBnGmJLAt/OxfbObqmh+tgAPAY8Ch+IZnAuieb03A08bY/YBGGN2xjnGWIrm9RqgVeDr1oT2gG8yjDGzidyffgzwsrHmA21EpLMbsTT3pNAV2Frj+4LANsdjjDGVwH6gXVyii61oXmtNN2I/eTRVdb5eETkW6G6M+SCegbkkmp9vf6C/iMwRkfkicl7coou9aF7v74BrRaQA2+HxjviElhD1/f/dYM29M7vTJ/7g6VbRHNMURP06RORaYARwmqsRuSvi6xURD/BXYHy8AnJZND/fNOwtpNOxV4H/E5EhxphCl2NzQzSvdxzwojHmzyJyIrbf+xBjjN/98OIubu9Tzf1KoQDoXuP7boReYlYfIyJp2MvQSJdxySqa14qInA38GhhtjCmLU2xuqOv1tgSGADNFZBP2PuzUJjzYHO3v8hRjTIUxZiOwGpskmqJoXu+NwFsAxph5QAtsnaDmKKr/37HQ3JPC10A/EektIhnYgeSpQcdMBa4PfH058LkJjOw0MXW+1sDtlOewCaEp32+GOl6vMWa/Maa9MaaXMaYXdgxltDEmPzHhNlo0v8vvYScTICLtsbeTNsQ1ytiJ5vVuAc4CEJFB2KSwK65Rxs9U4IeBWUgnAPuNMdvdOFGzvn1kjKkUkYnANOxshueNMctF5EEg3xgzFfgn9rJzHfYK4arERdxwUb7Wx4Bc4N+BsfQtxpjRCQu6EaJ8vc1GlK93GnCuiKwAfMDPjTF7Ehd1w0X5eu8G/iEiP8XeShnfRD/QISKvY2/7tQ+MkfwWSAcwxjyLHTO5AFgHlAA3uBZLE/03VEop5YLmfvtIKaVUPWhSUEopVU2TglJKqWqaFJRSSlXTpKCUUqqaJgWloiQilwSqrQ4MfN9LREpFZJGILBaRuSIyQERyRGSPiLQOevx7IjI2MdErFR1NCkpFbxzwBbXXsqw3xgwzxgzFFlb8lbXl1ikAAAFDSURBVDGmGPgUuLjqoECCOAVoDnWYVDOmSUGpKIhILnAytrRCuAWOrYB9ga9fDzruEuCTGlVqlUpKzXpFs1IxdDH2TX2NiOwNNDnZC/QVkUXYWkvZwPGB4z8BJotIu8Cq4quAJxMRuFL1oVcKSkVnHLamP4G/xwW+rrp91Bf4CYEm64EeAFOBywN1iIZhbykpldT0SkGpOohIO+BMYIiIGGwtHgP8PejQqcALNb5/HbgfW/Z4ijGmIg7hKtUoeqWgVN0ux3a96hmoutod2Eho57pTsC0kq8zAlq7+MTZBKJX09EpBqbqNA/4YtO0/wK84PKYgQDlwU9UBxhi/iPwHuALbJ1qppKdVUpVSSlXT20dKKaWqaVJQSilVTZOCUkqpapoUlFJKVdOkoJRSqpomBaWUUtU0KSillKqmSUEppVS1/w+LJhuUXuXDZwAAAABJRU5ErkJggg==\n",
      "text/plain": [
       "<Figure size 432x288 with 1 Axes>"
      ]
     },
     "metadata": {
      "needs_background": "light"
     },
     "output_type": "display_data"
    }
   ],
   "source": [
    "k3abv = Kmeans(3,\"ABV\")\n",
    "print(\"cluster group:\",k3abv)"
   ]
  },
  {
   "cell_type": "code",
   "execution_count": 181,
   "metadata": {},
   "outputs": [
    {
     "name": "stdout",
     "output_type": "stream",
     "text": [
      "Centroid = [[0.33350134 0.47267025]\n",
      " [0.62563657 0.74691358]\n",
      " [0.27604167 0.13555556]\n",
      " [0.30097336 0.80555556]]\n",
      "cluster group: [2 2 2 2 2 2 2 2 2 2 2 2 2 2 2 2 2 2 2 2 2 2 2 0 2 0 2 0 0 1 0 0 0 0 0 0 1\n",
      " 0 0 0 0 0 0 0 0 0 0 0 0 0 0 0 0 0 0 0 0 0 0 0 0 0 0 0 0 0 0 0 1 0 1 0 0 0\n",
      " 0 1 0 0 0 0 0 0 1 0 1 1 1 0 1 0 0 0 0 0 0 1 0 1 1 3 1 0 1 1 1 1 3 3 3 3 3\n",
      " 3 3 1 3 3 1 3 1 3 1 1 3 3 1 1 1 1 3 3 1 3 3 3 3 1 3 3 1 3 3 3 1 3 1 1 3 3\n",
      " 1 3 1 3 1 3 3 1 1 1 3 1 1 3 3 1 1 3 3 1 1 3 1 1 1 1 1 1 1 3 3 1 3 3 3 1 3\n",
      " 3 3 3 3 1 3 1 3 3 3 3 1 1 1 3 3 3 3 3 3 1 3 3 1 1 1]\n"
     ]
    },
    {
     "data": {
      "image/png": "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\n",
      "text/plain": [
       "<Figure size 432x288 with 1 Axes>"
      ]
     },
     "metadata": {
      "needs_background": "light"
     },
     "output_type": "display_data"
    }
   ],
   "source": [
    "k4abv = Kmeans(4,\"ABV\")\n",
    "print(\"cluster group:\",k4abv)"
   ]
  },
  {
   "cell_type": "markdown",
   "metadata": {},
   "source": [
    "# Use Elbow Method for selecting the optimal number of cluster"
   ]
  },
  {
   "cell_type": "code",
   "execution_count": 182,
   "metadata": {},
   "outputs": [],
   "source": [
    "def elbow_method(attribute):\n",
    "    Sum_of_squared_distances = []\n",
    "    K = range(1,15)\n",
    "    for k in K:\n",
    "        km = KMeans(n_clusters=k)\n",
    "        km.fit(wk[[attribute, 'Rating']])\n",
    "        Sum_of_squared_distances.append(km.inertia_)\n",
    "        \n",
    "    plt.plot(K, Sum_of_squared_distances, 'bx-')\n",
    "    plt.xlabel('k')\n",
    "    plt.ylabel('Sum_of_squared_distances')\n",
    "    plt.title('Elbow Method For Optimal k')\n",
    "    plt.show()\n"
   ]
  },
  {
   "cell_type": "code",
   "execution_count": 183,
   "metadata": {},
   "outputs": [
    {
     "data": {
      "image/png": "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\n",
      "text/plain": [
       "<Figure size 432x288 with 1 Axes>"
      ]
     },
     "metadata": {
      "needs_background": "light"
     },
     "output_type": "display_data"
    }
   ],
   "source": [
    "elbow_method('ABV')"
   ]
  },
  {
   "cell_type": "code",
   "execution_count": 184,
   "metadata": {},
   "outputs": [
    {
     "data": {
      "image/png": "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\n",
      "text/plain": [
       "<Figure size 432x288 with 1 Axes>"
      ]
     },
     "metadata": {
      "needs_background": "light"
     },
     "output_type": "display_data"
    }
   ],
   "source": [
    "elbow_method('Price')"
   ]
  },
  {
   "cell_type": "code",
   "execution_count": 185,
   "metadata": {},
   "outputs": [
    {
     "data": {
      "text/plain": [
       "\"\\nSum_of_squared_distances = []\\nK = range(1,15)\\nfor k in K:\\n    km = KMeans(n_clusters=k)\\n    km = km.fit(wk.drop('Rating',axis=1))\\n    Sum_of_squared_distances.append(km.inertia_)\""
      ]
     },
     "execution_count": 185,
     "metadata": {},
     "output_type": "execute_result"
    }
   ],
   "source": [
    "\"\"\"\n",
    "Sum_of_squared_distances = []\n",
    "K = range(1,15)\n",
    "for k in K:\n",
    "    km = KMeans(n_clusters=k)\n",
    "    km = km.fit(wk.drop('Rating',axis=1))\n",
    "    Sum_of_squared_distances.append(km.inertia_)\"\"\""
   ]
  },
  {
   "cell_type": "code",
   "execution_count": 186,
   "metadata": {},
   "outputs": [
    {
     "data": {
      "text/plain": [
       "\"plt.plot(K, Sum_of_squared_distances, 'bx-')\\nplt.xlabel('k')\\nplt.ylabel('Sum_of_squared_distances')\\nplt.title('Elbow Method For Optimal k')\\nplt.show()\""
      ]
     },
     "execution_count": 186,
     "metadata": {},
     "output_type": "execute_result"
    }
   ],
   "source": [
    "\"\"\"plt.plot(K, Sum_of_squared_distances, 'bx-')\n",
    "plt.xlabel('k')\n",
    "plt.ylabel('Sum_of_squared_distances')\n",
    "plt.title('Elbow Method For Optimal k')\n",
    "plt.show()\"\"\""
   ]
  },
  {
   "cell_type": "markdown",
   "metadata": {},
   "source": [
    "# The best number of cluster is 3"
   ]
  },
  {
   "cell_type": "markdown",
   "metadata": {},
   "source": [
    "# Workflow 2"
   ]
  },
  {
   "cell_type": "code",
   "execution_count": 187,
   "metadata": {},
   "outputs": [],
   "source": [
    "label = np.array(['low' if d <= 1/3  else 'medium' if d <= 2/3 else 'high' for d in data[:,0]]) # Convert rating to low medium high"
   ]
  },
  {
   "cell_type": "code",
<<<<<<< HEAD
   "execution_count": 165,
   "metadata": {},
   "outputs": [],
   "source": [
    "def compare_group_label(group,label):\n",
    "    num_group = len(set(group))\n",
    "    \n",
    "    idx_low = [i for i, x in enumerate(label) if x == 'low']\n",
    "    idx_med = [i for i, x in enumerate(label) if x == 'medium']\n",
    "    idx_high = [i for i, x in enumerate(label) if x == 'high']\n",
    "    \n",
    "    size_group = list()\n",
    "    for i in range(num_group):\n",
    "        size_group.append(len([j for j in group if j == i]))\n",
    "    \n",
    "    percent = list()\n",
    "    for i in range(num_group):\n",
    "        tmp = [0,0,0]\n",
    "        tmp[0] = len([j for j, x in enumerate(group) if x == i and j in idx_low]) / size_group[i] * 100\n",
    "        tmp[1] = len([j for j, x in enumerate(group) if x == i and j in idx_med]) / size_group[i] * 100\n",
    "        tmp[2] = len([j for j, x in enumerate(group) if x == i and j in idx_high]) / size_group[i] * 100\n",
    "        percent.append(tmp)\n",
    "    return percent"
   ]
  },
  {
   "cell_type": "code",
   "execution_count": 166,
   "metadata": {},
   "outputs": [
    {
     "data": {
      "text/plain": [
       "[[0.0, 26.31578947368421, 73.68421052631578],\n",
       " [38.35616438356164, 61.64383561643836, 0.0],\n",
       " [0.0, 45.0, 55.00000000000001]]"
      ]
     },
     "execution_count": 166,
     "metadata": {},
     "output_type": "execute_result"
    }
   ],
   "source": [
    "compare_group_label(k3price, label)"
   ]
  },
  {
   "cell_type": "code",
   "execution_count": 167,
   "metadata": {},
   "outputs": [
    {
     "data": {
      "text/plain": [
       "[[0.0, 46.03174603174603, 53.96825396825397],\n",
       " [82.35294117647058, 17.647058823529413, 0.0],\n",
       " [0.0, 0.0, 100.0],\n",
       " [0.0, 98.48484848484848, 1.5151515151515151]]"
      ]
     },
     "execution_count": 167,
     "metadata": {},
     "output_type": "execute_result"
    }
   ],
   "source": [
    "compare_group_label(k4abv, label)"
=======
   "execution_count": 188,
   "metadata": {},
   "outputs": [
    {
     "name": "stdout",
     "output_type": "stream",
     "text": [
      "0\n",
      "1\n",
      "2\n"
     ]
    }
   ],
   "source": [
    "for i in range(len(set(k3price))):\n",
    "    for j in range():\n",
    "        "
>>>>>>> 7a7864c4bfe81c255b383fab79310e2052d3367d
   ]
  },
  {
   "cell_type": "code",
<<<<<<< HEAD
   "execution_count": null,
   "metadata": {},
   "outputs": [],
   "source": []
  },
  {
   "cell_type": "code",
=======
>>>>>>> 7a7864c4bfe81c255b383fab79310e2052d3367d
   "execution_count": null,
   "metadata": {},
   "outputs": [],
   "source": []
  }
 ],
 "metadata": {
  "kernelspec": {
   "display_name": "Python 3",
   "language": "python",
   "name": "python3"
  },
  "language_info": {
   "codemirror_mode": {
    "name": "ipython",
    "version": 3
   },
   "file_extension": ".py",
   "mimetype": "text/x-python",
   "name": "python",
   "nbconvert_exporter": "python",
   "pygments_lexer": "ipython3",
   "version": "3.6.6"
  }
 },
 "nbformat": 4,
 "nbformat_minor": 2
}

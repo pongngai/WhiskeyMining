{
 "cells": [
  {
   "cell_type": "code",
   "execution_count": 71,
   "metadata": {},
   "outputs": [],
   "source": [
    "import pandas as pd\n",
    "import numpy as np\n",
    "import requests\n",
    "from io import StringIO\n",
    "import math\n",
    "import csv\n",
    "from sklearn.preprocessing import MinMaxScaler, LabelEncoder, StandardScaler\n",
    "from sklearn.model_selection import train_test_split\n",
    "from sklearn.decomposition import PCA\n",
    "from sklearn import tree"
   ]
  },
  {
   "cell_type": "code",
   "execution_count": 111,
   "metadata": {},
   "outputs": [],
   "source": [
    "#Read CSV file from the url to DataFrame\n",
    "url = \"https://github.com/Brunel-Visualization/Brunel/raw/master/python/examples/data/whiskey.csv\"\n",
    "s = requests.get(url).text\n",
    "wk = pd.read_csv(StringIO(s))"
   ]
  },
  {
   "cell_type": "code",
   "execution_count": 112,
   "metadata": {},
   "outputs": [
    {
     "data": {
      "text/html": [
       "<div>\n",
       "<style scoped>\n",
       "    .dataframe tbody tr th:only-of-type {\n",
       "        vertical-align: middle;\n",
       "    }\n",
       "\n",
       "    .dataframe tbody tr th {\n",
       "        vertical-align: top;\n",
       "    }\n",
       "\n",
       "    .dataframe thead th {\n",
       "        text-align: right;\n",
       "    }\n",
       "</style>\n",
       "<table border=\"1\" class=\"dataframe\">\n",
       "  <thead>\n",
       "    <tr style=\"text-align: right;\">\n",
       "      <th></th>\n",
       "      <th>Rating</th>\n",
       "      <th>Price</th>\n",
       "      <th>ABV</th>\n",
       "      <th>Age</th>\n",
       "    </tr>\n",
       "  </thead>\n",
       "  <tbody>\n",
       "    <tr>\n",
       "      <th>count</th>\n",
       "      <td>272.000000</td>\n",
       "      <td>279.000000</td>\n",
       "      <td>270.000000</td>\n",
       "      <td>174.000000</td>\n",
       "    </tr>\n",
       "    <tr>\n",
       "      <th>mean</th>\n",
       "      <td>84.474265</td>\n",
       "      <td>72.483871</td>\n",
       "      <td>44.610444</td>\n",
       "      <td>14.339080</td>\n",
       "    </tr>\n",
       "    <tr>\n",
       "      <th>std</th>\n",
       "      <td>11.877887</td>\n",
       "      <td>83.992242</td>\n",
       "      <td>5.883056</td>\n",
       "      <td>6.322267</td>\n",
       "    </tr>\n",
       "    <tr>\n",
       "      <th>min</th>\n",
       "      <td>40.000000</td>\n",
       "      <td>2.000000</td>\n",
       "      <td>35.500000</td>\n",
       "      <td>0.000000</td>\n",
       "    </tr>\n",
       "    <tr>\n",
       "      <th>25%</th>\n",
       "      <td>80.000000</td>\n",
       "      <td>30.000000</td>\n",
       "      <td>40.000000</td>\n",
       "      <td>10.000000</td>\n",
       "    </tr>\n",
       "    <tr>\n",
       "      <th>50%</th>\n",
       "      <td>88.000000</td>\n",
       "      <td>50.000000</td>\n",
       "      <td>43.000000</td>\n",
       "      <td>14.500000</td>\n",
       "    </tr>\n",
       "    <tr>\n",
       "      <th>75%</th>\n",
       "      <td>94.000000</td>\n",
       "      <td>80.000000</td>\n",
       "      <td>46.000000</td>\n",
       "      <td>18.000000</td>\n",
       "    </tr>\n",
       "    <tr>\n",
       "      <th>max</th>\n",
       "      <td>100.000000</td>\n",
       "      <td>850.000000</td>\n",
       "      <td>68.200000</td>\n",
       "      <td>40.000000</td>\n",
       "    </tr>\n",
       "  </tbody>\n",
       "</table>\n",
       "</div>"
      ],
      "text/plain": [
       "           Rating       Price         ABV         Age\n",
       "count  272.000000  279.000000  270.000000  174.000000\n",
       "mean    84.474265   72.483871   44.610444   14.339080\n",
       "std     11.877887   83.992242    5.883056    6.322267\n",
       "min     40.000000    2.000000   35.500000    0.000000\n",
       "25%     80.000000   30.000000   40.000000   10.000000\n",
       "50%     88.000000   50.000000   43.000000   14.500000\n",
       "75%     94.000000   80.000000   46.000000   18.000000\n",
       "max    100.000000  850.000000   68.200000   40.000000"
      ]
     },
     "execution_count": 112,
     "metadata": {},
     "output_type": "execute_result"
    }
   ],
   "source": [
    "wk.describe()"
   ]
  },
  {
   "cell_type": "code",
   "execution_count": 113,
   "metadata": {},
   "outputs": [
    {
     "data": {
      "text/html": [
       "<div>\n",
       "<style scoped>\n",
       "    .dataframe tbody tr th:only-of-type {\n",
       "        vertical-align: middle;\n",
       "    }\n",
       "\n",
       "    .dataframe tbody tr th {\n",
       "        vertical-align: top;\n",
       "    }\n",
       "\n",
       "    .dataframe thead th {\n",
       "        text-align: right;\n",
       "    }\n",
       "</style>\n",
       "<table border=\"1\" class=\"dataframe\">\n",
       "  <thead>\n",
       "    <tr style=\"text-align: right;\">\n",
       "      <th></th>\n",
       "      <th>Name</th>\n",
       "      <th>Rating</th>\n",
       "      <th>Country</th>\n",
       "      <th>Category</th>\n",
       "      <th>Price</th>\n",
       "      <th>ABV</th>\n",
       "      <th>Age</th>\n",
       "      <th>Brand</th>\n",
       "    </tr>\n",
       "  </thead>\n",
       "  <tbody>\n",
       "    <tr>\n",
       "      <th>0</th>\n",
       "      <td>Canadian Hunter Canadian Whisky</td>\n",
       "      <td>40.0</td>\n",
       "      <td>Canada</td>\n",
       "      <td>Blended</td>\n",
       "      <td>9.0</td>\n",
       "      <td>40.0</td>\n",
       "      <td>NaN</td>\n",
       "      <td>Canadian Hunter</td>\n",
       "    </tr>\n",
       "    <tr>\n",
       "      <th>1</th>\n",
       "      <td>Canadian LTD Blended Canadian Whiskey</td>\n",
       "      <td>43.0</td>\n",
       "      <td>Canada</td>\n",
       "      <td>Blended</td>\n",
       "      <td>10.0</td>\n",
       "      <td>NaN</td>\n",
       "      <td>NaN</td>\n",
       "      <td>Canadian LTD</td>\n",
       "    </tr>\n",
       "    <tr>\n",
       "      <th>2</th>\n",
       "      <td>Kellan Irish Whiskey</td>\n",
       "      <td>47.0</td>\n",
       "      <td>Ireland</td>\n",
       "      <td>Blended</td>\n",
       "      <td>20.0</td>\n",
       "      <td>40.0</td>\n",
       "      <td>NaN</td>\n",
       "      <td>Kellan</td>\n",
       "    </tr>\n",
       "    <tr>\n",
       "      <th>3</th>\n",
       "      <td>Rich &amp; Rare Canadian Whisky</td>\n",
       "      <td>47.0</td>\n",
       "      <td>Canada</td>\n",
       "      <td>Blended</td>\n",
       "      <td>10.0</td>\n",
       "      <td>NaN</td>\n",
       "      <td>NaN</td>\n",
       "      <td>Rich &amp; Rare</td>\n",
       "    </tr>\n",
       "    <tr>\n",
       "      <th>4</th>\n",
       "      <td>Canadian Mist Blended Canadian Whisky</td>\n",
       "      <td>48.0</td>\n",
       "      <td>Canada</td>\n",
       "      <td>Blended</td>\n",
       "      <td>12.0</td>\n",
       "      <td>40.0</td>\n",
       "      <td>NaN</td>\n",
       "      <td>Canadian Mist</td>\n",
       "    </tr>\n",
       "  </tbody>\n",
       "</table>\n",
       "</div>"
      ],
      "text/plain": [
       "                                    Name  Rating  Country Category  Price  \\\n",
       "0        Canadian Hunter Canadian Whisky    40.0   Canada  Blended    9.0   \n",
       "1  Canadian LTD Blended Canadian Whiskey    43.0   Canada  Blended   10.0   \n",
       "2                   Kellan Irish Whiskey    47.0  Ireland  Blended   20.0   \n",
       "3            Rich & Rare Canadian Whisky    47.0   Canada  Blended   10.0   \n",
       "4  Canadian Mist Blended Canadian Whisky    48.0   Canada  Blended   12.0   \n",
       "\n",
       "    ABV  Age            Brand  \n",
       "0  40.0  NaN  Canadian Hunter  \n",
       "1   NaN  NaN     Canadian LTD  \n",
       "2  40.0  NaN           Kellan  \n",
       "3   NaN  NaN      Rich & Rare  \n",
       "4  40.0  NaN    Canadian Mist  "
      ]
     },
     "execution_count": 113,
     "metadata": {},
     "output_type": "execute_result"
    }
   ],
   "source": [
    "wk.head()"
   ]
  },
  {
   "cell_type": "code",
   "execution_count": 114,
   "metadata": {},
   "outputs": [],
   "source": [
    "wk = wk.drop('Name', axis=1)\n",
    "wk = wk.drop('Age', axis=1)\n",
    "wk = wk.drop('Brand', axis=1)\n",
    "wk = wk.dropna()"
   ]
  },
  {
   "cell_type": "code",
   "execution_count": 125,
   "metadata": {},
   "outputs": [
    {
     "data": {
      "text/html": [
       "<div>\n",
       "<style scoped>\n",
       "    .dataframe tbody tr th:only-of-type {\n",
       "        vertical-align: middle;\n",
       "    }\n",
       "\n",
       "    .dataframe tbody tr th {\n",
       "        vertical-align: top;\n",
       "    }\n",
       "\n",
       "    .dataframe thead th {\n",
       "        text-align: right;\n",
       "    }\n",
       "</style>\n",
       "<table border=\"1\" class=\"dataframe\">\n",
       "  <thead>\n",
       "    <tr style=\"text-align: right;\">\n",
       "      <th></th>\n",
       "      <th>Rating</th>\n",
       "      <th>Country</th>\n",
       "      <th>Category</th>\n",
       "      <th>Price</th>\n",
       "      <th>ABV</th>\n",
       "    </tr>\n",
       "  </thead>\n",
       "  <tbody>\n",
       "    <tr>\n",
       "      <th>0</th>\n",
       "      <td>40.0</td>\n",
       "      <td>Canada</td>\n",
       "      <td>Blended</td>\n",
       "      <td>9.0</td>\n",
       "      <td>40.0</td>\n",
       "    </tr>\n",
       "    <tr>\n",
       "      <th>2</th>\n",
       "      <td>47.0</td>\n",
       "      <td>Ireland</td>\n",
       "      <td>Blended</td>\n",
       "      <td>20.0</td>\n",
       "      <td>40.0</td>\n",
       "    </tr>\n",
       "    <tr>\n",
       "      <th>4</th>\n",
       "      <td>48.0</td>\n",
       "      <td>Canada</td>\n",
       "      <td>Blended</td>\n",
       "      <td>12.0</td>\n",
       "      <td>40.0</td>\n",
       "    </tr>\n",
       "    <tr>\n",
       "      <th>6</th>\n",
       "      <td>53.0</td>\n",
       "      <td>Canada</td>\n",
       "      <td>Blended</td>\n",
       "      <td>12.0</td>\n",
       "      <td>40.0</td>\n",
       "    </tr>\n",
       "    <tr>\n",
       "      <th>8</th>\n",
       "      <td>54.0</td>\n",
       "      <td>USA</td>\n",
       "      <td>Blended</td>\n",
       "      <td>20.0</td>\n",
       "      <td>40.0</td>\n",
       "    </tr>\n",
       "  </tbody>\n",
       "</table>\n",
       "</div>"
      ],
      "text/plain": [
       "   Rating  Country Category  Price   ABV\n",
       "0    40.0   Canada  Blended    9.0  40.0\n",
       "2    47.0  Ireland  Blended   20.0  40.0\n",
       "4    48.0   Canada  Blended   12.0  40.0\n",
       "6    53.0   Canada  Blended   12.0  40.0\n",
       "8    54.0      USA  Blended   20.0  40.0"
      ]
     },
     "execution_count": 125,
     "metadata": {},
     "output_type": "execute_result"
    }
   ],
   "source": [
    "wk.head()"
   ]
  },
  {
   "cell_type": "code",
   "execution_count": 126,
   "metadata": {},
   "outputs": [],
   "source": [
    "data = wk.values"
   ]
  },
  {
   "cell_type": "code",
   "execution_count": 127,
   "metadata": {},
   "outputs": [],
   "source": [
    "def outlier(x):\n",
    "    rating_q1 = np.percentile(x,25)\n",
    "    rating_q3 = np.percentile(x,75)\n",
    "    IQR = rating_q3 - rating_q1\n",
    "    lower_outlier = rating_q1 - (1.5*IQR)\n",
    "    higher_outlier = rating_q3 + (1.5*IQR)\n",
    "    return lower_outlier, higher_outlier"
   ]
  },
  {
   "cell_type": "code",
   "execution_count": 128,
   "metadata": {},
   "outputs": [
    {
     "data": {
      "text/plain": [
       "'med0 = np.median(data[:,0])\\nmed3 = np.median(data[:,3])\\nmed4 = np.median(data[:,4])\\nprint(med0, med3, med4)\\n\\nl0, u0 = outlier(data[:,0])\\nl3, u3 = outlier(data[:,3])\\nl4, u4 = outlier(data[:,4])\\nprint(l0, u0)\\nprint(l3, u3)\\nprint(l4, u4)\\n\\nx0 = [med0 if data[i,0] < l0 or data[i,0] > u0 else data[i,0] for i in range(data.shape[0])]\\nx3 = [med3 if data[i,3] < l3 or data[i,3] > u3 else data[i,3] for i in range(data.shape[0])]\\nx4 = [med4 if data[i,4] < l4 or data[i,4] > u4 else data[i,4] for i in range(data.shape[0])]\\ndata[:,0] = x0\\ndata[:,3] = x3\\ndata[:,4] = x4'"
      ]
     },
     "execution_count": 128,
     "metadata": {},
     "output_type": "execute_result"
    }
   ],
   "source": [
    "\"\"\"med0 = np.median(data[:,0])\n",
    "med3 = np.median(data[:,3])\n",
    "med4 = np.median(data[:,4])\n",
    "print(med0, med3, med4)\n",
    "\n",
    "l0, u0 = outlier(data[:,0])\n",
    "l3, u3 = outlier(data[:,3])\n",
    "l4, u4 = outlier(data[:,4])\n",
    "print(l0, u0)\n",
    "print(l3, u3)\n",
    "print(l4, u4)\n",
    "\n",
    "x0 = [med0 if data[i,0] < l0 or data[i,0] > u0 else data[i,0] for i in range(data.shape[0])]\n",
    "x3 = [med3 if data[i,3] < l3 or data[i,3] > u3 else data[i,3] for i in range(data.shape[0])]\n",
    "x4 = [med4 if data[i,4] < l4 or data[i,4] > u4 else data[i,4] for i in range(data.shape[0])]\n",
    "data[:,0] = x0\n",
    "data[:,3] = x3\n",
    "data[:,4] = x4\"\"\""
   ]
  },
  {
   "cell_type": "code",
   "execution_count": 129,
   "metadata": {},
   "outputs": [],
   "source": [
    "data[:,1] = LabelEncoder().fit_transform(data[:,1])\n",
    "data[:,2] = LabelEncoder().fit_transform(data[:,2])"
   ]
  },
  {
   "cell_type": "code",
   "execution_count": 130,
   "metadata": {},
   "outputs": [
    {
     "name": "stdout",
     "output_type": "stream",
     "text": [
      "[[0.         0.         0.         0.         0.13761468]\n",
      " [0.11666667 0.5        0.         0.01307967 0.13761468]\n",
      " [0.13333333 0.         0.         0.00356718 0.13761468]\n",
      " ...\n",
      " [0.98333333 1.         0.07142857 0.08442331 0.81039755]\n",
      " [1.         0.5        0.85714286 0.07491082 0.32110092]\n",
      " [1.         0.75       0.42857143 0.18549346 0.2293578 ]]\n"
     ]
    },
    {
     "name": "stderr",
     "output_type": "stream",
     "text": [
      "C:\\Anaconda3\\lib\\site-packages\\sklearn\\utils\\validation.py:590: DataConversionWarning: Data with input dtype object was converted to float64 by MinMaxScaler.\n",
      "  warnings.warn(msg, DataConversionWarning)\n"
     ]
    }
   ],
   "source": [
    "data = MinMaxScaler().fit_transform(data)\n",
    "print(data)"
   ]
  },
  {
   "cell_type": "code",
   "execution_count": 131,
   "metadata": {},
   "outputs": [],
   "source": [
    "label = np.array([\"low\" if d <= 0.33 else \"medium\" if d <= 0.66 else \"high\" for d in data[:,0]])"
   ]
  },
  {
   "cell_type": "code",
   "execution_count": 132,
   "metadata": {},
   "outputs": [
    {
     "name": "stdout",
     "output_type": "stream",
     "text": [
      "(208, 4) (208,)\n",
      "(52, 4) (52,)\n"
     ]
    }
   ],
   "source": [
    "x = data[:,1:]\n",
    "y = label\n",
    "\n",
    "x_train, x_test, y_train, y_test = train_test_split(x, y, test_size=0.2, random_state=42, shuffle=True)\n",
    "print(x_train.shape, y_train.shape)\n",
    "print(x_test.shape, y_test.shape)"
   ]
  },
  {
   "cell_type": "code",
   "execution_count": 133,
   "metadata": {},
   "outputs": [
    {
     "data": {
      "text/plain": [
       "DecisionTreeClassifier(class_weight=None, criterion='gini', max_depth=None,\n",
       "            max_features=None, max_leaf_nodes=None,\n",
       "            min_impurity_decrease=0.0, min_impurity_split=None,\n",
       "            min_samples_leaf=1, min_samples_split=2,\n",
       "            min_weight_fraction_leaf=0.0, presort=False, random_state=None,\n",
       "            splitter='best')"
      ]
     },
     "execution_count": 133,
     "metadata": {},
     "output_type": "execute_result"
    }
   ],
   "source": [
    "clf = tree.DecisionTreeClassifier()\n",
    "clf.fit(x_train, y_train)"
   ]
  },
  {
   "cell_type": "code",
   "execution_count": 134,
   "metadata": {},
   "outputs": [
    {
     "name": "stdout",
     "output_type": "stream",
     "text": [
      "['high'] medium\n",
      "['medium'] medium\n",
      "['high'] medium\n",
      "['high'] low\n",
      "['low'] medium\n",
      "['high'] medium\n",
      "['medium'] medium\n",
      "['high'] medium\n",
      "['medium'] medium\n",
      "['high'] medium\n",
      "['medium'] medium\n",
      "['low'] medium\n",
      "acc: 0.7692307692307693\n"
     ]
    }
   ],
   "source": [
    "count = 0\n",
    "for i in range(x_test.shape[0]):\n",
    "    if clf.predict(x_test[0].reshape(1, -1)) == y_test[i]:\n",
    "        count += 1\n",
    "    else:\n",
    "        print(clf.predict(x_test[i].reshape(1, -1)), y_test[i])\n",
    "        \n",
    "print(\"acc:\", count/x_test.shape[0])"
   ]
  },
  {
   "cell_type": "code",
   "execution_count": null,
   "metadata": {},
   "outputs": [],
   "source": []
  }
 ],
 "metadata": {
  "kernelspec": {
   "display_name": "Python 3",
   "language": "python",
   "name": "python3"
  },
  "language_info": {
   "codemirror_mode": {
    "name": "ipython",
    "version": 3
   },
   "file_extension": ".py",
   "mimetype": "text/x-python",
   "name": "python",
   "nbconvert_exporter": "python",
   "pygments_lexer": "ipython3",
   "version": "3.6.7"
  }
 },
 "nbformat": 4,
 "nbformat_minor": 2
}

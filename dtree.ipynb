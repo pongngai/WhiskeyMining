{
 "cells": [
  {
   "cell_type": "code",
   "execution_count": 321,
   "metadata": {},
   "outputs": [],
   "source": [
    "import pandas as pd\n",
    "import numpy as np\n",
    "import requests\n",
    "from io import StringIO\n",
    "import math\n",
    "import csv\n",
    "import sklearn\n",
    "from sklearn.preprocessing import MinMaxScaler, LabelEncoder, StandardScaler\n",
    "from sklearn.model_selection import train_test_split\n",
    "from sklearn.decomposition import PCA\n",
    "from sklearn import tree\n",
    "from sklearn.metrics import confusion_matrix\n",
    "import matplotlib.pyplot as plt\n",
    "from sklearn.tree import export_graphviz"
   ]
  },
  {
   "cell_type": "code",
   "execution_count": 322,
   "metadata": {},
   "outputs": [],
   "source": [
    "#Read CSV file from the url to DataFrame\n",
    "url = \"https://github.com/Brunel-Visualization/Brunel/raw/master/python/examples/data/whiskey.csv\"\n",
    "s = requests.get(url).text\n",
    "wk = pd.read_csv(StringIO(s))"
   ]
  },
  {
   "cell_type": "code",
   "execution_count": 323,
   "metadata": {},
   "outputs": [
    {
     "data": {
      "text/html": [
       "<div>\n",
       "<style scoped>\n",
       "    .dataframe tbody tr th:only-of-type {\n",
       "        vertical-align: middle;\n",
       "    }\n",
       "\n",
       "    .dataframe tbody tr th {\n",
       "        vertical-align: top;\n",
       "    }\n",
       "\n",
       "    .dataframe thead th {\n",
       "        text-align: right;\n",
       "    }\n",
       "</style>\n",
       "<table border=\"1\" class=\"dataframe\">\n",
       "  <thead>\n",
       "    <tr style=\"text-align: right;\">\n",
       "      <th></th>\n",
       "      <th>Rating</th>\n",
       "      <th>Price</th>\n",
       "      <th>ABV</th>\n",
       "      <th>Age</th>\n",
       "    </tr>\n",
       "  </thead>\n",
       "  <tbody>\n",
       "    <tr>\n",
       "      <th>count</th>\n",
       "      <td>272.000000</td>\n",
       "      <td>279.000000</td>\n",
       "      <td>270.000000</td>\n",
       "      <td>174.000000</td>\n",
       "    </tr>\n",
       "    <tr>\n",
       "      <th>mean</th>\n",
       "      <td>84.474265</td>\n",
       "      <td>72.483871</td>\n",
       "      <td>44.610444</td>\n",
       "      <td>14.339080</td>\n",
       "    </tr>\n",
       "    <tr>\n",
       "      <th>std</th>\n",
       "      <td>11.877887</td>\n",
       "      <td>83.992242</td>\n",
       "      <td>5.883056</td>\n",
       "      <td>6.322267</td>\n",
       "    </tr>\n",
       "    <tr>\n",
       "      <th>min</th>\n",
       "      <td>40.000000</td>\n",
       "      <td>2.000000</td>\n",
       "      <td>35.500000</td>\n",
       "      <td>0.000000</td>\n",
       "    </tr>\n",
       "    <tr>\n",
       "      <th>25%</th>\n",
       "      <td>80.000000</td>\n",
       "      <td>30.000000</td>\n",
       "      <td>40.000000</td>\n",
       "      <td>10.000000</td>\n",
       "    </tr>\n",
       "    <tr>\n",
       "      <th>50%</th>\n",
       "      <td>88.000000</td>\n",
       "      <td>50.000000</td>\n",
       "      <td>43.000000</td>\n",
       "      <td>14.500000</td>\n",
       "    </tr>\n",
       "    <tr>\n",
       "      <th>75%</th>\n",
       "      <td>94.000000</td>\n",
       "      <td>80.000000</td>\n",
       "      <td>46.000000</td>\n",
       "      <td>18.000000</td>\n",
       "    </tr>\n",
       "    <tr>\n",
       "      <th>max</th>\n",
       "      <td>100.000000</td>\n",
       "      <td>850.000000</td>\n",
       "      <td>68.200000</td>\n",
       "      <td>40.000000</td>\n",
       "    </tr>\n",
       "  </tbody>\n",
       "</table>\n",
       "</div>"
      ],
      "text/plain": [
       "           Rating       Price         ABV         Age\n",
       "count  272.000000  279.000000  270.000000  174.000000\n",
       "mean    84.474265   72.483871   44.610444   14.339080\n",
       "std     11.877887   83.992242    5.883056    6.322267\n",
       "min     40.000000    2.000000   35.500000    0.000000\n",
       "25%     80.000000   30.000000   40.000000   10.000000\n",
       "50%     88.000000   50.000000   43.000000   14.500000\n",
       "75%     94.000000   80.000000   46.000000   18.000000\n",
       "max    100.000000  850.000000   68.200000   40.000000"
      ]
     },
     "execution_count": 323,
     "metadata": {},
     "output_type": "execute_result"
    }
   ],
   "source": [
    "wk.describe()"
   ]
  },
  {
   "cell_type": "code",
   "execution_count": 324,
   "metadata": {},
   "outputs": [
    {
     "data": {
      "text/html": [
       "<div>\n",
       "<style scoped>\n",
       "    .dataframe tbody tr th:only-of-type {\n",
       "        vertical-align: middle;\n",
       "    }\n",
       "\n",
       "    .dataframe tbody tr th {\n",
       "        vertical-align: top;\n",
       "    }\n",
       "\n",
       "    .dataframe thead th {\n",
       "        text-align: right;\n",
       "    }\n",
       "</style>\n",
       "<table border=\"1\" class=\"dataframe\">\n",
       "  <thead>\n",
       "    <tr style=\"text-align: right;\">\n",
       "      <th></th>\n",
       "      <th>Name</th>\n",
       "      <th>Rating</th>\n",
       "      <th>Country</th>\n",
       "      <th>Category</th>\n",
       "      <th>Price</th>\n",
       "      <th>ABV</th>\n",
       "      <th>Age</th>\n",
       "      <th>Brand</th>\n",
       "    </tr>\n",
       "  </thead>\n",
       "  <tbody>\n",
       "    <tr>\n",
       "      <th>0</th>\n",
       "      <td>Canadian Hunter Canadian Whisky</td>\n",
       "      <td>40.0</td>\n",
       "      <td>Canada</td>\n",
       "      <td>Blended</td>\n",
       "      <td>9.0</td>\n",
       "      <td>40.0</td>\n",
       "      <td>NaN</td>\n",
       "      <td>Canadian Hunter</td>\n",
       "    </tr>\n",
       "    <tr>\n",
       "      <th>1</th>\n",
       "      <td>Canadian LTD Blended Canadian Whiskey</td>\n",
       "      <td>43.0</td>\n",
       "      <td>Canada</td>\n",
       "      <td>Blended</td>\n",
       "      <td>10.0</td>\n",
       "      <td>NaN</td>\n",
       "      <td>NaN</td>\n",
       "      <td>Canadian LTD</td>\n",
       "    </tr>\n",
       "    <tr>\n",
       "      <th>2</th>\n",
       "      <td>Kellan Irish Whiskey</td>\n",
       "      <td>47.0</td>\n",
       "      <td>Ireland</td>\n",
       "      <td>Blended</td>\n",
       "      <td>20.0</td>\n",
       "      <td>40.0</td>\n",
       "      <td>NaN</td>\n",
       "      <td>Kellan</td>\n",
       "    </tr>\n",
       "    <tr>\n",
       "      <th>3</th>\n",
       "      <td>Rich &amp; Rare Canadian Whisky</td>\n",
       "      <td>47.0</td>\n",
       "      <td>Canada</td>\n",
       "      <td>Blended</td>\n",
       "      <td>10.0</td>\n",
       "      <td>NaN</td>\n",
       "      <td>NaN</td>\n",
       "      <td>Rich &amp; Rare</td>\n",
       "    </tr>\n",
       "    <tr>\n",
       "      <th>4</th>\n",
       "      <td>Canadian Mist Blended Canadian Whisky</td>\n",
       "      <td>48.0</td>\n",
       "      <td>Canada</td>\n",
       "      <td>Blended</td>\n",
       "      <td>12.0</td>\n",
       "      <td>40.0</td>\n",
       "      <td>NaN</td>\n",
       "      <td>Canadian Mist</td>\n",
       "    </tr>\n",
       "  </tbody>\n",
       "</table>\n",
       "</div>"
      ],
      "text/plain": [
       "                                    Name  Rating  Country Category  Price  \\\n",
       "0        Canadian Hunter Canadian Whisky    40.0   Canada  Blended    9.0   \n",
       "1  Canadian LTD Blended Canadian Whiskey    43.0   Canada  Blended   10.0   \n",
       "2                   Kellan Irish Whiskey    47.0  Ireland  Blended   20.0   \n",
       "3            Rich & Rare Canadian Whisky    47.0   Canada  Blended   10.0   \n",
       "4  Canadian Mist Blended Canadian Whisky    48.0   Canada  Blended   12.0   \n",
       "\n",
       "    ABV  Age            Brand  \n",
       "0  40.0  NaN  Canadian Hunter  \n",
       "1   NaN  NaN     Canadian LTD  \n",
       "2  40.0  NaN           Kellan  \n",
       "3   NaN  NaN      Rich & Rare  \n",
       "4  40.0  NaN    Canadian Mist  "
      ]
     },
     "execution_count": 324,
     "metadata": {},
     "output_type": "execute_result"
    }
   ],
   "source": [
    "wk.head()"
   ]
  },
  {
   "cell_type": "markdown",
   "metadata": {},
   "source": [
    "# Fix phase1\n",
    "* delete name, brand columns\n",
    "* also delete age because it has missing values around 4x%\n",
    "* drop columns that have missing values"
   ]
  },
  {
   "cell_type": "code",
   "execution_count": 325,
   "metadata": {},
   "outputs": [],
   "source": [
    "wk = wk.drop('Name', axis=1)\n",
    "wk = wk.drop('Age', axis=1)\n",
    "wk = wk.drop('Brand', axis=1)\n",
    "wk = wk.dropna()"
   ]
  },
  {
   "cell_type": "code",
   "execution_count": 326,
   "metadata": {},
   "outputs": [
    {
     "data": {
      "text/html": [
       "<div>\n",
       "<style scoped>\n",
       "    .dataframe tbody tr th:only-of-type {\n",
       "        vertical-align: middle;\n",
       "    }\n",
       "\n",
       "    .dataframe tbody tr th {\n",
       "        vertical-align: top;\n",
       "    }\n",
       "\n",
       "    .dataframe thead th {\n",
       "        text-align: right;\n",
       "    }\n",
       "</style>\n",
       "<table border=\"1\" class=\"dataframe\">\n",
       "  <thead>\n",
       "    <tr style=\"text-align: right;\">\n",
       "      <th></th>\n",
       "      <th>Rating</th>\n",
       "      <th>Country</th>\n",
       "      <th>Category</th>\n",
       "      <th>Price</th>\n",
       "      <th>ABV</th>\n",
       "    </tr>\n",
       "  </thead>\n",
       "  <tbody>\n",
       "    <tr>\n",
       "      <th>0</th>\n",
       "      <td>40.0</td>\n",
       "      <td>Canada</td>\n",
       "      <td>Blended</td>\n",
       "      <td>9.0</td>\n",
       "      <td>40.0</td>\n",
       "    </tr>\n",
       "    <tr>\n",
       "      <th>2</th>\n",
       "      <td>47.0</td>\n",
       "      <td>Ireland</td>\n",
       "      <td>Blended</td>\n",
       "      <td>20.0</td>\n",
       "      <td>40.0</td>\n",
       "    </tr>\n",
       "    <tr>\n",
       "      <th>4</th>\n",
       "      <td>48.0</td>\n",
       "      <td>Canada</td>\n",
       "      <td>Blended</td>\n",
       "      <td>12.0</td>\n",
       "      <td>40.0</td>\n",
       "    </tr>\n",
       "    <tr>\n",
       "      <th>6</th>\n",
       "      <td>53.0</td>\n",
       "      <td>Canada</td>\n",
       "      <td>Blended</td>\n",
       "      <td>12.0</td>\n",
       "      <td>40.0</td>\n",
       "    </tr>\n",
       "    <tr>\n",
       "      <th>8</th>\n",
       "      <td>54.0</td>\n",
       "      <td>USA</td>\n",
       "      <td>Blended</td>\n",
       "      <td>20.0</td>\n",
       "      <td>40.0</td>\n",
       "    </tr>\n",
       "  </tbody>\n",
       "</table>\n",
       "</div>"
      ],
      "text/plain": [
       "   Rating  Country Category  Price   ABV\n",
       "0    40.0   Canada  Blended    9.0  40.0\n",
       "2    47.0  Ireland  Blended   20.0  40.0\n",
       "4    48.0   Canada  Blended   12.0  40.0\n",
       "6    53.0   Canada  Blended   12.0  40.0\n",
       "8    54.0      USA  Blended   20.0  40.0"
      ]
     },
     "execution_count": 326,
     "metadata": {},
     "output_type": "execute_result"
    }
   ],
   "source": [
    "wk.head()"
   ]
  },
  {
   "cell_type": "code",
   "execution_count": 327,
   "metadata": {},
   "outputs": [],
   "source": [
    "data = wk.values"
   ]
  },
  {
   "cell_type": "markdown",
   "metadata": {},
   "source": [
    "# Convert nominal attributes to numeric"
   ]
  },
  {
   "cell_type": "code",
   "execution_count": 328,
   "metadata": {},
   "outputs": [],
   "source": [
    "data[:,1] = LabelEncoder().fit_transform(data[:,1])\n",
    "data[:,2] = LabelEncoder().fit_transform(data[:,2])"
   ]
  },
  {
   "cell_type": "markdown",
   "metadata": {},
   "source": [
    "# From phase 1"
   ]
  },
  {
   "cell_type": "code",
   "execution_count": 329,
   "metadata": {},
   "outputs": [],
   "source": [
    "def outlier(x):\n",
    "    q1, q3 = np.percentile(x,[25, 75])\n",
    "    iqr = q3 - q1\n",
    "    cut = 1.5 * iqr  \n",
    "    return [i for i in range(x.shape[0]) if x[i] < q1-cut or x[i]>q3+cut]\n",
    "\n",
    "def all_out(x):\n",
    "    idx = []\n",
    "    for i in range(x.shape[1]):\n",
    "        idx = np.concatenate((idx, outlier(x[:,i])))\n",
    "    return list(set(idx))"
   ]
  },
  {
   "cell_type": "code",
   "execution_count": 330,
   "metadata": {},
   "outputs": [
    {
     "name": "stdout",
     "output_type": "stream",
     "text": [
      "49 [0.0, 1.0, 2.0, 3.0, 4.0, 5.0, 6.0, 7.0, 8.0, 9.0, 132.0, 259.0, 133.0, 141.0, 256.0, 143.0, 257.0, 155.0, 156.0, 158.0, 159.0, 160.0, 162.0, 46.0, 174.0, 176.0, 51.0, 59.0, 60.0, 67.0, 195.0, 197.0, 199.0, 202.0, 208.0, 80.0, 210.0, 213.0, 214.0, 89.0, 220.0, 97.0, 227.0, 100.0, 229.0, 232.0, 254.0, 125.0, 126.0]\n",
      "(211, 5)\n"
     ]
    },
    {
     "name": "stderr",
     "output_type": "stream",
     "text": [
      "C:\\Anaconda3\\lib\\site-packages\\ipykernel_launcher.py:3: DeprecationWarning: using a non-integer array as obj in delete will result in an error in the future\n",
      "  This is separate from the ipykernel package so we can avoid doing imports until\n"
     ]
    }
   ],
   "source": [
    "idx = all_out(data)\n",
    "print(len(idx),idx)\n",
    "data = np.delete(data, idx, axis=0)\n",
    "print(data.shape)"
   ]
  },
  {
   "cell_type": "markdown",
   "metadata": {},
   "source": [
    "# Min-Max Normalization"
   ]
  },
  {
   "cell_type": "code",
   "execution_count": 331,
   "metadata": {},
   "outputs": [
    {
     "name": "stdout",
     "output_type": "stream",
     "text": [
      "[[0.         0.         0.         0.14728682 0.234375  ]\n",
      " [0.         0.5        0.         0.06976744 0.234375  ]\n",
      " [0.02777778 0.5        0.         0.10077519 0.234375  ]\n",
      " ...\n",
      " [0.97222222 1.         0.07142857 0.36434109 0.9375    ]\n",
      " [0.97222222 0.75       0.57142857 0.53488372 0.97395833]\n",
      " [1.         0.5        0.85714286 0.47286822 0.546875  ]]\n"
     ]
    },
    {
     "name": "stderr",
     "output_type": "stream",
     "text": [
      "C:\\Anaconda3\\lib\\site-packages\\sklearn\\utils\\validation.py:590: DataConversionWarning: Data with input dtype object was converted to float64 by MinMaxScaler.\n",
      "  warnings.warn(msg, DataConversionWarning)\n"
     ]
    }
   ],
   "source": [
    "data = MinMaxScaler().fit_transform(data)\n",
    "print(data)"
   ]
  },
  {
   "cell_type": "markdown",
   "metadata": {},
   "source": [
    "# Convert numeric rating to nominal (\"low\", \"medium\", \"high\")"
   ]
  },
  {
   "cell_type": "code",
   "execution_count": 332,
   "metadata": {},
   "outputs": [
    {
     "data": {
      "text/plain": [
       "\"rate_min = data[:,0].min()\\nrate_max = data[:,0].max()\\nrate_range = rate_max - rate_min\\nprint(rate_min, rate_max, rate_range)\\nlabel = np.array(['low' if d <= rate_min+rate_range/3  else 'medium' if d <= rate_min+2*rate_range/3 else 'high' for d in data[:,0]])\""
      ]
     },
     "execution_count": 332,
     "metadata": {},
     "output_type": "execute_result"
    }
   ],
   "source": [
    "\"\"\"rate_min = data[:,0].min()\n",
    "rate_max = data[:,0].max()\n",
    "rate_range = rate_max - rate_min\n",
    "print(rate_min, rate_max, rate_range)\n",
    "label = np.array(['low' if d <= rate_min+rate_range/3  else 'medium' if d <= rate_min+2*rate_range/3 else 'high' for d in data[:,0]])\"\"\""
   ]
  },
  {
   "cell_type": "code",
   "execution_count": 333,
   "metadata": {},
   "outputs": [],
   "source": [
    "label = np.array(['low' if d <= 1/3  else 'medium' if d <= 2/3 else 'high' for d in data[:,0]])"
   ]
  },
  {
   "cell_type": "markdown",
   "metadata": {},
   "source": [
    "# Split x, y to both x_train, y_train, x_test, y_test"
   ]
  },
  {
   "cell_type": "code",
   "execution_count": 334,
   "metadata": {},
   "outputs": [
    {
     "name": "stdout",
     "output_type": "stream",
     "text": [
      "(168, 4) (168,)\n",
      "(43, 4) (43,)\n"
     ]
    }
   ],
   "source": [
    "x = data[:,1:]\n",
    "y = label\n",
    "\n",
    "x_train, x_test, y_train, y_test = train_test_split(x, y,test_size=0.2, shuffle=True)\n",
    "print(x_train.shape, y_train.shape)\n",
    "print(x_test.shape, y_test.shape)"
   ]
  },
  {
   "cell_type": "markdown",
   "metadata": {},
   "source": [
    "# Cart decision tree\n",
    "* set max depth = 3 to reduce overfitting"
   ]
  },
  {
   "cell_type": "code",
   "execution_count": 335,
   "metadata": {},
   "outputs": [
    {
     "data": {
      "text/plain": [
       "DecisionTreeClassifier(class_weight=None, criterion='gini', max_depth=3,\n",
       "            max_features=None, max_leaf_nodes=None,\n",
       "            min_impurity_decrease=0.0, min_impurity_split=None,\n",
       "            min_samples_leaf=1, min_samples_split=2,\n",
       "            min_weight_fraction_leaf=0.0, presort=False, random_state=None,\n",
       "            splitter='best')"
      ]
     },
     "execution_count": 335,
     "metadata": {},
     "output_type": "execute_result"
    }
   ],
   "source": [
    "cart = tree.DecisionTreeClassifier(criterion=\"gini\", max_depth=3)\n",
    "cart.fit(x_train, y_train)"
   ]
  },
  {
   "cell_type": "markdown",
   "metadata": {},
   "source": [
    "# Write tree to cart.txt"
   ]
  },
  {
   "cell_type": "code",
   "execution_count": 336,
   "metadata": {},
   "outputs": [],
   "source": [
    "export_graphviz(cart, \"cart.txt\")"
   ]
  },
  {
   "cell_type": "markdown",
   "metadata": {},
   "source": [
    "# Data which incorrectly predict (no need to report, just only tree picture)"
   ]
  },
  {
   "cell_type": "code",
   "execution_count": 337,
   "metadata": {},
   "outputs": [
    {
     "name": "stdout",
     "output_type": "stream",
     "text": [
      "0 medium high\n",
      "4 medium low\n",
      "7 medium high\n",
      "8 low high\n",
      "10 high medium\n",
      "15 medium high\n",
      "18 low medium\n",
      "19 medium high\n",
      "21 high medium\n",
      "35 medium low\n",
      "36 high medium\n",
      "40 high medium\n",
      "acc: 0.7209302325581395\n"
     ]
    }
   ],
   "source": [
    "count = 0\n",
    "for i in range(x_test.shape[0]):\n",
    "    if cart.predict(x_test[i].reshape(1, -1))[0] == y_test[i]:\n",
    "        count += 1\n",
    "    else:\n",
    "        print(i,cart.predict(x_test[i].reshape(1, -1))[0], y_test[i])\n",
    "        \n",
    "print(\"acc:\", count/x_test.shape[0])"
   ]
  },
  {
   "cell_type": "markdown",
   "metadata": {},
   "source": [
    "# Actual labels of test set [low, med, high]"
   ]
  },
  {
   "cell_type": "code",
   "execution_count": 338,
   "metadata": {},
   "outputs": [
    {
     "name": "stdout",
     "output_type": "stream",
     "text": [
      "actual: [3, 22, 18]\n"
     ]
    }
   ],
   "source": [
    "actual = [0, 0, 0]\n",
    "for x in y_test:\n",
    "    if x == 'low':\n",
    "        actual[0] += 1\n",
    "    elif x == 'medium':\n",
    "        actual[1] += 1\n",
    "    else:\n",
    "        actual[2] += 1\n",
    "print(\"actual:\", actual)"
   ]
  },
  {
   "cell_type": "markdown",
   "metadata": {},
   "source": [
    "# Predict labels of test set [low, med, high]"
   ]
  },
  {
   "cell_type": "code",
   "execution_count": 339,
   "metadata": {},
   "outputs": [
    {
     "name": "stdout",
     "output_type": "stream",
     "text": [
      "predict of cart: [3, 23, 17]\n"
     ]
    }
   ],
   "source": [
    "count_predict_cart = [0, 0, 0]\n",
    "for x in x_test:\n",
    "    if cart.predict(x.reshape(1, -1)) == 'low':\n",
    "        count_predict_cart[0] += 1\n",
    "    elif cart.predict(x.reshape(1, -1)) == 'medium':\n",
    "        count_predict_cart[1] += 1\n",
    "    else:\n",
    "        count_predict_cart[2] += 1\n",
    "print(\"predict of cart:\", count_predict_cart)"
   ]
  },
  {
   "cell_type": "code",
   "execution_count": 340,
   "metadata": {},
   "outputs": [],
   "source": [
    "y_predict_cart = []\n",
    "for x in x_test:\n",
    "    y_predict_cart.append(cart.predict(x.reshape(1, -1))[0])"
   ]
  },
  {
   "cell_type": "code",
   "execution_count": 341,
   "metadata": {},
   "outputs": [],
   "source": [
    "labels = ['low', 'medium', 'high']"
   ]
  },
  {
   "cell_type": "markdown",
   "metadata": {},
   "source": [
    "# Create confusion matrix (Can do it in excel for more understandable)"
   ]
  },
  {
   "cell_type": "code",
   "execution_count": 342,
   "metadata": {},
   "outputs": [],
   "source": [
    "confusion_mat = pd.DataFrame(confusion_matrix(y_test, y_predict_cart,labels=labels), columns=labels, index=labels)"
   ]
  },
  {
   "cell_type": "markdown",
   "metadata": {},
   "source": [
    "# Row => Actual labels, Col => Predict labels"
   ]
  },
  {
   "cell_type": "code",
   "execution_count": 343,
   "metadata": {},
   "outputs": [
    {
     "data": {
      "text/html": [
       "<div>\n",
       "<style scoped>\n",
       "    .dataframe tbody tr th:only-of-type {\n",
       "        vertical-align: middle;\n",
       "    }\n",
       "\n",
       "    .dataframe tbody tr th {\n",
       "        vertical-align: top;\n",
       "    }\n",
       "\n",
       "    .dataframe thead th {\n",
       "        text-align: right;\n",
       "    }\n",
       "</style>\n",
       "<table border=\"1\" class=\"dataframe\">\n",
       "  <thead>\n",
       "    <tr style=\"text-align: right;\">\n",
       "      <th></th>\n",
       "      <th>low</th>\n",
       "      <th>medium</th>\n",
       "      <th>high</th>\n",
       "    </tr>\n",
       "  </thead>\n",
       "  <tbody>\n",
       "    <tr>\n",
       "      <th>low</th>\n",
       "      <td>1</td>\n",
       "      <td>2</td>\n",
       "      <td>0</td>\n",
       "    </tr>\n",
       "    <tr>\n",
       "      <th>medium</th>\n",
       "      <td>1</td>\n",
       "      <td>17</td>\n",
       "      <td>4</td>\n",
       "    </tr>\n",
       "    <tr>\n",
       "      <th>high</th>\n",
       "      <td>1</td>\n",
       "      <td>4</td>\n",
       "      <td>13</td>\n",
       "    </tr>\n",
       "  </tbody>\n",
       "</table>\n",
       "</div>"
      ],
      "text/plain": [
       "        low  medium  high\n",
       "low       1       2     0\n",
       "medium    1      17     4\n",
       "high      1       4    13"
      ]
     },
     "execution_count": 343,
     "metadata": {},
     "output_type": "execute_result"
    }
   ],
   "source": [
    "confusion_mat"
   ]
  },
  {
   "cell_type": "markdown",
   "metadata": {},
   "source": [
    "# Additional information about Cart classification"
   ]
  },
  {
   "cell_type": "code",
   "execution_count": 344,
   "metadata": {},
   "outputs": [
    {
     "name": "stdout",
     "output_type": "stream",
     "text": [
      "              precision    recall  f1-score   support\n",
      "\n",
      "         low       0.33      0.33      0.33         3\n",
      "      medium       0.74      0.77      0.76        22\n",
      "        high       0.76      0.72      0.74        18\n",
      "\n",
      "   micro avg       0.72      0.72      0.72        43\n",
      "   macro avg       0.61      0.61      0.61        43\n",
      "weighted avg       0.72      0.72      0.72        43\n",
      "\n"
     ]
    }
   ],
   "source": [
    "text_report_cart = sklearn.metrics.classification_report(y_test, y_predict_cart, labels=labels)\n",
    "print(text_report_cart)"
   ]
  },
  {
   "cell_type": "markdown",
   "metadata": {},
   "source": [
    "# Next, is about C4.5 (Same step as Cart)"
   ]
  },
  {
   "cell_type": "code",
   "execution_count": 345,
   "metadata": {},
   "outputs": [
    {
     "data": {
      "text/plain": [
       "DecisionTreeClassifier(class_weight=None, criterion='entropy', max_depth=3,\n",
       "            max_features=None, max_leaf_nodes=None,\n",
       "            min_impurity_decrease=0.0, min_impurity_split=None,\n",
       "            min_samples_leaf=1, min_samples_split=2,\n",
       "            min_weight_fraction_leaf=0.0, presort=False, random_state=None,\n",
       "            splitter='best')"
      ]
     },
     "execution_count": 345,
     "metadata": {},
     "output_type": "execute_result"
    }
   ],
   "source": [
    "c45 = tree.DecisionTreeClassifier(criterion=\"entropy\", max_depth=3)\n",
    "c45.fit(x_train, y_train)"
   ]
  },
  {
   "cell_type": "code",
   "execution_count": 346,
   "metadata": {},
   "outputs": [],
   "source": [
    "export_graphviz(c45, \"c45.txt\")"
   ]
  },
  {
   "cell_type": "code",
   "execution_count": 347,
   "metadata": {},
   "outputs": [
    {
     "name": "stdout",
     "output_type": "stream",
     "text": [
      "0 medium high\n",
      "4 high low\n",
      "5 low medium\n",
      "7 medium high\n",
      "8 medium high\n",
      "10 high medium\n",
      "15 medium high\n",
      "18 low medium\n",
      "19 medium high\n",
      "21 high medium\n",
      "35 medium low\n",
      "36 high medium\n",
      "40 high medium\n",
      "acc: 0.6976744186046512\n"
     ]
    }
   ],
   "source": [
    "count = 0\n",
    "for i in range(x_test.shape[0]):\n",
    "    if c45.predict(x_test[i].reshape(1, -1))[0] == y_test[i]:\n",
    "        count += 1\n",
    "    else:\n",
    "        print(i,c45.predict(x_test[i].reshape(1, -1))[0], y_test[i])\n",
    "        \n",
    "print(\"acc:\", count/x_test.shape[0])"
   ]
  },
  {
   "cell_type": "code",
   "execution_count": 348,
   "metadata": {},
   "outputs": [
    {
     "name": "stdout",
     "output_type": "stream",
     "text": [
      "predict of c4.5: [3, 22, 18]\n"
     ]
    }
   ],
   "source": [
    "count_predict_c45 = [0, 0, 0]\n",
    "for x in x_test:\n",
    "    if c45.predict(x.reshape(1, -1)) == 'low':\n",
    "        count_predict_c45[0] += 1\n",
    "    elif c45.predict(x.reshape(1, -1)) == 'medium':\n",
    "        count_predict_c45[1] += 1\n",
    "    else:\n",
    "        count_predict_c45[2] += 1\n",
    "print(\"predict of c4.5:\", count_predict_c45)"
   ]
  },
  {
   "cell_type": "code",
   "execution_count": 349,
   "metadata": {},
   "outputs": [],
   "source": [
    "y_predict_c45 = []\n",
    "for x in x_test:\n",
    "    y_predict_c45.append(c45.predict(x.reshape(1, -1))[0])"
   ]
  },
  {
   "cell_type": "code",
   "execution_count": 350,
   "metadata": {},
   "outputs": [],
   "source": [
    "c45_confusion_mat = pd.DataFrame(confusion_matrix(y_test, y_predict_c45,labels=labels), columns=labels, index=labels)"
   ]
  },
  {
   "cell_type": "code",
   "execution_count": 351,
   "metadata": {},
   "outputs": [
    {
     "data": {
      "text/html": [
       "<div>\n",
       "<style scoped>\n",
       "    .dataframe tbody tr th:only-of-type {\n",
       "        vertical-align: middle;\n",
       "    }\n",
       "\n",
       "    .dataframe tbody tr th {\n",
       "        vertical-align: top;\n",
       "    }\n",
       "\n",
       "    .dataframe thead th {\n",
       "        text-align: right;\n",
       "    }\n",
       "</style>\n",
       "<table border=\"1\" class=\"dataframe\">\n",
       "  <thead>\n",
       "    <tr style=\"text-align: right;\">\n",
       "      <th></th>\n",
       "      <th>low</th>\n",
       "      <th>medium</th>\n",
       "      <th>high</th>\n",
       "    </tr>\n",
       "  </thead>\n",
       "  <tbody>\n",
       "    <tr>\n",
       "      <th>low</th>\n",
       "      <td>1</td>\n",
       "      <td>1</td>\n",
       "      <td>1</td>\n",
       "    </tr>\n",
       "    <tr>\n",
       "      <th>medium</th>\n",
       "      <td>2</td>\n",
       "      <td>16</td>\n",
       "      <td>4</td>\n",
       "    </tr>\n",
       "    <tr>\n",
       "      <th>high</th>\n",
       "      <td>0</td>\n",
       "      <td>5</td>\n",
       "      <td>13</td>\n",
       "    </tr>\n",
       "  </tbody>\n",
       "</table>\n",
       "</div>"
      ],
      "text/plain": [
       "        low  medium  high\n",
       "low       1       1     1\n",
       "medium    2      16     4\n",
       "high      0       5    13"
      ]
     },
     "execution_count": 351,
     "metadata": {},
     "output_type": "execute_result"
    }
   ],
   "source": [
    "c45_confusion_mat"
   ]
  },
  {
   "cell_type": "code",
   "execution_count": 352,
   "metadata": {},
   "outputs": [
    {
     "name": "stdout",
     "output_type": "stream",
     "text": [
      "              precision    recall  f1-score   support\n",
      "\n",
      "         low       0.33      0.33      0.33         3\n",
      "      medium       0.73      0.73      0.73        22\n",
      "        high       0.72      0.72      0.72        18\n",
      "\n",
      "   micro avg       0.70      0.70      0.70        43\n",
      "   macro avg       0.59      0.59      0.59        43\n",
      "weighted avg       0.70      0.70      0.70        43\n",
      "\n"
     ]
    }
   ],
   "source": [
    "text_report_c45 = sklearn.metrics.classification_report(y_test, y_predict_c45, labels=labels)\n",
    "print(text_report_c45)"
   ]
  },
  {
   "cell_type": "code",
   "execution_count": null,
   "metadata": {},
   "outputs": [],
   "source": []
  },
  {
   "cell_type": "code",
   "execution_count": null,
   "metadata": {},
   "outputs": [],
   "source": []
  }
 ],
 "metadata": {
  "kernelspec": {
   "display_name": "Python 3",
   "language": "python",
   "name": "python3"
  },
  "language_info": {
   "codemirror_mode": {
    "name": "ipython",
    "version": 3
   },
   "file_extension": ".py",
   "mimetype": "text/x-python",
   "name": "python",
   "nbconvert_exporter": "python",
   "pygments_lexer": "ipython3",
   "version": "3.6.7"
  }
 },
 "nbformat": 4,
 "nbformat_minor": 2
}

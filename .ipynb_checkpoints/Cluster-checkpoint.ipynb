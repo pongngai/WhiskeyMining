{
 "cells": [
  {
   "cell_type": "code",
   "execution_count": 84,
   "metadata": {},
   "outputs": [],
   "source": [
    "import pandas as pd\n",
    "import numpy as np\n",
    "import matplotlib.pyplot as plt\n",
    "import requests\n",
    "from io import StringIO\n",
    "from sklearn.cluster import KMeans\n",
    "from sklearn.preprocessing import MinMaxScaler, LabelEncoder, StandardScaler\n",
    "import seaborn as sns\n",
    "from sklearn.metrics import confusion_matrix,classification_report\n",
    "%matplotlib inline"
   ]
  },
  {
   "cell_type": "markdown",
   "metadata": {},
   "source": [
    "# Phase 1"
   ]
  },
  {
   "cell_type": "code",
   "execution_count": 85,
   "metadata": {},
   "outputs": [],
   "source": [
    "#Read CSV file from the url to DataFrame\n",
    "url = \"https://github.com/Brunel-Visualization/Brunel/raw/master/python/examples/data/whiskey.csv\"\n",
    "s = requests.get(url).text\n",
    "wk = pd.read_csv(StringIO(s))"
   ]
  },
  {
   "cell_type": "code",
   "execution_count": 86,
   "metadata": {},
   "outputs": [
    {
     "data": {
      "text/html": [
       "<div>\n",
       "<style scoped>\n",
       "    .dataframe tbody tr th:only-of-type {\n",
       "        vertical-align: middle;\n",
       "    }\n",
       "\n",
       "    .dataframe tbody tr th {\n",
       "        vertical-align: top;\n",
       "    }\n",
       "\n",
       "    .dataframe thead th {\n",
       "        text-align: right;\n",
       "    }\n",
       "</style>\n",
       "<table border=\"1\" class=\"dataframe\">\n",
       "  <thead>\n",
       "    <tr style=\"text-align: right;\">\n",
       "      <th></th>\n",
       "      <th>Name</th>\n",
       "      <th>Rating</th>\n",
       "      <th>Country</th>\n",
       "      <th>Category</th>\n",
       "      <th>Price</th>\n",
       "      <th>ABV</th>\n",
       "      <th>Age</th>\n",
       "      <th>Brand</th>\n",
       "    </tr>\n",
       "  </thead>\n",
       "  <tbody>\n",
       "    <tr>\n",
       "      <th>0</th>\n",
       "      <td>Canadian Hunter Canadian Whisky</td>\n",
       "      <td>40.0</td>\n",
       "      <td>Canada</td>\n",
       "      <td>Blended</td>\n",
       "      <td>9.0</td>\n",
       "      <td>40.0</td>\n",
       "      <td>NaN</td>\n",
       "      <td>Canadian Hunter</td>\n",
       "    </tr>\n",
       "    <tr>\n",
       "      <th>1</th>\n",
       "      <td>Canadian LTD Blended Canadian Whiskey</td>\n",
       "      <td>43.0</td>\n",
       "      <td>Canada</td>\n",
       "      <td>Blended</td>\n",
       "      <td>10.0</td>\n",
       "      <td>NaN</td>\n",
       "      <td>NaN</td>\n",
       "      <td>Canadian LTD</td>\n",
       "    </tr>\n",
       "    <tr>\n",
       "      <th>2</th>\n",
       "      <td>Kellan Irish Whiskey</td>\n",
       "      <td>47.0</td>\n",
       "      <td>Ireland</td>\n",
       "      <td>Blended</td>\n",
       "      <td>20.0</td>\n",
       "      <td>40.0</td>\n",
       "      <td>NaN</td>\n",
       "      <td>Kellan</td>\n",
       "    </tr>\n",
       "    <tr>\n",
       "      <th>3</th>\n",
       "      <td>Rich &amp; Rare Canadian Whisky</td>\n",
       "      <td>47.0</td>\n",
       "      <td>Canada</td>\n",
       "      <td>Blended</td>\n",
       "      <td>10.0</td>\n",
       "      <td>NaN</td>\n",
       "      <td>NaN</td>\n",
       "      <td>Rich &amp; Rare</td>\n",
       "    </tr>\n",
       "    <tr>\n",
       "      <th>4</th>\n",
       "      <td>Canadian Mist Blended Canadian Whisky</td>\n",
       "      <td>48.0</td>\n",
       "      <td>Canada</td>\n",
       "      <td>Blended</td>\n",
       "      <td>12.0</td>\n",
       "      <td>40.0</td>\n",
       "      <td>NaN</td>\n",
       "      <td>Canadian Mist</td>\n",
       "    </tr>\n",
       "  </tbody>\n",
       "</table>\n",
       "</div>"
      ],
      "text/plain": [
       "                                    Name  Rating  Country Category  Price  \\\n",
       "0        Canadian Hunter Canadian Whisky    40.0   Canada  Blended    9.0   \n",
       "1  Canadian LTD Blended Canadian Whiskey    43.0   Canada  Blended   10.0   \n",
       "2                   Kellan Irish Whiskey    47.0  Ireland  Blended   20.0   \n",
       "3            Rich & Rare Canadian Whisky    47.0   Canada  Blended   10.0   \n",
       "4  Canadian Mist Blended Canadian Whisky    48.0   Canada  Blended   12.0   \n",
       "\n",
       "    ABV  Age            Brand  \n",
       "0  40.0  NaN  Canadian Hunter  \n",
       "1   NaN  NaN     Canadian LTD  \n",
       "2  40.0  NaN           Kellan  \n",
       "3   NaN  NaN      Rich & Rare  \n",
       "4  40.0  NaN    Canadian Mist  "
      ]
     },
     "execution_count": 86,
     "metadata": {},
     "output_type": "execute_result"
    }
   ],
   "source": [
    "wk.head()"
   ]
  },
  {
   "cell_type": "code",
   "execution_count": 87,
   "metadata": {},
   "outputs": [],
   "source": [
    "wk.drop('Name',axis=1,inplace=True)\n",
    "wk.drop('Country',axis=1,inplace=True)\n",
    "wk.drop('Category',axis=1,inplace=True)\n",
    "wk.drop('Age',axis=1,inplace=True)\n",
    "wk.drop('Brand',axis=1,inplace=True)"
   ]
  },
  {
   "cell_type": "code",
   "execution_count": 88,
   "metadata": {},
   "outputs": [
    {
     "data": {
      "text/html": [
       "<div>\n",
       "<style scoped>\n",
       "    .dataframe tbody tr th:only-of-type {\n",
       "        vertical-align: middle;\n",
       "    }\n",
       "\n",
       "    .dataframe tbody tr th {\n",
       "        vertical-align: top;\n",
       "    }\n",
       "\n",
       "    .dataframe thead th {\n",
       "        text-align: right;\n",
       "    }\n",
       "</style>\n",
       "<table border=\"1\" class=\"dataframe\">\n",
       "  <thead>\n",
       "    <tr style=\"text-align: right;\">\n",
       "      <th></th>\n",
       "      <th>Rating</th>\n",
       "      <th>Price</th>\n",
       "      <th>ABV</th>\n",
       "    </tr>\n",
       "  </thead>\n",
       "  <tbody>\n",
       "    <tr>\n",
       "      <th>0</th>\n",
       "      <td>40.0</td>\n",
       "      <td>9.0</td>\n",
       "      <td>40.0</td>\n",
       "    </tr>\n",
       "    <tr>\n",
       "      <th>1</th>\n",
       "      <td>43.0</td>\n",
       "      <td>10.0</td>\n",
       "      <td>NaN</td>\n",
       "    </tr>\n",
       "    <tr>\n",
       "      <th>2</th>\n",
       "      <td>47.0</td>\n",
       "      <td>20.0</td>\n",
       "      <td>40.0</td>\n",
       "    </tr>\n",
       "    <tr>\n",
       "      <th>3</th>\n",
       "      <td>47.0</td>\n",
       "      <td>10.0</td>\n",
       "      <td>NaN</td>\n",
       "    </tr>\n",
       "    <tr>\n",
       "      <th>4</th>\n",
       "      <td>48.0</td>\n",
       "      <td>12.0</td>\n",
       "      <td>40.0</td>\n",
       "    </tr>\n",
       "  </tbody>\n",
       "</table>\n",
       "</div>"
      ],
      "text/plain": [
       "   Rating  Price   ABV\n",
       "0    40.0    9.0  40.0\n",
       "1    43.0   10.0   NaN\n",
       "2    47.0   20.0  40.0\n",
       "3    47.0   10.0   NaN\n",
       "4    48.0   12.0  40.0"
      ]
     },
     "execution_count": 88,
     "metadata": {},
     "output_type": "execute_result"
    }
   ],
   "source": [
    "wk.head()"
   ]
  },
  {
   "cell_type": "code",
   "execution_count": 89,
   "metadata": {},
   "outputs": [
    {
     "data": {
      "text/plain": [
       "Rating    11\n",
       "Price      4\n",
       "ABV       13\n",
       "dtype: int64"
      ]
     },
     "execution_count": 89,
     "metadata": {},
     "output_type": "execute_result"
    }
   ],
   "source": [
    "wk.isna().sum()"
   ]
  },
  {
   "cell_type": "code",
   "execution_count": 90,
   "metadata": {},
   "outputs": [
    {
     "data": {
      "text/html": [
       "<div>\n",
       "<style scoped>\n",
       "    .dataframe tbody tr th:only-of-type {\n",
       "        vertical-align: middle;\n",
       "    }\n",
       "\n",
       "    .dataframe tbody tr th {\n",
       "        vertical-align: top;\n",
       "    }\n",
       "\n",
       "    .dataframe thead th {\n",
       "        text-align: right;\n",
       "    }\n",
       "</style>\n",
       "<table border=\"1\" class=\"dataframe\">\n",
       "  <thead>\n",
       "    <tr style=\"text-align: right;\">\n",
       "      <th></th>\n",
       "      <th>Rating</th>\n",
       "      <th>Price</th>\n",
       "      <th>ABV</th>\n",
       "    </tr>\n",
       "  </thead>\n",
       "  <tbody>\n",
       "    <tr>\n",
       "      <th>count</th>\n",
       "      <td>272.000000</td>\n",
       "      <td>279.000000</td>\n",
       "      <td>270.000000</td>\n",
       "    </tr>\n",
       "    <tr>\n",
       "      <th>mean</th>\n",
       "      <td>84.474265</td>\n",
       "      <td>72.483871</td>\n",
       "      <td>44.610444</td>\n",
       "    </tr>\n",
       "    <tr>\n",
       "      <th>std</th>\n",
       "      <td>11.877887</td>\n",
       "      <td>83.992242</td>\n",
       "      <td>5.883056</td>\n",
       "    </tr>\n",
       "    <tr>\n",
       "      <th>min</th>\n",
       "      <td>40.000000</td>\n",
       "      <td>2.000000</td>\n",
       "      <td>35.500000</td>\n",
       "    </tr>\n",
       "    <tr>\n",
       "      <th>25%</th>\n",
       "      <td>80.000000</td>\n",
       "      <td>30.000000</td>\n",
       "      <td>40.000000</td>\n",
       "    </tr>\n",
       "    <tr>\n",
       "      <th>50%</th>\n",
       "      <td>88.000000</td>\n",
       "      <td>50.000000</td>\n",
       "      <td>43.000000</td>\n",
       "    </tr>\n",
       "    <tr>\n",
       "      <th>75%</th>\n",
       "      <td>94.000000</td>\n",
       "      <td>80.000000</td>\n",
       "      <td>46.000000</td>\n",
       "    </tr>\n",
       "    <tr>\n",
       "      <th>max</th>\n",
       "      <td>100.000000</td>\n",
       "      <td>850.000000</td>\n",
       "      <td>68.200000</td>\n",
       "    </tr>\n",
       "  </tbody>\n",
       "</table>\n",
       "</div>"
      ],
      "text/plain": [
       "           Rating       Price         ABV\n",
       "count  272.000000  279.000000  270.000000\n",
       "mean    84.474265   72.483871   44.610444\n",
       "std     11.877887   83.992242    5.883056\n",
       "min     40.000000    2.000000   35.500000\n",
       "25%     80.000000   30.000000   40.000000\n",
       "50%     88.000000   50.000000   43.000000\n",
       "75%     94.000000   80.000000   46.000000\n",
       "max    100.000000  850.000000   68.200000"
      ]
     },
     "execution_count": 90,
     "metadata": {},
     "output_type": "execute_result"
    }
   ],
   "source": [
    "wk.describe()"
   ]
  },
  {
   "cell_type": "code",
   "execution_count": 91,
   "metadata": {},
   "outputs": [],
   "source": [
    "wk.dropna(inplace = True)"
   ]
  },
  {
   "cell_type": "code",
   "execution_count": 92,
   "metadata": {},
   "outputs": [],
   "source": [
    "data = wk.values"
   ]
  },
  {
   "cell_type": "markdown",
   "metadata": {},
   "source": [
    "# Delete outlier"
   ]
  },
  {
   "cell_type": "code",
   "execution_count": 93,
   "metadata": {},
   "outputs": [],
   "source": [
    "def outlier(x):\n",
    "    q1, q3 = np.percentile(x,[25, 75])\n",
    "    iqr = q3 - q1\n",
    "    cut = 1.5 * iqr  \n",
    "    return [i for i in range(x.shape[0]) if x[i] < q1-cut or x[i]>q3+cut]\n",
    "\n",
    "def all_out(x):\n",
    "    idx = []\n",
    "    for i in range(x.shape[1]):\n",
    "        idx = np.concatenate((idx, outlier(x[:,i])))\n",
    "    return list(set(idx))"
   ]
  },
  {
   "cell_type": "code",
   "execution_count": 94,
   "metadata": {},
   "outputs": [
    {
     "name": "stdout",
     "output_type": "stream",
     "text": [
      "49 [0.0, 1.0, 2.0, 3.0, 4.0, 5.0, 6.0, 7.0, 8.0, 9.0, 132.0, 259.0, 133.0, 141.0, 256.0, 143.0, 257.0, 155.0, 156.0, 158.0, 159.0, 160.0, 162.0, 46.0, 174.0, 176.0, 51.0, 59.0, 60.0, 67.0, 195.0, 197.0, 199.0, 202.0, 208.0, 80.0, 210.0, 213.0, 214.0, 89.0, 220.0, 97.0, 227.0, 100.0, 229.0, 232.0, 254.0, 125.0, 126.0]\n",
      "(211, 3)\n",
      "[[ 64.    30.    40.  ]\n",
      " [ 64.    20.    40.  ]\n",
      " [ 65.    24.    40.  ]\n",
      " [ 65.    25.    40.  ]\n",
      " [ 67.    35.    40.  ]\n",
      " [ 67.    50.    43.  ]\n",
      " [ 67.    60.    40.  ]\n",
      " [ 67.    65.    40.  ]\n",
      " [ 67.    14.    40.  ]\n",
      " [ 68.    25.    40.  ]\n",
      " [ 68.    12.    40.  ]\n",
      " [ 69.    23.    40.  ]\n",
      " [ 69.    23.    40.  ]\n",
      " [ 69.    15.    40.  ]\n",
      " [ 69.    27.    45.  ]\n",
      " [ 69.    20.    40.  ]\n",
      " [ 70.    45.    43.  ]\n",
      " [ 70.    26.    40.  ]\n",
      " [ 71.    27.    40.  ]\n",
      " [ 71.    50.    43.  ]\n",
      " [ 72.    48.    46.  ]\n",
      " [ 73.    84.    40.  ]\n",
      " [ 73.    90.    40.  ]\n",
      " [ 74.    90.    46.  ]\n",
      " [ 74.    40.    40.  ]\n",
      " [ 74.    50.    45.  ]\n",
      " [ 74.    58.    40.  ]\n",
      " [ 75.    85.    43.  ]\n",
      " [ 76.    46.    45.  ]\n",
      " [ 76.    38.    53.  ]\n",
      " [ 76.    36.    46.  ]\n",
      " [ 76.    70.    46.  ]\n",
      " [ 76.    16.    40.  ]\n",
      " [ 76.    45.    40.  ]\n",
      " [ 77.    28.    40.  ]\n",
      " [ 77.    70.    46.  ]\n",
      " [ 77.    20.    50.  ]\n",
      " [ 78.    75.    45.  ]\n",
      " [ 78.    17.    40.  ]\n",
      " [ 78.    73.    40.  ]\n",
      " [ 79.    32.    40.  ]\n",
      " [ 79.    41.    46.  ]\n",
      " [ 79.    26.    43.  ]\n",
      " [ 79.    27.    40.  ]\n",
      " [ 80.    16.    43.  ]\n",
      " [ 80.    63.    43.  ]\n",
      " [ 80.    25.    43.  ]\n",
      " [ 80.    36.    40.  ]\n",
      " [ 81.    20.    40.  ]\n",
      " [ 81.    43.    46.  ]\n",
      " [ 81.    58.    43.  ]\n",
      " [ 81.    20.    40.  ]\n",
      " [ 81.    35.    42.5 ]\n",
      " [ 81.    25.    40.  ]\n",
      " [ 81.    40.    40.  ]\n",
      " [ 81.    60.    42.  ]\n",
      " [ 81.    55.    41.  ]\n",
      " [ 81.    18.    40.  ]\n",
      " [ 81.    17.    35.5 ]\n",
      " [ 81.    69.    40.  ]\n",
      " [ 81.    25.    40.  ]\n",
      " [ 81.    17.    41.  ]\n",
      " [ 81.    50.    40.  ]\n",
      " [ 81.    28.    40.  ]\n",
      " [ 81.    19.    43.  ]\n",
      " [ 82.    50.    40.  ]\n",
      " [ 82.    70.    40.  ]\n",
      " [ 82.   100.    43.  ]\n",
      " [ 82.    19.    50.  ]\n",
      " [ 82.    17.    40.  ]\n",
      " [ 82.   133.    53.  ]\n",
      " [ 82.   100.    43.  ]\n",
      " [ 83.    28.    46.  ]\n",
      " [ 83.    42.    46.  ]\n",
      " [ 83.    70.    45.  ]\n",
      " [ 83.    35.    47.  ]\n",
      " [ 83.    65.    43.  ]\n",
      " [ 83.    60.    43.  ]\n",
      " [ 84.    25.    40.  ]\n",
      " [ 84.    47.    40.  ]\n",
      " [ 84.   100.    40.  ]\n",
      " [ 84.    43.    40.  ]\n",
      " [ 85.    34.    46.  ]\n",
      " [ 85.    68.    43.  ]\n",
      " [ 85.    98.    54.7 ]\n",
      " [ 85.    65.    50.  ]\n",
      " [ 85.   100.    47.5 ]\n",
      " [ 85.    39.    40.  ]\n",
      " [ 85.    95.    46.  ]\n",
      " [ 85.    36.    40.  ]\n",
      " [ 86.    61.    40.  ]\n",
      " [ 86.    24.    40.  ]\n",
      " [ 86.    43.    43.  ]\n",
      " [ 86.    43.    43.  ]\n",
      " [ 86.    20.    43.  ]\n",
      " [ 86.    24.    45.  ]\n",
      " [ 86.    40.    40.  ]\n",
      " [ 86.    49.    47.8 ]\n",
      " [ 87.    20.    45.  ]\n",
      " [ 87.    50.    40.  ]\n",
      " [ 87.    30.    45.  ]\n",
      " [ 87.    50.    43.  ]\n",
      " [ 87.    49.    47.  ]\n",
      " [ 87.    53.    50.  ]\n",
      " [ 87.    40.    45.  ]\n",
      " [ 88.    27.    45.  ]\n",
      " [ 88.    32.    40.  ]\n",
      " [ 88.    60.    40.  ]\n",
      " [ 88.   100.    43.  ]\n",
      " [ 88.    35.    40.  ]\n",
      " [ 88.    30.    40.  ]\n",
      " [ 88.    48.    43.  ]\n",
      " [ 88.    40.    40.  ]\n",
      " [ 88.    45.    46.  ]\n",
      " [ 88.    25.    42.  ]\n",
      " [ 88.    48.    40.  ]\n",
      " [ 88.    28.    50.  ]\n",
      " [ 88.    40.    40.  ]\n",
      " [ 88.    61.    46.  ]\n",
      " [ 88.    39.    43.  ]\n",
      " [ 88.    75.    47.  ]\n",
      " [ 88.    21.    50.  ]\n",
      " [ 88.    53.    43.  ]\n",
      " [ 88.   128.    43.  ]\n",
      " [ 88.    27.    45.  ]\n",
      " [ 88.    34.    45.  ]\n",
      " [ 88.    50.    47.  ]\n",
      " [ 88.   125.    50.  ]\n",
      " [ 89.    65.    43.  ]\n",
      " [ 89.    35.    40.  ]\n",
      " [ 89.    90.    47.  ]\n",
      " [ 90.   140.    40.  ]\n",
      " [ 90.    79.    43.  ]\n",
      " [ 90.    70.    43.  ]\n",
      " [ 90.    45.    43.  ]\n",
      " [ 90.    37.    54.1 ]\n",
      " [ 90.    70.    43.  ]\n",
      " [ 90.    55.    40.  ]\n",
      " [ 90.    90.    47.  ]\n",
      " [ 90.    29.    43.  ]\n",
      " [ 91.    64.    40.  ]\n",
      " [ 91.   132.    40.  ]\n",
      " [ 91.    75.    46.  ]\n",
      " [ 91.   120.    40.  ]\n",
      " [ 92.    67.    46.  ]\n",
      " [ 92.    94.    46.  ]\n",
      " [ 92.    70.    40.  ]\n",
      " [ 92.    40.    40.  ]\n",
      " [ 92.    47.    46.3 ]\n",
      " [ 92.    45.    40.  ]\n",
      " [ 92.    57.    45.  ]\n",
      " [ 92.   109.    43.  ]\n",
      " [ 92.    47.    48.  ]\n",
      " [ 93.    39.    40.  ]\n",
      " [ 93.   133.    40.  ]\n",
      " [ 93.    35.    45.  ]\n",
      " [ 93.    32.    45.  ]\n",
      " [ 94.   108.    46.3 ]\n",
      " [ 94.   107.    43.  ]\n",
      " [ 94.    60.    46.  ]\n",
      " [ 94.    93.    45.2 ]\n",
      " [ 94.    95.    40.  ]\n",
      " [ 94.   140.    44.  ]\n",
      " [ 94.   115.    46.  ]\n",
      " [ 94.    68.    45.82]\n",
      " [ 94.    80.    43.  ]\n",
      " [ 94.    45.    43.  ]\n",
      " [ 94.    42.    50.5 ]\n",
      " [ 95.   120.    46.  ]\n",
      " [ 95.    47.    40.  ]\n",
      " [ 95.    55.    46.  ]\n",
      " [ 96.    70.    45.  ]\n",
      " [ 96.    50.    50.05]\n",
      " [ 96.    80.    46.2 ]\n",
      " [ 96.    84.    46.  ]\n",
      " [ 96.    65.    50.  ]\n",
      " [ 96.    30.    47.5 ]\n",
      " [ 96.    43.    40.  ]\n",
      " [ 96.    89.    43.  ]\n",
      " [ 96.    62.    46.  ]\n",
      " [ 96.    73.    43.  ]\n",
      " [ 96.    30.    40.  ]\n",
      " [ 96.    79.    43.  ]\n",
      " [ 96.    43.    46.3 ]\n",
      " [ 96.    54.    40.  ]\n",
      " [ 96.    48.    43.  ]\n",
      " [ 96.    25.    40.  ]\n",
      " [ 96.    30.    40.  ]\n",
      " [ 96.    40.    40.  ]\n",
      " [ 96.    65.    48.  ]\n",
      " [ 96.    64.    40.  ]\n",
      " [ 96.    40.    46.  ]\n",
      " [ 97.   123.    40.  ]\n",
      " [ 99.    35.    40.  ]\n",
      " [ 99.   120.    43.  ]\n",
      " [ 99.    42.    40.  ]\n",
      " [ 99.    80.    46.  ]\n",
      " [ 99.    92.    46.3 ]\n",
      " [ 99.   107.    48.  ]\n",
      " [ 99.    45.    40.  ]\n",
      " [ 99.   100.    43.  ]\n",
      " [ 99.    60.    43.  ]\n",
      " [ 99.    70.    43.  ]\n",
      " [ 99.    50.    40.  ]\n",
      " [ 99.    45.    40.  ]\n",
      " [ 99.    45.    48.  ]\n",
      " [ 99.    70.    43.  ]\n",
      " [ 99.    11.    40.  ]\n",
      " [ 99.    58.    53.5 ]\n",
      " [ 99.    80.    54.2 ]\n",
      " [100.    72.    46.  ]]\n"
     ]
    },
    {
     "name": "stderr",
     "output_type": "stream",
     "text": [
      "C:\\Anaconda3\\lib\\site-packages\\ipykernel_launcher.py:3: DeprecationWarning: using a non-integer array as obj in delete will result in an error in the future\n",
      "  This is separate from the ipykernel package so we can avoid doing imports until\n"
     ]
    }
   ],
   "source": [
    "idx = all_out(data)\n",
    "print(len(idx),idx)\n",
    "data = np.delete(data, idx, axis=0)\n",
    "print(data.shape)\n",
    "print(data)"
   ]
  },
  {
   "cell_type": "markdown",
   "metadata": {},
   "source": [
    "# Convert to MinMax normalization"
   ]
  },
  {
   "cell_type": "code",
   "execution_count": 95,
   "metadata": {},
   "outputs": [
    {
     "name": "stdout",
     "output_type": "stream",
     "text": [
      "[[0.         0.14728682 0.234375  ]\n",
      " [0.         0.06976744 0.234375  ]\n",
      " [0.02777778 0.10077519 0.234375  ]\n",
      " [0.02777778 0.10852713 0.234375  ]\n",
      " [0.08333333 0.18604651 0.234375  ]\n",
      " [0.08333333 0.30232558 0.390625  ]\n",
      " [0.08333333 0.37984496 0.234375  ]\n",
      " [0.08333333 0.41860465 0.234375  ]\n",
      " [0.08333333 0.02325581 0.234375  ]\n",
      " [0.11111111 0.10852713 0.234375  ]\n",
      " [0.11111111 0.00775194 0.234375  ]\n",
      " [0.13888889 0.09302326 0.234375  ]\n",
      " [0.13888889 0.09302326 0.234375  ]\n",
      " [0.13888889 0.03100775 0.234375  ]\n",
      " [0.13888889 0.12403101 0.49479167]\n",
      " [0.13888889 0.06976744 0.234375  ]\n",
      " [0.16666667 0.26356589 0.390625  ]\n",
      " [0.16666667 0.11627907 0.234375  ]\n",
      " [0.19444444 0.12403101 0.234375  ]\n",
      " [0.19444444 0.30232558 0.390625  ]\n",
      " [0.22222222 0.28682171 0.546875  ]\n",
      " [0.25       0.56589147 0.234375  ]\n",
      " [0.25       0.6124031  0.234375  ]\n",
      " [0.27777778 0.6124031  0.546875  ]\n",
      " [0.27777778 0.2248062  0.234375  ]\n",
      " [0.27777778 0.30232558 0.49479167]\n",
      " [0.27777778 0.36434109 0.234375  ]\n",
      " [0.30555556 0.57364341 0.390625  ]\n",
      " [0.33333333 0.27131783 0.49479167]\n",
      " [0.33333333 0.20930233 0.91145833]\n",
      " [0.33333333 0.19379845 0.546875  ]\n",
      " [0.33333333 0.45736434 0.546875  ]\n",
      " [0.33333333 0.03875969 0.234375  ]\n",
      " [0.33333333 0.26356589 0.234375  ]\n",
      " [0.36111111 0.13178295 0.234375  ]\n",
      " [0.36111111 0.45736434 0.546875  ]\n",
      " [0.36111111 0.06976744 0.75520833]\n",
      " [0.38888889 0.49612403 0.49479167]\n",
      " [0.38888889 0.04651163 0.234375  ]\n",
      " [0.38888889 0.48062016 0.234375  ]\n",
      " [0.41666667 0.1627907  0.234375  ]\n",
      " [0.41666667 0.23255814 0.546875  ]\n",
      " [0.41666667 0.11627907 0.390625  ]\n",
      " [0.41666667 0.12403101 0.234375  ]\n",
      " [0.44444444 0.03875969 0.390625  ]\n",
      " [0.44444444 0.40310078 0.390625  ]\n",
      " [0.44444444 0.10852713 0.390625  ]\n",
      " [0.44444444 0.19379845 0.234375  ]\n",
      " [0.47222222 0.06976744 0.234375  ]\n",
      " [0.47222222 0.24806202 0.546875  ]\n",
      " [0.47222222 0.36434109 0.390625  ]\n",
      " [0.47222222 0.06976744 0.234375  ]\n",
      " [0.47222222 0.18604651 0.36458333]\n",
      " [0.47222222 0.10852713 0.234375  ]\n",
      " [0.47222222 0.2248062  0.234375  ]\n",
      " [0.47222222 0.37984496 0.33854167]\n",
      " [0.47222222 0.34108527 0.28645833]\n",
      " [0.47222222 0.05426357 0.234375  ]\n",
      " [0.47222222 0.04651163 0.        ]\n",
      " [0.47222222 0.4496124  0.234375  ]\n",
      " [0.47222222 0.10852713 0.234375  ]\n",
      " [0.47222222 0.04651163 0.28645833]\n",
      " [0.47222222 0.30232558 0.234375  ]\n",
      " [0.47222222 0.13178295 0.234375  ]\n",
      " [0.47222222 0.0620155  0.390625  ]\n",
      " [0.5        0.30232558 0.234375  ]\n",
      " [0.5        0.45736434 0.234375  ]\n",
      " [0.5        0.68992248 0.390625  ]\n",
      " [0.5        0.0620155  0.75520833]\n",
      " [0.5        0.04651163 0.234375  ]\n",
      " [0.5        0.94573643 0.91145833]\n",
      " [0.5        0.68992248 0.390625  ]\n",
      " [0.52777778 0.13178295 0.546875  ]\n",
      " [0.52777778 0.24031008 0.546875  ]\n",
      " [0.52777778 0.45736434 0.49479167]\n",
      " [0.52777778 0.18604651 0.59895833]\n",
      " [0.52777778 0.41860465 0.390625  ]\n",
      " [0.52777778 0.37984496 0.390625  ]\n",
      " [0.55555556 0.10852713 0.234375  ]\n",
      " [0.55555556 0.27906977 0.234375  ]\n",
      " [0.55555556 0.68992248 0.234375  ]\n",
      " [0.55555556 0.24806202 0.234375  ]\n",
      " [0.58333333 0.17829457 0.546875  ]\n",
      " [0.58333333 0.44186047 0.390625  ]\n",
      " [0.58333333 0.6744186  1.        ]\n",
      " [0.58333333 0.41860465 0.75520833]\n",
      " [0.58333333 0.68992248 0.625     ]\n",
      " [0.58333333 0.21705426 0.234375  ]\n",
      " [0.58333333 0.65116279 0.546875  ]\n",
      " [0.58333333 0.19379845 0.234375  ]\n",
      " [0.61111111 0.3875969  0.234375  ]\n",
      " [0.61111111 0.10077519 0.234375  ]\n",
      " [0.61111111 0.24806202 0.390625  ]\n",
      " [0.61111111 0.24806202 0.390625  ]\n",
      " [0.61111111 0.06976744 0.390625  ]\n",
      " [0.61111111 0.10077519 0.49479167]\n",
      " [0.61111111 0.2248062  0.234375  ]\n",
      " [0.61111111 0.29457364 0.640625  ]\n",
      " [0.63888889 0.06976744 0.49479167]\n",
      " [0.63888889 0.30232558 0.234375  ]\n",
      " [0.63888889 0.14728682 0.49479167]\n",
      " [0.63888889 0.30232558 0.390625  ]\n",
      " [0.63888889 0.29457364 0.59895833]\n",
      " [0.63888889 0.3255814  0.75520833]\n",
      " [0.63888889 0.2248062  0.49479167]\n",
      " [0.66666667 0.12403101 0.49479167]\n",
      " [0.66666667 0.1627907  0.234375  ]\n",
      " [0.66666667 0.37984496 0.234375  ]\n",
      " [0.66666667 0.68992248 0.390625  ]\n",
      " [0.66666667 0.18604651 0.234375  ]\n",
      " [0.66666667 0.14728682 0.234375  ]\n",
      " [0.66666667 0.28682171 0.390625  ]\n",
      " [0.66666667 0.2248062  0.234375  ]\n",
      " [0.66666667 0.26356589 0.546875  ]\n",
      " [0.66666667 0.10852713 0.33854167]\n",
      " [0.66666667 0.28682171 0.234375  ]\n",
      " [0.66666667 0.13178295 0.75520833]\n",
      " [0.66666667 0.2248062  0.234375  ]\n",
      " [0.66666667 0.3875969  0.546875  ]\n",
      " [0.66666667 0.21705426 0.390625  ]\n",
      " [0.66666667 0.49612403 0.59895833]\n",
      " [0.66666667 0.07751938 0.75520833]\n",
      " [0.66666667 0.3255814  0.390625  ]\n",
      " [0.66666667 0.90697674 0.390625  ]\n",
      " [0.66666667 0.12403101 0.49479167]\n",
      " [0.66666667 0.17829457 0.49479167]\n",
      " [0.66666667 0.30232558 0.59895833]\n",
      " [0.66666667 0.88372093 0.75520833]\n",
      " [0.69444444 0.41860465 0.390625  ]\n",
      " [0.69444444 0.18604651 0.234375  ]\n",
      " [0.69444444 0.6124031  0.59895833]\n",
      " [0.72222222 1.         0.234375  ]\n",
      " [0.72222222 0.52713178 0.390625  ]\n",
      " [0.72222222 0.45736434 0.390625  ]\n",
      " [0.72222222 0.26356589 0.390625  ]\n",
      " [0.72222222 0.20155039 0.96875   ]\n",
      " [0.72222222 0.45736434 0.390625  ]\n",
      " [0.72222222 0.34108527 0.234375  ]\n",
      " [0.72222222 0.6124031  0.59895833]\n",
      " [0.72222222 0.13953488 0.390625  ]\n",
      " [0.75       0.41085271 0.234375  ]\n",
      " [0.75       0.9379845  0.234375  ]\n",
      " [0.75       0.49612403 0.546875  ]\n",
      " [0.75       0.84496124 0.234375  ]\n",
      " [0.77777778 0.43410853 0.546875  ]\n",
      " [0.77777778 0.64341085 0.546875  ]\n",
      " [0.77777778 0.45736434 0.234375  ]\n",
      " [0.77777778 0.2248062  0.234375  ]\n",
      " [0.77777778 0.27906977 0.5625    ]\n",
      " [0.77777778 0.26356589 0.234375  ]\n",
      " [0.77777778 0.35658915 0.49479167]\n",
      " [0.77777778 0.75968992 0.390625  ]\n",
      " [0.77777778 0.27906977 0.65104167]\n",
      " [0.80555556 0.21705426 0.234375  ]\n",
      " [0.80555556 0.94573643 0.234375  ]\n",
      " [0.80555556 0.18604651 0.49479167]\n",
      " [0.80555556 0.1627907  0.49479167]\n",
      " [0.83333333 0.75193798 0.5625    ]\n",
      " [0.83333333 0.74418605 0.390625  ]\n",
      " [0.83333333 0.37984496 0.546875  ]\n",
      " [0.83333333 0.63565891 0.50520833]\n",
      " [0.83333333 0.65116279 0.234375  ]\n",
      " [0.83333333 1.         0.44270833]\n",
      " [0.83333333 0.80620155 0.546875  ]\n",
      " [0.83333333 0.44186047 0.5375    ]\n",
      " [0.83333333 0.53488372 0.390625  ]\n",
      " [0.83333333 0.26356589 0.390625  ]\n",
      " [0.83333333 0.24031008 0.78125   ]\n",
      " [0.86111111 0.84496124 0.546875  ]\n",
      " [0.86111111 0.27906977 0.234375  ]\n",
      " [0.86111111 0.34108527 0.546875  ]\n",
      " [0.88888889 0.45736434 0.49479167]\n",
      " [0.88888889 0.30232558 0.7578125 ]\n",
      " [0.88888889 0.53488372 0.55729167]\n",
      " [0.88888889 0.56589147 0.546875  ]\n",
      " [0.88888889 0.41860465 0.75520833]\n",
      " [0.88888889 0.14728682 0.625     ]\n",
      " [0.88888889 0.24806202 0.234375  ]\n",
      " [0.88888889 0.60465116 0.390625  ]\n",
      " [0.88888889 0.39534884 0.546875  ]\n",
      " [0.88888889 0.48062016 0.390625  ]\n",
      " [0.88888889 0.14728682 0.234375  ]\n",
      " [0.88888889 0.52713178 0.390625  ]\n",
      " [0.88888889 0.24806202 0.5625    ]\n",
      " [0.88888889 0.33333333 0.234375  ]\n",
      " [0.88888889 0.28682171 0.390625  ]\n",
      " [0.88888889 0.10852713 0.234375  ]\n",
      " [0.88888889 0.14728682 0.234375  ]\n",
      " [0.88888889 0.2248062  0.234375  ]\n",
      " [0.88888889 0.41860465 0.65104167]\n",
      " [0.88888889 0.41085271 0.234375  ]\n",
      " [0.88888889 0.2248062  0.546875  ]\n",
      " [0.91666667 0.86821705 0.234375  ]\n",
      " [0.97222222 0.18604651 0.234375  ]\n",
      " [0.97222222 0.84496124 0.390625  ]\n",
      " [0.97222222 0.24031008 0.234375  ]\n",
      " [0.97222222 0.53488372 0.546875  ]\n",
      " [0.97222222 0.62790698 0.5625    ]\n",
      " [0.97222222 0.74418605 0.65104167]\n",
      " [0.97222222 0.26356589 0.234375  ]\n",
      " [0.97222222 0.68992248 0.390625  ]\n",
      " [0.97222222 0.37984496 0.390625  ]\n",
      " [0.97222222 0.45736434 0.390625  ]\n",
      " [0.97222222 0.30232558 0.234375  ]\n",
      " [0.97222222 0.26356589 0.234375  ]\n",
      " [0.97222222 0.26356589 0.65104167]\n",
      " [0.97222222 0.45736434 0.390625  ]\n",
      " [0.97222222 0.         0.234375  ]\n",
      " [0.97222222 0.36434109 0.9375    ]\n",
      " [0.97222222 0.53488372 0.97395833]\n",
      " [1.         0.47286822 0.546875  ]]\n"
     ]
    }
   ],
   "source": [
    "data = MinMaxScaler().fit_transform(data)\n",
    "print(data)"
   ]
  },
  {
   "cell_type": "code",
   "execution_count": 96,
   "metadata": {},
   "outputs": [],
   "source": [
    "label = np.array(['low' if d <= 1/3  else 'medium' if d <= 2/3 else 'high' for d in data[:,0]]) # Convert rating to low medium high"
   ]
  },
  {
   "cell_type": "code",
   "execution_count": 99,
   "metadata": {},
   "outputs": [],
   "source": [
    "\"\"\"wk = pd.DataFrame(data={\"Price\":(data[:,1]),\n",
    "                        \"ABV\":(data[:,2]),\n",
    "                         \"Rating\":(label)})\"\"\"\n",
    "\n",
    "wk = pd.DataFrame(data={\"Price\":(data[:,1]),\n",
    "                        \"ABV\":(data[:,2]),\n",
    "                         \"Rating\":(data[:,0])})"
   ]
  },
  {
   "cell_type": "markdown",
   "metadata": {},
   "source": [
    "# Plot before Clustering"
   ]
  },
  {
   "cell_type": "code",
   "execution_count": 109,
   "metadata": {
    "scrolled": true
   },
   "outputs": [
    {
     "data": {
      "text/plain": [
       "Text(0,0.5,'Rating')"
      ]
     },
     "execution_count": 109,
     "metadata": {},
     "output_type": "execute_result"
    },
    {
     "data": {
      "image/png": "[encoded data removed]",
      "text/plain": [
       "<Figure size 432x288 with 1 Axes>"
      ]
     },
     "metadata": {
      "needs_background": "light"
     },
     "output_type": "display_data"
    }
   ],
   "source": [
    "f1 = wk['Price'].values\n",
    "f2 = wk['Rating'].values\n",
    "X = np.array(list(zip(f1, f2)))\n",
    "plt.scatter(f1,f2,c='black', s=7)\n",
    "plt.xlabel('Price')\n",
    "plt.ylabel('Rating')"
   ]
  },
  {
   "cell_type": "code",
   "execution_count": 110,
   "metadata": {},
   "outputs": [
    {
     "data": {
      "text/plain": [
       "Text(0,0.5,'Rating')"
      ]
     },
     "execution_count": 110,
     "metadata": {},
     "output_type": "execute_result"
    },
    {
     "data": {
      "image/png": "[encoded data removed]",
      "text/plain": [
       "<Figure size 432x288 with 1 Axes>"
      ]
     },
     "metadata": {
      "needs_background": "light"
     },
     "output_type": "display_data"
    }
   ],
   "source": [
    "f1 = wk['ABV'].values\n",
    "f2 = wk['Rating'].values\n",
    "X = np.array(list(zip(f1, f2)))\n",
    "plt.scatter(f1,f2,c='black', s=7)\n",
    "plt.xlabel('ABV')\n",
    "plt.ylabel('Rating')"
   ]
  },
  {
   "cell_type": "markdown",
   "metadata": {},
   "source": [
    "# Use K-means Algorithm"
   ]
  },
  {
   "cell_type": "markdown",
   "metadata": {},
   "source": [
    "# Workflow 1"
   ]
  },
  {
   "cell_type": "code",
   "execution_count": 102,
   "metadata": {},
   "outputs": [],
   "source": [
    "def Kmeans(number, attribute):\n",
    "    k = KMeans(n_clusters=number)\n",
    "    #k.fit(wk.drop('Rating',axis=1))\n",
    "    k.fit(wk[[attribute, 'Rating']])\n",
    "    print('Centroid =',k.cluster_centers_)\n",
    "    k.labels_\n",
    "    plt.scatter(wk[attribute].values,wk['Rating'].values, c=k.labels_, cmap='rainbow')\n",
    "    plt.scatter(k.cluster_centers_[:,0] ,k.cluster_centers_[:,1], marker='*', c='black', s=150)\n",
    "    plt.xlabel(attribute)\n",
    "    plt.ylabel('Rating')\n",
    "    \n",
    "    return k"
   ]
  },
  {
   "cell_type": "code",
   "execution_count": 121,
   "metadata": {},
   "outputs": [
    {
     "name": "stdout",
     "output_type": "stream",
     "text": [
      "Centroid = [[0.21406728 0.42889908]\n",
      " [0.47043624 0.80528322]]\n"
     ]
    },
    {
     "data": {
      "image/png": "[encoded data removed]",
      "text/plain": [
       "<Figure size 432x288 with 1 Axes>"
      ]
     },
     "metadata": {
      "needs_background": "light"
     },
     "output_type": "display_data"
    }
   ],
   "source": [
    "k2price = Kmeans(2,'Price')"
   ]
  },
  {
   "cell_type": "code",
   "execution_count": 122,
   "metadata": {},
   "outputs": [
    {
     "name": "stdout",
     "output_type": "stream",
     "text": [
      "Centroid = [[0.2803876  0.7525    ]\n",
      " [0.21694807 0.33028919]\n",
      " [0.72215422 0.77704678]]\n"
     ]
    },
    {
     "data": {
      "image/png": "[encoded data removed]",
      "text/plain": [
       "<Figure size 432x288 with 1 Axes>"
      ]
     },
     "metadata": {
      "needs_background": "light"
     },
     "output_type": "display_data"
    }
   ],
   "source": [
    "k3price = Kmeans(3,'Price')"
   ]
  },
  {
   "cell_type": "code",
   "execution_count": 123,
   "metadata": {},
   "outputs": [
    {
     "name": "stdout",
     "output_type": "stream",
     "text": [
      "Centroid = [[0.34396099 0.85439068]\n",
      " [0.24826078 0.20797721]\n",
      " [0.21047984 0.5625879 ]\n",
      " [0.76394099 0.75358423]]\n"
     ]
    },
    {
     "data": {
      "image/png": "[encoded data removed]",
      "text/plain": [
       "<Figure size 432x288 with 1 Axes>"
      ]
     },
     "metadata": {
      "needs_background": "light"
     },
     "output_type": "display_data"
    }
   ],
   "source": [
    "k4price = Kmeans(4,\"Price\")"
   ]
  },
  {
   "cell_type": "code",
   "execution_count": 124,
   "metadata": {},
   "outputs": [
    {
     "name": "stdout",
     "output_type": "stream",
     "text": [
      "Centroid = [[0.45377898 0.76670844]\n",
      " [0.32051282 0.34508547]]\n"
     ]
    },
    {
     "data": {
      "image/png": "[encoded data removed]",
      "text/plain": [
       "<Figure size 432x288 with 1 Axes>"
      ]
     },
     "metadata": {
      "needs_background": "light"
     },
     "output_type": "display_data"
    }
   ],
   "source": [
    "k2abv = Kmeans(2,\"ABV\")"
   ]
  },
  {
   "cell_type": "code",
   "execution_count": 125,
   "metadata": {},
   "outputs": [
    {
     "name": "stdout",
     "output_type": "stream",
     "text": [
      "Centroid = [[0.29895833 0.76555556]\n",
      " [0.30985809 0.32407407]\n",
      " [0.62015703 0.73300166]]\n"
     ]
    },
    {
     "data": {
      "image/png": "[encoded data removed]",
      "text/plain": [
       "<Figure size 432x288 with 1 Axes>"
      ]
     },
     "metadata": {
      "needs_background": "light"
     },
     "output_type": "display_data"
    }
   ],
   "source": [
    "k3abv = Kmeans(3,\"ABV\")"
   ]
  },
  {
   "cell_type": "code",
   "execution_count": 126,
   "metadata": {},
   "outputs": [
    {
     "name": "stdout",
     "output_type": "stream",
     "text": [
      "Centroid = [[0.30356032 0.53814262]\n",
      " [0.62521973 0.73784722]\n",
      " [0.32169118 0.18464052]\n",
      " [0.30570652 0.85507246]]\n"
     ]
    },
    {
     "data": {
      "image/png": "[encoded data removed]",
      "text/plain": [
       "<Figure size 432x288 with 1 Axes>"
      ]
     },
     "metadata": {
      "needs_background": "light"
     },
     "output_type": "display_data"
    }
   ],
   "source": [
    "k4abv = Kmeans(4,\"ABV\")"
   ]
  },
  {
   "cell_type": "markdown",
   "metadata": {},
   "source": [
    "# Use Elbow Method for selecting the optimal number of cluster"
   ]
  },
  {
   "cell_type": "code",
   "execution_count": 114,
   "metadata": {},
   "outputs": [],
   "source": [
    "def elbow_method(attribute):\n",
    "    Sum_of_squared_distances = []\n",
    "    K = range(1,15)\n",
    "    for k in K:\n",
    "        km = KMeans(n_clusters=k)\n",
    "        km.fit(wk[[attribute, 'Rating']])\n",
    "        Sum_of_squared_distances.append(km.inertia_)\n",
    "        \n",
    "    plt.plot(K, Sum_of_squared_distances, 'bx-')\n",
    "    plt.xlabel('k')\n",
    "    plt.ylabel('Sum_of_squared_distances')\n",
    "    plt.title('Elbow Method For Optimal k')\n",
    "    plt.show()\n"
   ]
  },
  {
   "cell_type": "code",
   "execution_count": 115,
   "metadata": {},
   "outputs": [
    {
     "data": {
      "image/png": "[encoded data removed]",
      "text/plain": [
       "<Figure size 432x288 with 1 Axes>"
      ]
     },
     "metadata": {
      "needs_background": "light"
     },
     "output_type": "display_data"
    }
   ],
   "source": [
    "elbow_method('ABV')"
   ]
  },
  {
   "cell_type": "code",
   "execution_count": 116,
   "metadata": {},
   "outputs": [
    {
     "data": {
      "image/png": "[encoded data removed]",
      "text/plain": [
       "<Figure size 432x288 with 1 Axes>"
      ]
     },
     "metadata": {
      "needs_background": "light"
     },
     "output_type": "display_data"
    }
   ],
   "source": [
    "elbow_method('Price')"
   ]
  },
  {
   "cell_type": "code",
   "execution_count": null,
   "metadata": {},
   "outputs": [],
   "source": [
    "\"\"\"\n",
    "Sum_of_squared_distances = []\n",
    "K = range(1,15)\n",
    "for k in K:\n",
    "    km = KMeans(n_clusters=k)\n",
    "    km = km.fit(wk.drop('Rating',axis=1))\n",
    "    Sum_of_squared_distances.append(km.inertia_)\"\"\""
   ]
  },
  {
   "cell_type": "code",
   "execution_count": null,
   "metadata": {},
   "outputs": [],
   "source": [
    "\"\"\"plt.plot(K, Sum_of_squared_distances, 'bx-')\n",
    "plt.xlabel('k')\n",
    "plt.ylabel('Sum_of_squared_distances')\n",
    "plt.title('Elbow Method For Optimal k')\n",
    "plt.show()\"\"\""
   ]
  },
  {
   "cell_type": "markdown",
   "metadata": {},
   "source": [
    "# The best number of cluster is 3"
   ]
  },
  {
   "cell_type": "markdown",
   "metadata": {},
   "source": [
    "# Workflow 2"
   ]
  },
  {
   "cell_type": "code",
   "execution_count": 117,
   "metadata": {},
   "outputs": [],
   "source": [
    "def converter(cluster):\n",
    "    if cluster=='low':\n",
    "        return 0\n",
    "    elif cluster=='medium':\n",
    "        return 1\n",
    "    else:\n",
    "        return 2"
   ]
  },
  {
   "cell_type": "code",
   "execution_count": 118,
   "metadata": {},
   "outputs": [],
   "source": [
    "label = np.array(['low' if d <= 1/3  else 'medium' if d <= 2/3 else 'high' for d in data[:,0]]) # Convert rating to low medium high"
   ]
  },
  {
   "cell_type": "code",
   "execution_count": 119,
   "metadata": {},
   "outputs": [
    {
     "data": {
      "text/html": [
       "<div>\n",
       "<style scoped>\n",
       "    .dataframe tbody tr th:only-of-type {\n",
       "        vertical-align: middle;\n",
       "    }\n",
       "\n",
       "    .dataframe tbody tr th {\n",
       "        vertical-align: top;\n",
       "    }\n",
       "\n",
       "    .dataframe thead th {\n",
       "        text-align: right;\n",
       "    }\n",
       "</style>\n",
       "<table border=\"1\" class=\"dataframe\">\n",
       "  <thead>\n",
       "    <tr style=\"text-align: right;\">\n",
       "      <th></th>\n",
       "      <th>Price</th>\n",
       "      <th>ABV</th>\n",
       "      <th>Rating</th>\n",
       "    </tr>\n",
       "  </thead>\n",
       "  <tbody>\n",
       "    <tr>\n",
       "      <th>0</th>\n",
       "      <td>0.147287</td>\n",
       "      <td>0.234375</td>\n",
       "      <td>0.000000</td>\n",
       "    </tr>\n",
       "    <tr>\n",
       "      <th>1</th>\n",
       "      <td>0.069767</td>\n",
       "      <td>0.234375</td>\n",
       "      <td>0.000000</td>\n",
       "    </tr>\n",
       "    <tr>\n",
       "      <th>2</th>\n",
       "      <td>0.100775</td>\n",
       "      <td>0.234375</td>\n",
       "      <td>0.027778</td>\n",
       "    </tr>\n",
       "    <tr>\n",
       "      <th>3</th>\n",
       "      <td>0.108527</td>\n",
       "      <td>0.234375</td>\n",
       "      <td>0.027778</td>\n",
       "    </tr>\n",
       "    <tr>\n",
       "      <th>4</th>\n",
       "      <td>0.186047</td>\n",
       "      <td>0.234375</td>\n",
       "      <td>0.083333</td>\n",
       "    </tr>\n",
       "    <tr>\n",
       "      <th>5</th>\n",
       "      <td>0.302326</td>\n",
       "      <td>0.390625</td>\n",
       "      <td>0.083333</td>\n",
       "    </tr>\n",
       "    <tr>\n",
       "      <th>6</th>\n",
       "      <td>0.379845</td>\n",
       "      <td>0.234375</td>\n",
       "      <td>0.083333</td>\n",
       "    </tr>\n",
       "    <tr>\n",
       "      <th>7</th>\n",
       "      <td>0.418605</td>\n",
       "      <td>0.234375</td>\n",
       "      <td>0.083333</td>\n",
       "    </tr>\n",
       "    <tr>\n",
       "      <th>8</th>\n",
       "      <td>0.023256</td>\n",
       "      <td>0.234375</td>\n",
       "      <td>0.083333</td>\n",
       "    </tr>\n",
       "    <tr>\n",
       "      <th>9</th>\n",
       "      <td>0.108527</td>\n",
       "      <td>0.234375</td>\n",
       "      <td>0.111111</td>\n",
       "    </tr>\n",
       "    <tr>\n",
       "      <th>10</th>\n",
       "      <td>0.007752</td>\n",
       "      <td>0.234375</td>\n",
       "      <td>0.111111</td>\n",
       "    </tr>\n",
       "    <tr>\n",
       "      <th>11</th>\n",
       "      <td>0.093023</td>\n",
       "      <td>0.234375</td>\n",
       "      <td>0.138889</td>\n",
       "    </tr>\n",
       "    <tr>\n",
       "      <th>12</th>\n",
       "      <td>0.093023</td>\n",
       "      <td>0.234375</td>\n",
       "      <td>0.138889</td>\n",
       "    </tr>\n",
       "    <tr>\n",
       "      <th>13</th>\n",
       "      <td>0.031008</td>\n",
       "      <td>0.234375</td>\n",
       "      <td>0.138889</td>\n",
       "    </tr>\n",
       "    <tr>\n",
       "      <th>14</th>\n",
       "      <td>0.124031</td>\n",
       "      <td>0.494792</td>\n",
       "      <td>0.138889</td>\n",
       "    </tr>\n",
       "    <tr>\n",
       "      <th>15</th>\n",
       "      <td>0.069767</td>\n",
       "      <td>0.234375</td>\n",
       "      <td>0.138889</td>\n",
       "    </tr>\n",
       "    <tr>\n",
       "      <th>16</th>\n",
       "      <td>0.263566</td>\n",
       "      <td>0.390625</td>\n",
       "      <td>0.166667</td>\n",
       "    </tr>\n",
       "    <tr>\n",
       "      <th>17</th>\n",
       "      <td>0.116279</td>\n",
       "      <td>0.234375</td>\n",
       "      <td>0.166667</td>\n",
       "    </tr>\n",
       "    <tr>\n",
       "      <th>18</th>\n",
       "      <td>0.124031</td>\n",
       "      <td>0.234375</td>\n",
       "      <td>0.194444</td>\n",
       "    </tr>\n",
       "    <tr>\n",
       "      <th>19</th>\n",
       "      <td>0.302326</td>\n",
       "      <td>0.390625</td>\n",
       "      <td>0.194444</td>\n",
       "    </tr>\n",
       "    <tr>\n",
       "      <th>20</th>\n",
       "      <td>0.286822</td>\n",
       "      <td>0.546875</td>\n",
       "      <td>0.222222</td>\n",
       "    </tr>\n",
       "    <tr>\n",
       "      <th>21</th>\n",
       "      <td>0.565891</td>\n",
       "      <td>0.234375</td>\n",
       "      <td>0.250000</td>\n",
       "    </tr>\n",
       "    <tr>\n",
       "      <th>22</th>\n",
       "      <td>0.612403</td>\n",
       "      <td>0.234375</td>\n",
       "      <td>0.250000</td>\n",
       "    </tr>\n",
       "    <tr>\n",
       "      <th>23</th>\n",
       "      <td>0.612403</td>\n",
       "      <td>0.546875</td>\n",
       "      <td>0.277778</td>\n",
       "    </tr>\n",
       "    <tr>\n",
       "      <th>24</th>\n",
       "      <td>0.224806</td>\n",
       "      <td>0.234375</td>\n",
       "      <td>0.277778</td>\n",
       "    </tr>\n",
       "    <tr>\n",
       "      <th>25</th>\n",
       "      <td>0.302326</td>\n",
       "      <td>0.494792</td>\n",
       "      <td>0.277778</td>\n",
       "    </tr>\n",
       "    <tr>\n",
       "      <th>26</th>\n",
       "      <td>0.364341</td>\n",
       "      <td>0.234375</td>\n",
       "      <td>0.277778</td>\n",
       "    </tr>\n",
       "    <tr>\n",
       "      <th>27</th>\n",
       "      <td>0.573643</td>\n",
       "      <td>0.390625</td>\n",
       "      <td>0.305556</td>\n",
       "    </tr>\n",
       "    <tr>\n",
       "      <th>28</th>\n",
       "      <td>0.271318</td>\n",
       "      <td>0.494792</td>\n",
       "      <td>0.333333</td>\n",
       "    </tr>\n",
       "    <tr>\n",
       "      <th>29</th>\n",
       "      <td>0.209302</td>\n",
       "      <td>0.911458</td>\n",
       "      <td>0.333333</td>\n",
       "    </tr>\n",
       "    <tr>\n",
       "      <th>...</th>\n",
       "      <td>...</td>\n",
       "      <td>...</td>\n",
       "      <td>...</td>\n",
       "    </tr>\n",
       "    <tr>\n",
       "      <th>181</th>\n",
       "      <td>0.147287</td>\n",
       "      <td>0.234375</td>\n",
       "      <td>0.888889</td>\n",
       "    </tr>\n",
       "    <tr>\n",
       "      <th>182</th>\n",
       "      <td>0.527132</td>\n",
       "      <td>0.390625</td>\n",
       "      <td>0.888889</td>\n",
       "    </tr>\n",
       "    <tr>\n",
       "      <th>183</th>\n",
       "      <td>0.248062</td>\n",
       "      <td>0.562500</td>\n",
       "      <td>0.888889</td>\n",
       "    </tr>\n",
       "    <tr>\n",
       "      <th>184</th>\n",
       "      <td>0.333333</td>\n",
       "      <td>0.234375</td>\n",
       "      <td>0.888889</td>\n",
       "    </tr>\n",
       "    <tr>\n",
       "      <th>185</th>\n",
       "      <td>0.286822</td>\n",
       "      <td>0.390625</td>\n",
       "      <td>0.888889</td>\n",
       "    </tr>\n",
       "    <tr>\n",
       "      <th>186</th>\n",
       "      <td>0.108527</td>\n",
       "      <td>0.234375</td>\n",
       "      <td>0.888889</td>\n",
       "    </tr>\n",
       "    <tr>\n",
       "      <th>187</th>\n",
       "      <td>0.147287</td>\n",
       "      <td>0.234375</td>\n",
       "      <td>0.888889</td>\n",
       "    </tr>\n",
       "    <tr>\n",
       "      <th>188</th>\n",
       "      <td>0.224806</td>\n",
       "      <td>0.234375</td>\n",
       "      <td>0.888889</td>\n",
       "    </tr>\n",
       "    <tr>\n",
       "      <th>189</th>\n",
       "      <td>0.418605</td>\n",
       "      <td>0.651042</td>\n",
       "      <td>0.888889</td>\n",
       "    </tr>\n",
       "    <tr>\n",
       "      <th>190</th>\n",
       "      <td>0.410853</td>\n",
       "      <td>0.234375</td>\n",
       "      <td>0.888889</td>\n",
       "    </tr>\n",
       "    <tr>\n",
       "      <th>191</th>\n",
       "      <td>0.224806</td>\n",
       "      <td>0.546875</td>\n",
       "      <td>0.888889</td>\n",
       "    </tr>\n",
       "    <tr>\n",
       "      <th>192</th>\n",
       "      <td>0.868217</td>\n",
       "      <td>0.234375</td>\n",
       "      <td>0.916667</td>\n",
       "    </tr>\n",
       "    <tr>\n",
       "      <th>193</th>\n",
       "      <td>0.186047</td>\n",
       "      <td>0.234375</td>\n",
       "      <td>0.972222</td>\n",
       "    </tr>\n",
       "    <tr>\n",
       "      <th>194</th>\n",
       "      <td>0.844961</td>\n",
       "      <td>0.390625</td>\n",
       "      <td>0.972222</td>\n",
       "    </tr>\n",
       "    <tr>\n",
       "      <th>195</th>\n",
       "      <td>0.240310</td>\n",
       "      <td>0.234375</td>\n",
       "      <td>0.972222</td>\n",
       "    </tr>\n",
       "    <tr>\n",
       "      <th>196</th>\n",
       "      <td>0.534884</td>\n",
       "      <td>0.546875</td>\n",
       "      <td>0.972222</td>\n",
       "    </tr>\n",
       "    <tr>\n",
       "      <th>197</th>\n",
       "      <td>0.627907</td>\n",
       "      <td>0.562500</td>\n",
       "      <td>0.972222</td>\n",
       "    </tr>\n",
       "    <tr>\n",
       "      <th>198</th>\n",
       "      <td>0.744186</td>\n",
       "      <td>0.651042</td>\n",
       "      <td>0.972222</td>\n",
       "    </tr>\n",
       "    <tr>\n",
       "      <th>199</th>\n",
       "      <td>0.263566</td>\n",
       "      <td>0.234375</td>\n",
       "      <td>0.972222</td>\n",
       "    </tr>\n",
       "    <tr>\n",
       "      <th>200</th>\n",
       "      <td>0.689922</td>\n",
       "      <td>0.390625</td>\n",
       "      <td>0.972222</td>\n",
       "    </tr>\n",
       "    <tr>\n",
       "      <th>201</th>\n",
       "      <td>0.379845</td>\n",
       "      <td>0.390625</td>\n",
       "      <td>0.972222</td>\n",
       "    </tr>\n",
       "    <tr>\n",
       "      <th>202</th>\n",
       "      <td>0.457364</td>\n",
       "      <td>0.390625</td>\n",
       "      <td>0.972222</td>\n",
       "    </tr>\n",
       "    <tr>\n",
       "      <th>203</th>\n",
       "      <td>0.302326</td>\n",
       "      <td>0.234375</td>\n",
       "      <td>0.972222</td>\n",
       "    </tr>\n",
       "    <tr>\n",
       "      <th>204</th>\n",
       "      <td>0.263566</td>\n",
       "      <td>0.234375</td>\n",
       "      <td>0.972222</td>\n",
       "    </tr>\n",
       "    <tr>\n",
       "      <th>205</th>\n",
       "      <td>0.263566</td>\n",
       "      <td>0.651042</td>\n",
       "      <td>0.972222</td>\n",
       "    </tr>\n",
       "    <tr>\n",
       "      <th>206</th>\n",
       "      <td>0.457364</td>\n",
       "      <td>0.390625</td>\n",
       "      <td>0.972222</td>\n",
       "    </tr>\n",
       "    <tr>\n",
       "      <th>207</th>\n",
       "      <td>0.000000</td>\n",
       "      <td>0.234375</td>\n",
       "      <td>0.972222</td>\n",
       "    </tr>\n",
       "    <tr>\n",
       "      <th>208</th>\n",
       "      <td>0.364341</td>\n",
       "      <td>0.937500</td>\n",
       "      <td>0.972222</td>\n",
       "    </tr>\n",
       "    <tr>\n",
       "      <th>209</th>\n",
       "      <td>0.534884</td>\n",
       "      <td>0.973958</td>\n",
       "      <td>0.972222</td>\n",
       "    </tr>\n",
       "    <tr>\n",
       "      <th>210</th>\n",
       "      <td>0.472868</td>\n",
       "      <td>0.546875</td>\n",
       "      <td>1.000000</td>\n",
       "    </tr>\n",
       "  </tbody>\n",
       "</table>\n",
       "<p>211 rows × 3 columns</p>\n",
       "</div>"
      ],
      "text/plain": [
       "        Price       ABV    Rating\n",
       "0    0.147287  0.234375  0.000000\n",
       "1    0.069767  0.234375  0.000000\n",
       "2    0.100775  0.234375  0.027778\n",
       "3    0.108527  0.234375  0.027778\n",
       "4    0.186047  0.234375  0.083333\n",
       "5    0.302326  0.390625  0.083333\n",
       "6    0.379845  0.234375  0.083333\n",
       "7    0.418605  0.234375  0.083333\n",
       "8    0.023256  0.234375  0.083333\n",
       "9    0.108527  0.234375  0.111111\n",
       "10   0.007752  0.234375  0.111111\n",
       "11   0.093023  0.234375  0.138889\n",
       "12   0.093023  0.234375  0.138889\n",
       "13   0.031008  0.234375  0.138889\n",
       "14   0.124031  0.494792  0.138889\n",
       "15   0.069767  0.234375  0.138889\n",
       "16   0.263566  0.390625  0.166667\n",
       "17   0.116279  0.234375  0.166667\n",
       "18   0.124031  0.234375  0.194444\n",
       "19   0.302326  0.390625  0.194444\n",
       "20   0.286822  0.546875  0.222222\n",
       "21   0.565891  0.234375  0.250000\n",
       "22   0.612403  0.234375  0.250000\n",
       "23   0.612403  0.546875  0.277778\n",
       "24   0.224806  0.234375  0.277778\n",
       "25   0.302326  0.494792  0.277778\n",
       "26   0.364341  0.234375  0.277778\n",
       "27   0.573643  0.390625  0.305556\n",
       "28   0.271318  0.494792  0.333333\n",
       "29   0.209302  0.911458  0.333333\n",
       "..        ...       ...       ...\n",
       "181  0.147287  0.234375  0.888889\n",
       "182  0.527132  0.390625  0.888889\n",
       "183  0.248062  0.562500  0.888889\n",
       "184  0.333333  0.234375  0.888889\n",
       "185  0.286822  0.390625  0.888889\n",
       "186  0.108527  0.234375  0.888889\n",
       "187  0.147287  0.234375  0.888889\n",
       "188  0.224806  0.234375  0.888889\n",
       "189  0.418605  0.651042  0.888889\n",
       "190  0.410853  0.234375  0.888889\n",
       "191  0.224806  0.546875  0.888889\n",
       "192  0.868217  0.234375  0.916667\n",
       "193  0.186047  0.234375  0.972222\n",
       "194  0.844961  0.390625  0.972222\n",
       "195  0.240310  0.234375  0.972222\n",
       "196  0.534884  0.546875  0.972222\n",
       "197  0.627907  0.562500  0.972222\n",
       "198  0.744186  0.651042  0.972222\n",
       "199  0.263566  0.234375  0.972222\n",
       "200  0.689922  0.390625  0.972222\n",
       "201  0.379845  0.390625  0.972222\n",
       "202  0.457364  0.390625  0.972222\n",
       "203  0.302326  0.234375  0.972222\n",
       "204  0.263566  0.234375  0.972222\n",
       "205  0.263566  0.651042  0.972222\n",
       "206  0.457364  0.390625  0.972222\n",
       "207  0.000000  0.234375  0.972222\n",
       "208  0.364341  0.937500  0.972222\n",
       "209  0.534884  0.973958  0.972222\n",
       "210  0.472868  0.546875  1.000000\n",
       "\n",
       "[211 rows x 3 columns]"
      ]
     },
     "execution_count": 119,
     "metadata": {},
     "output_type": "execute_result"
    }
   ],
   "source": [
    "wk"
   ]
  },
  {
   "cell_type": "code",
   "execution_count": null,
   "metadata": {},
   "outputs": [],
   "source": [
    "wk['Cluster'] = wk['Rating'].apply(converter)"
   ]
  },
  {
   "cell_type": "code",
   "execution_count": null,
   "metadata": {},
   "outputs": [],
   "source": [
    "wk"
   ]
  },
  {
   "cell_type": "code",
   "execution_count": null,
   "metadata": {},
   "outputs": [],
   "source": [
    "print(confusion_matrix(wk['Cluster'],kmeans.labels_))\n",
    "print(classification_report(wk['Cluster'],kmeans.labels_))"
   ]
  },
  {
   "cell_type": "code",
   "execution_count": null,
   "metadata": {},
   "outputs": [],
   "source": []
  }
 ],
 "metadata": {
  "kernelspec": {
   "display_name": "Python 3",
   "language": "python",
   "name": "python3"
  },
  "language_info": {
   "codemirror_mode": {
    "name": "ipython",
    "version": 3
   },
   "file_extension": ".py",
   "mimetype": "text/x-python",
   "name": "python",
   "nbconvert_exporter": "python",
   "pygments_lexer": "ipython3",
   "version": "3.6.7"
  }
 },
 "nbformat": 4,
 "nbformat_minor": 2
}

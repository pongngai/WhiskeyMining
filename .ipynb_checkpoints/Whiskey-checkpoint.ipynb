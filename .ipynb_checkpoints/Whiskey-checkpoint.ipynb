{
 "cells": [
  {
   "cell_type": "code",
   "execution_count": 1,
   "metadata": {},
   "outputs": [],
   "source": [
    "#Import Library for analyzing\n",
    "import pandas as pd\n",
    "import numpy as np\n",
    "import requests\n",
    "from io import StringIO\n",
    "import math"
   ]
  },
  {
   "cell_type": "code",
   "execution_count": 2,
   "metadata": {},
   "outputs": [],
   "source": [
    "#Read CSV file from url \n",
    "#Keep in whiskey(pandas)\n",
    "url = \"https://github.com/Brunel-Visualization/Brunel/raw/master/python/examples/data/whiskey.csv\"\n",
    "s = requests.get(url).text\n",
    "whiskey = pd.read_csv(StringIO(s))"
   ]
  },
  {
   "cell_type": "code",
   "execution_count": 3,
   "metadata": {},
   "outputs": [
    {
     "data": {
      "text/plain": [
       "(283, 8)"
      ]
     },
     "execution_count": 3,
     "metadata": {},
     "output_type": "execute_result"
    }
   ],
   "source": [
    "#Show number of record (rows,columns)\n",
    "whiskey.shape"
   ]
  },
  {
   "cell_type": "code",
   "execution_count": 4,
   "metadata": {},
   "outputs": [
    {
     "data": {
      "text/plain": [
       "Name         object\n",
       "Rating      float64\n",
       "Country      object\n",
       "Category     object\n",
       "Price       float64\n",
       "ABV         float64\n",
       "Age         float64\n",
       "Brand        object\n",
       "dtype: object"
      ]
     },
     "execution_count": 4,
     "metadata": {},
     "output_type": "execute_result"
    }
   ],
   "source": [
    "#Show data type of each arttibute\n",
    "whiskey.dtypes"
   ]
  },
  {
   "cell_type": "code",
   "execution_count": 5,
   "metadata": {},
   "outputs": [
    {
     "name": "stdout",
     "output_type": "stream",
     "text": [
      "count    272.000000\n",
      "mean      84.474265\n",
      "std       11.877887\n",
      "min       40.000000\n",
      "25%       80.000000\n",
      "50%       88.000000\n",
      "75%       94.000000\n",
      "max      100.000000\n",
      "Name: Rating, dtype: float64\n",
      "\n",
      "\n",
      "count    279.000000\n",
      "mean      72.483871\n",
      "std       83.992242\n",
      "min        2.000000\n",
      "25%       30.000000\n",
      "50%       50.000000\n",
      "75%       80.000000\n",
      "max      850.000000\n",
      "Name: Price, dtype: float64\n",
      "\n",
      "\n",
      "count    270.000000\n",
      "mean      44.610444\n",
      "std        5.883056\n",
      "min       35.500000\n",
      "25%       40.000000\n",
      "50%       43.000000\n",
      "75%       46.000000\n",
      "max       68.200000\n",
      "Name: ABV, dtype: float64\n",
      "\n",
      "\n",
      "count    174.000000\n",
      "mean      14.339080\n",
      "std        6.322267\n",
      "min        0.000000\n",
      "25%       10.000000\n",
      "50%       14.500000\n",
      "75%       18.000000\n",
      "max       40.000000\n",
      "Name: Age, dtype: float64\n",
      "\n",
      "\n"
     ]
    }
   ],
   "source": [
    "#Describe basic statistic for each numeric attribute\n",
    "for x in ('Rating','Price','ABV','Age'):\n",
    "    print(whiskey[x].describe())\n",
    "    print('\\n')"
   ]
  },
  {
   "cell_type": "code",
   "execution_count": 6,
   "metadata": {},
   "outputs": [
    {
     "name": "stdout",
     "output_type": "stream",
     "text": [
      "count                                283\n",
      "unique                               283\n",
      "top       Wild Turkey Rare Breed Bourbon\n",
      "freq                                   1\n",
      "Name: Name, dtype: object\n",
      "\n",
      "\n",
      "count          283\n",
      "unique           9\n",
      "top       Scotland\n",
      "freq           108\n",
      "Name: Country, dtype: object\n",
      "\n",
      "\n",
      "count         283\n",
      "unique         15\n",
      "top       Blended\n",
      "freq           73\n",
      "Name: Category, dtype: object\n",
      "\n",
      "\n",
      "count         283\n",
      "unique        153\n",
      "top       Kavalan\n",
      "freq            7\n",
      "Name: Brand, dtype: object\n",
      "\n",
      "\n"
     ]
    }
   ],
   "source": [
    "#Describe basic statistic for each norminal attribute\n",
    "for x in ['Name','Country','Category','Brand']:\n",
    "    print(whiskey[x].describe())\n",
    "    print('\\n')"
   ]
  },
  {
   "cell_type": "code",
   "execution_count": 8,
   "metadata": {},
   "outputs": [
    {
     "data": {
      "text/plain": [
       "Name          0\n",
       "Rating       11\n",
       "Country       0\n",
       "Category      0\n",
       "Price         4\n",
       "ABV          13\n",
       "Age         109\n",
       "Brand         0\n",
       "dtype: int64"
      ]
     },
     "execution_count": 8,
     "metadata": {},
     "output_type": "execute_result"
    }
   ],
   "source": [
    "#Show missing value of each attribute\n",
    "whiskey.isnull().sum()"
   ]
  },
  {
   "cell_type": "code",
   "execution_count": 9,
   "metadata": {
    "scrolled": true
   },
   "outputs": [],
   "source": [
    "#Import pandas -> numpy\n",
    "x = whiskey.values"
   ]
  },
  {
   "cell_type": "code",
   "execution_count": 10,
   "metadata": {},
   "outputs": [],
   "source": [
    "#Cut attribute Name because it is unique\n",
    "x = x[:,1:]"
   ]
  },
  {
   "cell_type": "code",
   "execution_count": 11,
   "metadata": {},
   "outputs": [
    {
     "data": {
      "text/plain": [
       "array([40.0, 43.0, 47.0, 47.0, 48.0, 50.0, 53.0, 54.0, 54.0, 54.0, 56.0,\n",
       "       56.0, 57.0, 57.0, 58.0, 60.0, 60.0, 64.0, 64.0, 65.0, 65.0, 67.0,\n",
       "       67.0, 67.0, 67.0, 67.0, 68.0, 68.0, 69.0, 69.0, 69.0, 69.0, 69.0,\n",
       "       70.0, 70.0, 71.0, 71.0, 72.0, 73.0, 73.0, 74.0, 74.0, 74.0, 74.0,\n",
       "       75.0, 76.0, 76.0, 76.0, 76.0, 76.0, 76.0, 77.0, 77.0, 77.0, 77.0,\n",
       "       77.0, 78.0, 78.0, 78.0, 78.0, 79.0, 79.0, 79.0, 79.0, 80.0, 80.0,\n",
       "       80.0, 80.0, 80.0, 80.0, 81.0, 81.0, 81.0, 81.0, 81.0, 81.0, 81.0,\n",
       "       81.0, 81.0, 81.0, 81.0, 81.0, 81.0, 81.0, 81.0, 81.0, 81.0, 81.0,\n",
       "       82.0, 82.0, 82.0, 82.0, 82.0, 82.0, 82.0, 82.0, 83.0, 83.0, 83.0,\n",
       "       83.0, 83.0, 83.0, 83.0, 83.0, 84.0, 84.0, 84.0, 84.0, 84.0, 84.0,\n",
       "       85.0, 85.0, 85.0, 85.0, 85.0, 85.0, 85.0, 85.0, 86.0, 86.0, 86.0,\n",
       "       86.0, 86.0, 86.0, 86.0, 86.0, 86.0, 87.0, 87.0, 87.0, 87.0, 87.0,\n",
       "       87.0, 87.0, 87.0, 88.0, 88.0, 88.0, 88.0, 88.0, 88.0, 88.0, 88.0,\n",
       "       88.0, 88.0, 88.0, 88.0, 88.0, 88.0, 88.0, 88.0, 88.0, 88.0, 88.0,\n",
       "       88.0, 88.0, 88.0, 88.0, 88.0, 88.0, 88.0, 88.0, 88.0, 88.0, 89.0,\n",
       "       89.0, 89.0, 89.0, 89.0, 89.0, 89.0, 90.0, 90.0, 90.0, 90.0, 90.0,\n",
       "       90.0, 90.0, 90.0, 90.0, 90.0, 90.0, 90.0, 91.0, 91.0, 91.0, 91.0,\n",
       "       91.0, 91.0, 92.0, 92.0, 92.0, 92.0, 92.0, 92.0, 92.0, 92.0, 92.0,\n",
       "       93.0, 93.0, 93.0, 93.0, 94.0, 94.0, 94.0, 94.0, 94.0, 94.0, 94.0,\n",
       "       94.0, 94.0, 94.0, 94.0, 94.0, 94.0, 94.0, 94.0, 95.0, 95.0, 95.0,\n",
       "       96.0, 96.0, 96.0, 96.0, 96.0, 96.0, 96.0, 96.0, 96.0, 96.0, 96.0,\n",
       "       96.0, 96.0, 96.0, 96.0, 96.0, 96.0, 96.0, 96.0, 96.0, 96.0, 96.0,\n",
       "       96.0, 96.0, 96.0, 96.0, 96.0, 96.0, 96.0, 97.0, 99.0, 99.0, 99.0,\n",
       "       99.0, 99.0, 99.0, 99.0, 99.0, 99.0, 99.0, 99.0, 99.0, 99.0, 99.0,\n",
       "       99.0, 99.0, 99.0, 99.0, 99.0, 99.0, 100.0, 100.0, nan, nan, nan,\n",
       "       nan, nan, nan, nan, nan, nan, nan, nan], dtype=object)"
      ]
     },
     "execution_count": 11,
     "metadata": {},
     "output_type": "execute_result"
    }
   ],
   "source": [
    "#Show column Rating\n",
    "x[:,0]"
   ]
  },
  {
   "cell_type": "code",
   "execution_count": 12,
   "metadata": {},
   "outputs": [],
   "source": [
    "#Find median of each numeric attribute\n",
    "med_rating = np.median([xx for xx in x[:,0] if not math.isnan(xx)])\n",
    "med_price = np.median([xx for xx in x[:,3] if not math.isnan(xx)])\n",
    "med_avb = np.median([xx for xx in x[:,4] if not math.isnan(xx)])\n",
    "med_age = np.median([xx for xx in x[:,5] if not math.isnan(xx)])"
   ]
  },
  {
   "cell_type": "code",
   "execution_count": 13,
   "metadata": {},
   "outputs": [],
   "source": [
    "#Create new attribute to replace missing value with median of each attribute\n",
    "rating = [med_rating if math.isnan(xx) else xx for xx in x[:,0]]\n",
    "price = [med_price if math.isnan(xx) else xx for xx in x[:,3]]\n",
    "avb = [med_avb if math.isnan(xx) else xx for xx in x[:,4]]\n",
    "age = [med_age if math.isnan(xx) else xx for xx in x[:,5]]"
   ]
  },
  {
   "cell_type": "code",
   "execution_count": 14,
   "metadata": {},
   "outputs": [],
   "source": [
    "#Detecting Outlier\n",
    "def outlier_ei(x):\n",
    "    rating_q1 = np.percentile(x,25)\n",
    "    rating_q3 = np.percentile(x,75)\n",
    "    IQR = rating_q3 - rating_q1\n",
    "    lower_outlier = rating_q1 - (1.5*IQR)\n",
    "    higher_outlier = rating_q3 + (1.5*IQR)\n",
    "    return lower_outlier, higher_outlier"
   ]
  },
  {
   "cell_type": "code",
   "execution_count": 15,
   "metadata": {},
   "outputs": [],
   "source": [
    "#Detecting Outlier\n",
    "def del_outlier(x):\n",
    "    l, h = outlier_ei(x)\n",
    "    return [xx for xx in x if xx >= l and xx <= h]"
   ]
  },
  {
   "cell_type": "code",
   "execution_count": 16,
   "metadata": {},
   "outputs": [],
   "source": [
    "#Create new attribute to keep value in range  lower_outlier < x < higher_outlier\n",
    "new_rating = del_outlier(rating)\n",
    "new_price = del_outlier(price)\n",
    "new_avb = del_outlier(avb)\n",
    "new_age = del_outlier(age)"
   ]
  },
  {
   "cell_type": "code",
   "execution_count": null,
   "metadata": {},
   "outputs": [],
   "source": []
  }
 ],
 "metadata": {
  "kernelspec": {
   "display_name": "Python 3",
   "language": "python",
   "name": "python3"
  },
  "language_info": {
   "codemirror_mode": {
    "name": "ipython",
    "version": 3
   },
   "file_extension": ".py",
   "mimetype": "text/x-python",
   "name": "python",
   "nbconvert_exporter": "python",
   "pygments_lexer": "ipython3",
   "version": "3.6.6"
  }
 },
 "nbformat": 4,
 "nbformat_minor": 2
}
